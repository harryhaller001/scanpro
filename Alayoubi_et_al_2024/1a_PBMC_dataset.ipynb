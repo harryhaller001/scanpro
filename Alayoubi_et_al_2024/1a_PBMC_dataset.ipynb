{
 "cells": [
  {
   "cell_type": "markdown",
   "metadata": {},
   "source": [
    "# 1. PBMC data of immune cells from young and old, male and female samples\n",
    "\n",
    "Huang, Zhaohao, Binyao Chen, Xiuxing Liu, He Li, Lihui Xie, Yuehan Gao, Runping Duan, et al. 2021. “Effects of Sex and Aging on the Immune Cell Landscape as Assessed by Single-Cell Transcriptomic Analysis.” Proceedings of the National Academy of Sciences of the United States of America 118 (33). https://doi.org/10.1073/pnas.2023216118."
   ]
  },
  {
   "cell_type": "code",
   "execution_count": 1,
   "metadata": {},
   "outputs": [],
   "source": [
    "import os\n",
    "import sys\n",
    "import pandas as pd\n",
    "\n",
    "# Scanpro functions\n",
    "from scanpro import scanpro\n",
    "from scanpro.utils import convert_counts_to_df"
   ]
  },
  {
   "cell_type": "code",
   "execution_count": 2,
   "metadata": {},
   "outputs": [],
   "source": [
    "# path where figures are going to be saved\n",
    "FIG_PATH = 'plots'"
   ]
  },
  {
   "cell_type": "markdown",
   "metadata": {},
   "source": [
    "------------------"
   ]
  },
  {
   "cell_type": "markdown",
   "metadata": {},
   "source": [
    "## Read data"
   ]
  },
  {
   "cell_type": "code",
   "execution_count": 3,
   "metadata": {},
   "outputs": [],
   "source": [
    "pbmc_counts = pd.read_csv(\"data/pbmc_counts.tsv\", sep=\"\\t\")"
   ]
  },
  {
   "cell_type": "code",
   "execution_count": 4,
   "metadata": {},
   "outputs": [
    {
     "data": {
      "text/html": [
       "<div>\n",
       "<style scoped>\n",
       "    .dataframe tbody tr th:only-of-type {\n",
       "        vertical-align: middle;\n",
       "    }\n",
       "\n",
       "    .dataframe tbody tr th {\n",
       "        vertical-align: top;\n",
       "    }\n",
       "\n",
       "    .dataframe thead th {\n",
       "        text-align: right;\n",
       "    }\n",
       "</style>\n",
       "<table border=\"1\" class=\"dataframe\">\n",
       "  <thead>\n",
       "    <tr style=\"text-align: right;\">\n",
       "      <th></th>\n",
       "      <th>Sample</th>\n",
       "      <th>Condition</th>\n",
       "      <th>Sex</th>\n",
       "      <th>Age</th>\n",
       "      <th>B cells</th>\n",
       "      <th>Dendritic cells</th>\n",
       "      <th>Monocytes</th>\n",
       "      <th>NK cells</th>\n",
       "      <th>T cells</th>\n",
       "    </tr>\n",
       "  </thead>\n",
       "  <tbody>\n",
       "    <tr>\n",
       "      <th>0</th>\n",
       "      <td>OF1</td>\n",
       "      <td>OF</td>\n",
       "      <td>Female</td>\n",
       "      <td>Old</td>\n",
       "      <td>1449</td>\n",
       "      <td>135</td>\n",
       "      <td>1342</td>\n",
       "      <td>1328</td>\n",
       "      <td>4574</td>\n",
       "    </tr>\n",
       "    <tr>\n",
       "      <th>1</th>\n",
       "      <td>OF2</td>\n",
       "      <td>OF</td>\n",
       "      <td>Female</td>\n",
       "      <td>Old</td>\n",
       "      <td>677</td>\n",
       "      <td>148</td>\n",
       "      <td>2159</td>\n",
       "      <td>746</td>\n",
       "      <td>5097</td>\n",
       "    </tr>\n",
       "    <tr>\n",
       "      <th>2</th>\n",
       "      <td>OF3</td>\n",
       "      <td>OF</td>\n",
       "      <td>Female</td>\n",
       "      <td>Old</td>\n",
       "      <td>552</td>\n",
       "      <td>124</td>\n",
       "      <td>1507</td>\n",
       "      <td>1108</td>\n",
       "      <td>5535</td>\n",
       "    </tr>\n",
       "    <tr>\n",
       "      <th>3</th>\n",
       "      <td>OF4</td>\n",
       "      <td>OF</td>\n",
       "      <td>Female</td>\n",
       "      <td>Old</td>\n",
       "      <td>666</td>\n",
       "      <td>146</td>\n",
       "      <td>1277</td>\n",
       "      <td>589</td>\n",
       "      <td>6151</td>\n",
       "    </tr>\n",
       "    <tr>\n",
       "      <th>4</th>\n",
       "      <td>OF5</td>\n",
       "      <td>OF</td>\n",
       "      <td>Female</td>\n",
       "      <td>Old</td>\n",
       "      <td>653</td>\n",
       "      <td>137</td>\n",
       "      <td>2027</td>\n",
       "      <td>1632</td>\n",
       "      <td>4379</td>\n",
       "    </tr>\n",
       "  </tbody>\n",
       "</table>\n",
       "</div>"
      ],
      "text/plain": [
       "  Sample Condition     Sex  Age  B cells  Dendritic cells  Monocytes  \\\n",
       "0    OF1        OF  Female  Old     1449              135       1342   \n",
       "1    OF2        OF  Female  Old      677              148       2159   \n",
       "2    OF3        OF  Female  Old      552              124       1507   \n",
       "3    OF4        OF  Female  Old      666              146       1277   \n",
       "4    OF5        OF  Female  Old      653              137       2027   \n",
       "\n",
       "   NK cells  T cells  \n",
       "0      1328     4574  \n",
       "1       746     5097  \n",
       "2      1108     5535  \n",
       "3       589     6151  \n",
       "4      1632     4379  "
      ]
     },
     "execution_count": 4,
     "metadata": {},
     "output_type": "execute_result"
    }
   ],
   "source": [
    "pbmc_counts.head()"
   ]
  },
  {
   "cell_type": "code",
   "execution_count": 5,
   "metadata": {},
   "outputs": [
    {
     "data": {
      "text/html": [
       "<div>\n",
       "<style scoped>\n",
       "    .dataframe tbody tr th:only-of-type {\n",
       "        vertical-align: middle;\n",
       "    }\n",
       "\n",
       "    .dataframe tbody tr th {\n",
       "        vertical-align: top;\n",
       "    }\n",
       "\n",
       "    .dataframe thead th {\n",
       "        text-align: right;\n",
       "    }\n",
       "</style>\n",
       "<table border=\"1\" class=\"dataframe\">\n",
       "  <thead>\n",
       "    <tr style=\"text-align: right;\">\n",
       "      <th></th>\n",
       "      <th>Sample</th>\n",
       "      <th>Condition</th>\n",
       "      <th>Sex</th>\n",
       "      <th>Age</th>\n",
       "      <th>Celltype</th>\n",
       "    </tr>\n",
       "  </thead>\n",
       "  <tbody>\n",
       "    <tr>\n",
       "      <th>cell_1</th>\n",
       "      <td>OF1</td>\n",
       "      <td>OF</td>\n",
       "      <td>Female</td>\n",
       "      <td>Old</td>\n",
       "      <td>B cells</td>\n",
       "    </tr>\n",
       "    <tr>\n",
       "      <th>cell_2</th>\n",
       "      <td>OF1</td>\n",
       "      <td>OF</td>\n",
       "      <td>Female</td>\n",
       "      <td>Old</td>\n",
       "      <td>B cells</td>\n",
       "    </tr>\n",
       "    <tr>\n",
       "      <th>cell_3</th>\n",
       "      <td>OF1</td>\n",
       "      <td>OF</td>\n",
       "      <td>Female</td>\n",
       "      <td>Old</td>\n",
       "      <td>B cells</td>\n",
       "    </tr>\n",
       "    <tr>\n",
       "      <th>cell_4</th>\n",
       "      <td>OF1</td>\n",
       "      <td>OF</td>\n",
       "      <td>Female</td>\n",
       "      <td>Old</td>\n",
       "      <td>B cells</td>\n",
       "    </tr>\n",
       "    <tr>\n",
       "      <th>cell_5</th>\n",
       "      <td>OF1</td>\n",
       "      <td>OF</td>\n",
       "      <td>Female</td>\n",
       "      <td>Old</td>\n",
       "      <td>B cells</td>\n",
       "    </tr>\n",
       "  </tbody>\n",
       "</table>\n",
       "</div>"
      ],
      "text/plain": [
       "       Sample Condition     Sex  Age Celltype\n",
       "cell_1    OF1        OF  Female  Old  B cells\n",
       "cell_2    OF1        OF  Female  Old  B cells\n",
       "cell_3    OF1        OF  Female  Old  B cells\n",
       "cell_4    OF1        OF  Female  Old  B cells\n",
       "cell_5    OF1        OF  Female  Old  B cells"
      ]
     },
     "execution_count": 5,
     "metadata": {},
     "output_type": "execute_result"
    }
   ],
   "source": [
    "# Convert count matrix to long format\n",
    "pbmc = convert_counts_to_df(pbmc_counts, column_name=\"Celltype\")\n",
    "pbmc.head()"
   ]
  },
  {
   "cell_type": "markdown",
   "metadata": {},
   "source": [
    "-------"
   ]
  },
  {
   "cell_type": "markdown",
   "metadata": {},
   "source": [
    "## Run Scanpro"
   ]
  },
  {
   "cell_type": "markdown",
   "metadata": {},
   "source": [
    "### Young vs Old"
   ]
  },
  {
   "cell_type": "code",
   "execution_count": 6,
   "metadata": {},
   "outputs": [
    {
     "name": "stdout",
     "output_type": "stream",
     "text": [
      "[INFO] There are 2 conditions. T-Test will be performed...\n",
      "[INFO] Done!\n"
     ]
    },
    {
     "data": {
      "text/html": [
       "<div>\n",
       "<style scoped>\n",
       "    .dataframe tbody tr th:only-of-type {\n",
       "        vertical-align: middle;\n",
       "    }\n",
       "\n",
       "    .dataframe tbody tr th {\n",
       "        vertical-align: top;\n",
       "    }\n",
       "\n",
       "    .dataframe thead th {\n",
       "        text-align: right;\n",
       "    }\n",
       "</style>\n",
       "<table border=\"1\" class=\"dataframe\">\n",
       "  <thead>\n",
       "    <tr style=\"text-align: right;\">\n",
       "      <th></th>\n",
       "      <th>baseline_props</th>\n",
       "      <th>mean_props_Old</th>\n",
       "      <th>mean_props_Young</th>\n",
       "      <th>prop_ratio</th>\n",
       "      <th>t_statistics</th>\n",
       "      <th>p_values</th>\n",
       "      <th>adjusted_p_values</th>\n",
       "    </tr>\n",
       "    <tr>\n",
       "      <th>clusters</th>\n",
       "      <th></th>\n",
       "      <th></th>\n",
       "      <th></th>\n",
       "      <th></th>\n",
       "      <th></th>\n",
       "      <th></th>\n",
       "      <th></th>\n",
       "    </tr>\n",
       "  </thead>\n",
       "  <tbody>\n",
       "    <tr>\n",
       "      <th>B cells</th>\n",
       "      <td>0.098383</td>\n",
       "      <td>0.094222</td>\n",
       "      <td>0.102401</td>\n",
       "      <td>0.920131</td>\n",
       "      <td>-0.820489</td>\n",
       "      <td>0.415800</td>\n",
       "      <td>0.519750</td>\n",
       "    </tr>\n",
       "    <tr>\n",
       "      <th>Dendritic cells</th>\n",
       "      <td>0.017112</td>\n",
       "      <td>0.016362</td>\n",
       "      <td>0.018018</td>\n",
       "      <td>0.908097</td>\n",
       "      <td>-0.251112</td>\n",
       "      <td>0.802748</td>\n",
       "      <td>0.802748</td>\n",
       "    </tr>\n",
       "    <tr>\n",
       "      <th>Monocytes</th>\n",
       "      <td>0.171416</td>\n",
       "      <td>0.196655</td>\n",
       "      <td>0.143211</td>\n",
       "      <td>1.373180</td>\n",
       "      <td>2.608123</td>\n",
       "      <td>0.011948</td>\n",
       "      <td>0.059738</td>\n",
       "    </tr>\n",
       "    <tr>\n",
       "      <th>NK cells</th>\n",
       "      <td>0.146479</td>\n",
       "      <td>0.158121</td>\n",
       "      <td>0.133477</td>\n",
       "      <td>1.184627</td>\n",
       "      <td>1.081533</td>\n",
       "      <td>0.284606</td>\n",
       "      <td>0.474344</td>\n",
       "    </tr>\n",
       "    <tr>\n",
       "      <th>T cells</th>\n",
       "      <td>0.566610</td>\n",
       "      <td>0.534640</td>\n",
       "      <td>0.602892</td>\n",
       "      <td>0.886791</td>\n",
       "      <td>-1.780506</td>\n",
       "      <td>0.081019</td>\n",
       "      <td>0.202548</td>\n",
       "    </tr>\n",
       "  </tbody>\n",
       "</table>\n",
       "</div>"
      ],
      "text/plain": [
       "                 baseline_props  mean_props_Old  mean_props_Young  prop_ratio  \\\n",
       "clusters                                                                        \n",
       "B cells                0.098383        0.094222          0.102401    0.920131   \n",
       "Dendritic cells        0.017112        0.016362          0.018018    0.908097   \n",
       "Monocytes              0.171416        0.196655          0.143211    1.373180   \n",
       "NK cells               0.146479        0.158121          0.133477    1.184627   \n",
       "T cells                0.566610        0.534640          0.602892    0.886791   \n",
       "\n",
       "                 t_statistics  p_values  adjusted_p_values  \n",
       "clusters                                                    \n",
       "B cells             -0.820489  0.415800           0.519750  \n",
       "Dendritic cells     -0.251112  0.802748           0.802748  \n",
       "Monocytes            2.608123  0.011948           0.059738  \n",
       "NK cells             1.081533  0.284606           0.474344  \n",
       "T cells             -1.780506  0.081019           0.202548  "
      ]
     },
     "execution_count": 6,
     "metadata": {},
     "output_type": "execute_result"
    }
   ],
   "source": [
    "pbmc_young_old = scanpro(pbmc, samples_col='Sample', clusters_col='Celltype', conds_col='Age')\n",
    "pbmc_young_old.results"
   ]
  },
  {
   "cell_type": "code",
   "execution_count": 7,
   "metadata": {},
   "outputs": [
    {
     "data": {
      "image/png": "[encoded data removed]",
      "text/plain": [
       "<Figure size 900x800 with 6 Axes>"
      ]
     },
     "metadata": {},
     "output_type": "display_data"
    }
   ],
   "source": [
    "pbmc_young_old.plot(save=\"plots/pbmc_age_stripplot.pdf\")"
   ]
  },
  {
   "cell_type": "markdown",
   "metadata": {},
   "source": [
    "#### With sex as covariate"
   ]
  },
  {
   "cell_type": "code",
   "execution_count": 8,
   "metadata": {},
   "outputs": [
    {
     "name": "stdout",
     "output_type": "stream",
     "text": [
      "[INFO] There are 2 conditions. T-Test will be performed...\n",
      "[INFO] Done!\n"
     ]
    },
    {
     "data": {
      "text/html": [
       "<div>\n",
       "<style scoped>\n",
       "    .dataframe tbody tr th:only-of-type {\n",
       "        vertical-align: middle;\n",
       "    }\n",
       "\n",
       "    .dataframe tbody tr th {\n",
       "        vertical-align: top;\n",
       "    }\n",
       "\n",
       "    .dataframe thead th {\n",
       "        text-align: right;\n",
       "    }\n",
       "</style>\n",
       "<table border=\"1\" class=\"dataframe\">\n",
       "  <thead>\n",
       "    <tr style=\"text-align: right;\">\n",
       "      <th></th>\n",
       "      <th>baseline_props</th>\n",
       "      <th>mean_props_Old</th>\n",
       "      <th>mean_props_Young</th>\n",
       "      <th>prop_ratio</th>\n",
       "      <th>t_statistics</th>\n",
       "      <th>p_values</th>\n",
       "      <th>adjusted_p_values</th>\n",
       "    </tr>\n",
       "    <tr>\n",
       "      <th>clusters</th>\n",
       "      <th></th>\n",
       "      <th></th>\n",
       "      <th></th>\n",
       "      <th></th>\n",
       "      <th></th>\n",
       "      <th></th>\n",
       "      <th></th>\n",
       "    </tr>\n",
       "  </thead>\n",
       "  <tbody>\n",
       "    <tr>\n",
       "      <th>B cells</th>\n",
       "      <td>0.098383</td>\n",
       "      <td>0.094222</td>\n",
       "      <td>0.102401</td>\n",
       "      <td>0.920131</td>\n",
       "      <td>-0.847305</td>\n",
       "      <td>0.399205</td>\n",
       "      <td>0.499006</td>\n",
       "    </tr>\n",
       "    <tr>\n",
       "      <th>Dendritic cells</th>\n",
       "      <td>0.017112</td>\n",
       "      <td>0.016362</td>\n",
       "      <td>0.018018</td>\n",
       "      <td>0.908097</td>\n",
       "      <td>-0.240203</td>\n",
       "      <td>0.810751</td>\n",
       "      <td>0.810751</td>\n",
       "    </tr>\n",
       "    <tr>\n",
       "      <th>Monocytes</th>\n",
       "      <td>0.171416</td>\n",
       "      <td>0.196655</td>\n",
       "      <td>0.143211</td>\n",
       "      <td>1.373180</td>\n",
       "      <td>2.446304</td>\n",
       "      <td>0.016494</td>\n",
       "      <td>0.082471</td>\n",
       "    </tr>\n",
       "    <tr>\n",
       "      <th>NK cells</th>\n",
       "      <td>0.146479</td>\n",
       "      <td>0.158121</td>\n",
       "      <td>0.133477</td>\n",
       "      <td>1.184627</td>\n",
       "      <td>1.220507</td>\n",
       "      <td>0.225648</td>\n",
       "      <td>0.376080</td>\n",
       "    </tr>\n",
       "    <tr>\n",
       "      <th>T cells</th>\n",
       "      <td>0.566610</td>\n",
       "      <td>0.534640</td>\n",
       "      <td>0.602892</td>\n",
       "      <td>0.886791</td>\n",
       "      <td>-1.782987</td>\n",
       "      <td>0.078158</td>\n",
       "      <td>0.195396</td>\n",
       "    </tr>\n",
       "  </tbody>\n",
       "</table>\n",
       "</div>"
      ],
      "text/plain": [
       "                 baseline_props  mean_props_Old  mean_props_Young  prop_ratio  \\\n",
       "clusters                                                                        \n",
       "B cells                0.098383        0.094222          0.102401    0.920131   \n",
       "Dendritic cells        0.017112        0.016362          0.018018    0.908097   \n",
       "Monocytes              0.171416        0.196655          0.143211    1.373180   \n",
       "NK cells               0.146479        0.158121          0.133477    1.184627   \n",
       "T cells                0.566610        0.534640          0.602892    0.886791   \n",
       "\n",
       "                 t_statistics  p_values  adjusted_p_values  \n",
       "clusters                                                    \n",
       "B cells             -0.847305  0.399205           0.499006  \n",
       "Dendritic cells     -0.240203  0.810751           0.810751  \n",
       "Monocytes            2.446304  0.016494           0.082471  \n",
       "NK cells             1.220507  0.225648           0.376080  \n",
       "T cells             -1.782987  0.078158           0.195396  "
      ]
     },
     "execution_count": 8,
     "metadata": {},
     "output_type": "execute_result"
    }
   ],
   "source": [
    "pbmc_young_old_sex = scanpro(pbmc, samples_col='Sample', clusters_col='Celltype', conds_col='Age', \n",
    "                             covariates=[\"Sex\"])\n",
    "pbmc_young_old_sex.results"
   ]
  },
  {
   "cell_type": "markdown",
   "metadata": {},
   "source": [
    "### Male vs Female"
   ]
  },
  {
   "cell_type": "code",
   "execution_count": 9,
   "metadata": {},
   "outputs": [
    {
     "name": "stdout",
     "output_type": "stream",
     "text": [
      "[INFO] There are 2 conditions. T-Test will be performed...\n",
      "[INFO] Done!\n"
     ]
    },
    {
     "data": {
      "text/html": [
       "<div>\n",
       "<style scoped>\n",
       "    .dataframe tbody tr th:only-of-type {\n",
       "        vertical-align: middle;\n",
       "    }\n",
       "\n",
       "    .dataframe tbody tr th {\n",
       "        vertical-align: top;\n",
       "    }\n",
       "\n",
       "    .dataframe thead th {\n",
       "        text-align: right;\n",
       "    }\n",
       "</style>\n",
       "<table border=\"1\" class=\"dataframe\">\n",
       "  <thead>\n",
       "    <tr style=\"text-align: right;\">\n",
       "      <th></th>\n",
       "      <th>baseline_props</th>\n",
       "      <th>mean_props_Female</th>\n",
       "      <th>mean_props_Male</th>\n",
       "      <th>prop_ratio</th>\n",
       "      <th>t_statistics</th>\n",
       "      <th>p_values</th>\n",
       "      <th>adjusted_p_values</th>\n",
       "    </tr>\n",
       "    <tr>\n",
       "      <th>clusters</th>\n",
       "      <th></th>\n",
       "      <th></th>\n",
       "      <th></th>\n",
       "      <th></th>\n",
       "      <th></th>\n",
       "      <th></th>\n",
       "      <th></th>\n",
       "    </tr>\n",
       "  </thead>\n",
       "  <tbody>\n",
       "    <tr>\n",
       "      <th>B cells</th>\n",
       "      <td>0.098383</td>\n",
       "      <td>0.101042</td>\n",
       "      <td>0.095581</td>\n",
       "      <td>1.057138</td>\n",
       "      <td>0.453598</td>\n",
       "      <td>0.651210</td>\n",
       "      <td>0.814013</td>\n",
       "    </tr>\n",
       "    <tr>\n",
       "      <th>Dendritic cells</th>\n",
       "      <td>0.017112</td>\n",
       "      <td>0.015587</td>\n",
       "      <td>0.018793</td>\n",
       "      <td>0.829422</td>\n",
       "      <td>-1.054917</td>\n",
       "      <td>0.294287</td>\n",
       "      <td>0.490479</td>\n",
       "    </tr>\n",
       "    <tr>\n",
       "      <th>Monocytes</th>\n",
       "      <td>0.171416</td>\n",
       "      <td>0.168821</td>\n",
       "      <td>0.171046</td>\n",
       "      <td>0.986995</td>\n",
       "      <td>-0.063599</td>\n",
       "      <td>0.949430</td>\n",
       "      <td>0.949430</td>\n",
       "    </tr>\n",
       "    <tr>\n",
       "      <th>NK cells</th>\n",
       "      <td>0.146479</td>\n",
       "      <td>0.116914</td>\n",
       "      <td>0.174684</td>\n",
       "      <td>0.669285</td>\n",
       "      <td>-2.636203</td>\n",
       "      <td>0.009874</td>\n",
       "      <td>0.049371</td>\n",
       "    </tr>\n",
       "    <tr>\n",
       "      <th>T cells</th>\n",
       "      <td>0.566610</td>\n",
       "      <td>0.597636</td>\n",
       "      <td>0.539896</td>\n",
       "      <td>1.106946</td>\n",
       "      <td>1.447690</td>\n",
       "      <td>0.151178</td>\n",
       "      <td>0.377946</td>\n",
       "    </tr>\n",
       "  </tbody>\n",
       "</table>\n",
       "</div>"
      ],
      "text/plain": [
       "                 baseline_props  mean_props_Female  mean_props_Male  \\\n",
       "clusters                                                              \n",
       "B cells                0.098383           0.101042         0.095581   \n",
       "Dendritic cells        0.017112           0.015587         0.018793   \n",
       "Monocytes              0.171416           0.168821         0.171046   \n",
       "NK cells               0.146479           0.116914         0.174684   \n",
       "T cells                0.566610           0.597636         0.539896   \n",
       "\n",
       "                 prop_ratio  t_statistics  p_values  adjusted_p_values  \n",
       "clusters                                                                \n",
       "B cells            1.057138      0.453598  0.651210           0.814013  \n",
       "Dendritic cells    0.829422     -1.054917  0.294287           0.490479  \n",
       "Monocytes          0.986995     -0.063599  0.949430           0.949430  \n",
       "NK cells           0.669285     -2.636203  0.009874           0.049371  \n",
       "T cells            1.106946      1.447690  0.151178           0.377946  "
      ]
     },
     "execution_count": 9,
     "metadata": {},
     "output_type": "execute_result"
    }
   ],
   "source": [
    "pbmc_male_female = scanpro(pbmc, samples_col='Sample', clusters_col='Celltype', conds_col='Sex')\n",
    "pbmc_male_female.results.to_csv(\"results/pbmc_scanpro_rep_logit.tsv\", sep=\"\\t\")\n",
    "pbmc_male_female.results"
   ]
  },
  {
   "cell_type": "code",
   "execution_count": 10,
   "metadata": {},
   "outputs": [
    {
     "data": {
      "image/png": "[encoded data removed]",
      "text/plain": [
       "<Figure size 900x800 with 6 Axes>"
      ]
     },
     "metadata": {},
     "output_type": "display_data"
    }
   ],
   "source": [
    "pbmc_male_female.plot(save=f\"{FIG_PATH}/pbmc_sex_stripplot.pdf\")"
   ]
  },
  {
   "cell_type": "code",
   "execution_count": 11,
   "metadata": {},
   "outputs": [
    {
     "name": "stdout",
     "output_type": "stream",
     "text": [
      "[INFO] There are 2 conditions. T-Test will be performed...\n",
      "[INFO] Done!\n"
     ]
    }
   ],
   "source": [
    "pbmc_male_female_arcsin = scanpro(pbmc, samples_col='Sample', clusters_col='Celltype', conds_col='Sex', transform=\"arcsin\")\n",
    "pbmc_male_female_arcsin.results.to_csv(\"results/pbmc_scanpro_rep_arcsin.tsv\", sep=\"\\t\")"
   ]
  },
  {
   "cell_type": "code",
   "execution_count": 12,
   "metadata": {},
   "outputs": [
    {
     "data": {
      "text/html": [
       "<div>\n",
       "<style scoped>\n",
       "    .dataframe tbody tr th:only-of-type {\n",
       "        vertical-align: middle;\n",
       "    }\n",
       "\n",
       "    .dataframe tbody tr th {\n",
       "        vertical-align: top;\n",
       "    }\n",
       "\n",
       "    .dataframe thead th {\n",
       "        text-align: right;\n",
       "    }\n",
       "</style>\n",
       "<table border=\"1\" class=\"dataframe\">\n",
       "  <thead>\n",
       "    <tr style=\"text-align: right;\">\n",
       "      <th></th>\n",
       "      <th>baseline_props</th>\n",
       "      <th>mean_props_Female</th>\n",
       "      <th>mean_props_Male</th>\n",
       "      <th>prop_ratio</th>\n",
       "      <th>t_statistics</th>\n",
       "      <th>p_values</th>\n",
       "      <th>adjusted_p_values</th>\n",
       "    </tr>\n",
       "    <tr>\n",
       "      <th>clusters</th>\n",
       "      <th></th>\n",
       "      <th></th>\n",
       "      <th></th>\n",
       "      <th></th>\n",
       "      <th></th>\n",
       "      <th></th>\n",
       "      <th></th>\n",
       "    </tr>\n",
       "  </thead>\n",
       "  <tbody>\n",
       "    <tr>\n",
       "      <th>B cells</th>\n",
       "      <td>0.098383</td>\n",
       "      <td>0.101042</td>\n",
       "      <td>0.095581</td>\n",
       "      <td>1.057138</td>\n",
       "      <td>0.390929</td>\n",
       "      <td>0.699921</td>\n",
       "      <td>0.874901</td>\n",
       "    </tr>\n",
       "    <tr>\n",
       "      <th>Dendritic cells</th>\n",
       "      <td>0.017112</td>\n",
       "      <td>0.015587</td>\n",
       "      <td>0.018793</td>\n",
       "      <td>0.829422</td>\n",
       "      <td>-1.107839</td>\n",
       "      <td>0.280882</td>\n",
       "      <td>0.468136</td>\n",
       "    </tr>\n",
       "    <tr>\n",
       "      <th>Monocytes</th>\n",
       "      <td>0.171416</td>\n",
       "      <td>0.168821</td>\n",
       "      <td>0.171046</td>\n",
       "      <td>0.986995</td>\n",
       "      <td>-0.089650</td>\n",
       "      <td>0.929443</td>\n",
       "      <td>0.929443</td>\n",
       "    </tr>\n",
       "    <tr>\n",
       "      <th>NK cells</th>\n",
       "      <td>0.146479</td>\n",
       "      <td>0.116914</td>\n",
       "      <td>0.174684</td>\n",
       "      <td>0.669285</td>\n",
       "      <td>-2.356287</td>\n",
       "      <td>0.028605</td>\n",
       "      <td>0.143026</td>\n",
       "    </tr>\n",
       "    <tr>\n",
       "      <th>T cells</th>\n",
       "      <td>0.566610</td>\n",
       "      <td>0.597636</td>\n",
       "      <td>0.539896</td>\n",
       "      <td>1.106946</td>\n",
       "      <td>1.547036</td>\n",
       "      <td>0.137298</td>\n",
       "      <td>0.343246</td>\n",
       "    </tr>\n",
       "  </tbody>\n",
       "</table>\n",
       "</div>"
      ],
      "text/plain": [
       "                 baseline_props  mean_props_Female  mean_props_Male  \\\n",
       "clusters                                                              \n",
       "B cells                0.098383           0.101042         0.095581   \n",
       "Dendritic cells        0.017112           0.015587         0.018793   \n",
       "Monocytes              0.171416           0.168821         0.171046   \n",
       "NK cells               0.146479           0.116914         0.174684   \n",
       "T cells                0.566610           0.597636         0.539896   \n",
       "\n",
       "                 prop_ratio  t_statistics  p_values  adjusted_p_values  \n",
       "clusters                                                                \n",
       "B cells            1.057138      0.390929  0.699921           0.874901  \n",
       "Dendritic cells    0.829422     -1.107839  0.280882           0.468136  \n",
       "Monocytes          0.986995     -0.089650  0.929443           0.929443  \n",
       "NK cells           0.669285     -2.356287  0.028605           0.143026  \n",
       "T cells            1.106946      1.547036  0.137298           0.343246  "
      ]
     },
     "execution_count": 12,
     "metadata": {},
     "output_type": "execute_result"
    }
   ],
   "source": [
    "pbmc_male_female_arcsin.results"
   ]
  },
  {
   "cell_type": "markdown",
   "metadata": {},
   "source": [
    "#### With age as covariate"
   ]
  },
  {
   "cell_type": "code",
   "execution_count": 13,
   "metadata": {
    "scrolled": true
   },
   "outputs": [
    {
     "name": "stdout",
     "output_type": "stream",
     "text": [
      "[INFO] There are 2 conditions. T-Test will be performed...\n",
      "[INFO] Done!\n"
     ]
    },
    {
     "data": {
      "text/html": [
       "<div>\n",
       "<style scoped>\n",
       "    .dataframe tbody tr th:only-of-type {\n",
       "        vertical-align: middle;\n",
       "    }\n",
       "\n",
       "    .dataframe tbody tr th {\n",
       "        vertical-align: top;\n",
       "    }\n",
       "\n",
       "    .dataframe thead th {\n",
       "        text-align: right;\n",
       "    }\n",
       "</style>\n",
       "<table border=\"1\" class=\"dataframe\">\n",
       "  <thead>\n",
       "    <tr style=\"text-align: right;\">\n",
       "      <th></th>\n",
       "      <th>baseline_props</th>\n",
       "      <th>mean_props_Female</th>\n",
       "      <th>mean_props_Male</th>\n",
       "      <th>prop_ratio</th>\n",
       "      <th>t_statistics</th>\n",
       "      <th>p_values</th>\n",
       "      <th>adjusted_p_values</th>\n",
       "    </tr>\n",
       "    <tr>\n",
       "      <th>clusters</th>\n",
       "      <th></th>\n",
       "      <th></th>\n",
       "      <th></th>\n",
       "      <th></th>\n",
       "      <th></th>\n",
       "      <th></th>\n",
       "      <th></th>\n",
       "    </tr>\n",
       "  </thead>\n",
       "  <tbody>\n",
       "    <tr>\n",
       "      <th>B cells</th>\n",
       "      <td>0.098383</td>\n",
       "      <td>0.101042</td>\n",
       "      <td>0.095581</td>\n",
       "      <td>1.057138</td>\n",
       "      <td>0.466193</td>\n",
       "      <td>0.642270</td>\n",
       "      <td>0.802838</td>\n",
       "    </tr>\n",
       "    <tr>\n",
       "      <th>Dendritic cells</th>\n",
       "      <td>0.017112</td>\n",
       "      <td>0.015587</td>\n",
       "      <td>0.018793</td>\n",
       "      <td>0.829422</td>\n",
       "      <td>-1.094385</td>\n",
       "      <td>0.276878</td>\n",
       "      <td>0.461463</td>\n",
       "    </tr>\n",
       "    <tr>\n",
       "      <th>Monocytes</th>\n",
       "      <td>0.171416</td>\n",
       "      <td>0.168821</td>\n",
       "      <td>0.171046</td>\n",
       "      <td>0.986995</td>\n",
       "      <td>-0.066020</td>\n",
       "      <td>0.947517</td>\n",
       "      <td>0.947517</td>\n",
       "    </tr>\n",
       "    <tr>\n",
       "      <th>NK cells</th>\n",
       "      <td>0.146479</td>\n",
       "      <td>0.116914</td>\n",
       "      <td>0.174684</td>\n",
       "      <td>0.669285</td>\n",
       "      <td>-2.699387</td>\n",
       "      <td>0.008380</td>\n",
       "      <td>0.041900</td>\n",
       "    </tr>\n",
       "    <tr>\n",
       "      <th>T cells</th>\n",
       "      <td>0.566610</td>\n",
       "      <td>0.597636</td>\n",
       "      <td>0.539896</td>\n",
       "      <td>1.106946</td>\n",
       "      <td>1.496382</td>\n",
       "      <td>0.138258</td>\n",
       "      <td>0.345645</td>\n",
       "    </tr>\n",
       "  </tbody>\n",
       "</table>\n",
       "</div>"
      ],
      "text/plain": [
       "                 baseline_props  mean_props_Female  mean_props_Male  \\\n",
       "clusters                                                              \n",
       "B cells                0.098383           0.101042         0.095581   \n",
       "Dendritic cells        0.017112           0.015587         0.018793   \n",
       "Monocytes              0.171416           0.168821         0.171046   \n",
       "NK cells               0.146479           0.116914         0.174684   \n",
       "T cells                0.566610           0.597636         0.539896   \n",
       "\n",
       "                 prop_ratio  t_statistics  p_values  adjusted_p_values  \n",
       "clusters                                                                \n",
       "B cells            1.057138      0.466193  0.642270           0.802838  \n",
       "Dendritic cells    0.829422     -1.094385  0.276878           0.461463  \n",
       "Monocytes          0.986995     -0.066020  0.947517           0.947517  \n",
       "NK cells           0.669285     -2.699387  0.008380           0.041900  \n",
       "T cells            1.106946      1.496382  0.138258           0.345645  "
      ]
     },
     "execution_count": 13,
     "metadata": {},
     "output_type": "execute_result"
    }
   ],
   "source": [
    "pbmc_male_female_age = scanpro(pbmc, samples_col='Sample', clusters_col='Celltype', conds_col='Sex',\n",
    "                               covariates=\"Age\")\n",
    "pbmc_male_female_age.results"
   ]
  },
  {
   "cell_type": "code",
   "execution_count": 14,
   "metadata": {},
   "outputs": [
    {
     "name": "stdout",
     "output_type": "stream",
     "text": [
      "[INFO] There are 2 conditions. T-Test will be performed...\n",
      "[INFO] Done!\n"
     ]
    },
    {
     "data": {
      "text/html": [
       "<div>\n",
       "<style scoped>\n",
       "    .dataframe tbody tr th:only-of-type {\n",
       "        vertical-align: middle;\n",
       "    }\n",
       "\n",
       "    .dataframe tbody tr th {\n",
       "        vertical-align: top;\n",
       "    }\n",
       "\n",
       "    .dataframe thead th {\n",
       "        text-align: right;\n",
       "    }\n",
       "</style>\n",
       "<table border=\"1\" class=\"dataframe\">\n",
       "  <thead>\n",
       "    <tr style=\"text-align: right;\">\n",
       "      <th></th>\n",
       "      <th>baseline_props</th>\n",
       "      <th>mean_props_Female</th>\n",
       "      <th>mean_props_Male</th>\n",
       "      <th>prop_ratio</th>\n",
       "      <th>t_statistics</th>\n",
       "      <th>p_values</th>\n",
       "      <th>adjusted_p_values</th>\n",
       "    </tr>\n",
       "    <tr>\n",
       "      <th>clusters</th>\n",
       "      <th></th>\n",
       "      <th></th>\n",
       "      <th></th>\n",
       "      <th></th>\n",
       "      <th></th>\n",
       "      <th></th>\n",
       "      <th></th>\n",
       "    </tr>\n",
       "  </thead>\n",
       "  <tbody>\n",
       "    <tr>\n",
       "      <th>B cells</th>\n",
       "      <td>0.098383</td>\n",
       "      <td>0.101042</td>\n",
       "      <td>0.095581</td>\n",
       "      <td>1.057138</td>\n",
       "      <td>0.386739</td>\n",
       "      <td>0.703138</td>\n",
       "      <td>0.878923</td>\n",
       "    </tr>\n",
       "    <tr>\n",
       "      <th>Dendritic cells</th>\n",
       "      <td>0.017112</td>\n",
       "      <td>0.015587</td>\n",
       "      <td>0.018793</td>\n",
       "      <td>0.829422</td>\n",
       "      <td>-1.081364</td>\n",
       "      <td>0.292729</td>\n",
       "      <td>0.487882</td>\n",
       "    </tr>\n",
       "    <tr>\n",
       "      <th>Monocytes</th>\n",
       "      <td>0.171416</td>\n",
       "      <td>0.168821</td>\n",
       "      <td>0.171046</td>\n",
       "      <td>0.986995</td>\n",
       "      <td>-0.106908</td>\n",
       "      <td>0.915955</td>\n",
       "      <td>0.915955</td>\n",
       "    </tr>\n",
       "    <tr>\n",
       "      <th>NK cells</th>\n",
       "      <td>0.146479</td>\n",
       "      <td>0.116914</td>\n",
       "      <td>0.174684</td>\n",
       "      <td>0.669285</td>\n",
       "      <td>-2.372052</td>\n",
       "      <td>0.028114</td>\n",
       "      <td>0.140572</td>\n",
       "    </tr>\n",
       "    <tr>\n",
       "      <th>T cells</th>\n",
       "      <td>0.566610</td>\n",
       "      <td>0.597636</td>\n",
       "      <td>0.539896</td>\n",
       "      <td>1.106946</td>\n",
       "      <td>1.658676</td>\n",
       "      <td>0.113182</td>\n",
       "      <td>0.282954</td>\n",
       "    </tr>\n",
       "  </tbody>\n",
       "</table>\n",
       "</div>"
      ],
      "text/plain": [
       "                 baseline_props  mean_props_Female  mean_props_Male  \\\n",
       "clusters                                                              \n",
       "B cells                0.098383           0.101042         0.095581   \n",
       "Dendritic cells        0.017112           0.015587         0.018793   \n",
       "Monocytes              0.171416           0.168821         0.171046   \n",
       "NK cells               0.146479           0.116914         0.174684   \n",
       "T cells                0.566610           0.597636         0.539896   \n",
       "\n",
       "                 prop_ratio  t_statistics  p_values  adjusted_p_values  \n",
       "clusters                                                                \n",
       "B cells            1.057138      0.386739  0.703138           0.878923  \n",
       "Dendritic cells    0.829422     -1.081364  0.292729           0.487882  \n",
       "Monocytes          0.986995     -0.106908  0.915955           0.915955  \n",
       "NK cells           0.669285     -2.372052  0.028114           0.140572  \n",
       "T cells            1.106946      1.658676  0.113182           0.282954  "
      ]
     },
     "execution_count": 14,
     "metadata": {},
     "output_type": "execute_result"
    }
   ],
   "source": [
    "pbmc_male_female_age_arcsin = scanpro(pbmc, samples_col='Sample', clusters_col='Celltype', conds_col='Sex',\n",
    "                                      covariates=\"Age\", transform='arcsin')\n",
    "pbmc_male_female_age_arcsin.results"
   ]
  },
  {
   "cell_type": "markdown",
   "metadata": {},
   "source": [
    "## Run Scanpro without replicates"
   ]
  },
  {
   "cell_type": "markdown",
   "metadata": {},
   "source": [
    "### Male vs Female"
   ]
  },
  {
   "cell_type": "code",
   "execution_count": 15,
   "metadata": {},
   "outputs": [
    {
     "name": "stdout",
     "output_type": "stream",
     "text": [
      "[INFO] Your data doesn't have replicates! Artificial replicates will be simulated to run scanpro.\n",
      "[WARNING] Consider setting transform='arcsin', as this produces more accurate results for simulated data.\n",
      "[INFO] Simulation may take some minutes...\n",
      "[INFO] Generating 8 replicates and running 100 simulations...\n",
      "[INFO] Finished 100 simulations in 37.22 seconds\n"
     ]
    }
   ],
   "source": [
    "pbmc_male_female_norep = scanpro(pbmc, clusters_col='Celltype', conds_col='Sex')\n",
    "pbmc_male_female_norep.results.to_csv(\"results/pbmc_scanpro_norep_logit.tsv\", sep=\"\\t\")"
   ]
  },
  {
   "cell_type": "code",
   "execution_count": 16,
   "metadata": {},
   "outputs": [
    {
     "data": {
      "image/png": "[encoded data removed]",
      "text/plain": [
       "<Figure size 900x800 with 11 Axes>"
      ]
     },
     "metadata": {},
     "output_type": "display_data"
    }
   ],
   "source": [
    "pbmc_male_female_norep.plot(save=\"plots/pbmc_sex_norep_stripplot.pdf\")"
   ]
  },
  {
   "cell_type": "code",
   "execution_count": 17,
   "metadata": {},
   "outputs": [
    {
     "name": "stdout",
     "output_type": "stream",
     "text": [
      "[INFO] Your data doesn't have replicates! Artificial replicates will be simulated to run scanpro.\n",
      "[INFO] Simulation may take some minutes...\n",
      "[INFO] Generating 8 replicates and running 100 simulations...\n",
      "[INFO] Finished 100 simulations in 36.77 seconds\n"
     ]
    }
   ],
   "source": [
    "pbmc_male_female_norep_arcsin = scanpro(pbmc, clusters_col='Celltype', conds_col='Sex', transform=\"arcsin\")\n",
    "pbmc_male_female_norep_arcsin.results.to_csv(\"results/pbmc_scanpro_norep_arcsin.tsv\", sep=\"\\t\")"
   ]
  },
  {
   "cell_type": "code",
   "execution_count": 18,
   "metadata": {},
   "outputs": [
    {
     "data": {
      "text/html": [
       "<div>\n",
       "<style scoped>\n",
       "    .dataframe tbody tr th:only-of-type {\n",
       "        vertical-align: middle;\n",
       "    }\n",
       "\n",
       "    .dataframe tbody tr th {\n",
       "        vertical-align: top;\n",
       "    }\n",
       "\n",
       "    .dataframe thead th {\n",
       "        text-align: right;\n",
       "    }\n",
       "</style>\n",
       "<table border=\"1\" class=\"dataframe\">\n",
       "  <thead>\n",
       "    <tr style=\"text-align: right;\">\n",
       "      <th></th>\n",
       "      <th>baseline_props</th>\n",
       "      <th>mean_props_Female</th>\n",
       "      <th>mean_props_Male</th>\n",
       "      <th>p_values</th>\n",
       "    </tr>\n",
       "    <tr>\n",
       "      <th>clusters</th>\n",
       "      <th></th>\n",
       "      <th></th>\n",
       "      <th></th>\n",
       "      <th></th>\n",
       "    </tr>\n",
       "  </thead>\n",
       "  <tbody>\n",
       "    <tr>\n",
       "      <th>B cells</th>\n",
       "      <td>0.098383</td>\n",
       "      <td>0.100009</td>\n",
       "      <td>0.093747</td>\n",
       "      <td>0.514445</td>\n",
       "    </tr>\n",
       "    <tr>\n",
       "      <th>Dendritic cells</th>\n",
       "      <td>0.017112</td>\n",
       "      <td>0.014783</td>\n",
       "      <td>0.017355</td>\n",
       "      <td>0.501274</td>\n",
       "    </tr>\n",
       "    <tr>\n",
       "      <th>Monocytes</th>\n",
       "      <td>0.171416</td>\n",
       "      <td>0.168843</td>\n",
       "      <td>0.171865</td>\n",
       "      <td>0.529536</td>\n",
       "    </tr>\n",
       "    <tr>\n",
       "      <th>NK cells</th>\n",
       "      <td>0.146479</td>\n",
       "      <td>0.116939</td>\n",
       "      <td>0.175939</td>\n",
       "      <td>0.028656</td>\n",
       "    </tr>\n",
       "    <tr>\n",
       "      <th>T cells</th>\n",
       "      <td>0.566610</td>\n",
       "      <td>0.598181</td>\n",
       "      <td>0.536141</td>\n",
       "      <td>0.051923</td>\n",
       "    </tr>\n",
       "  </tbody>\n",
       "</table>\n",
       "</div>"
      ],
      "text/plain": [
       "                 baseline_props  mean_props_Female  mean_props_Male  p_values\n",
       "clusters                                                                     \n",
       "B cells                0.098383           0.100009         0.093747  0.514445\n",
       "Dendritic cells        0.017112           0.014783         0.017355  0.501274\n",
       "Monocytes              0.171416           0.168843         0.171865  0.529536\n",
       "NK cells               0.146479           0.116939         0.175939  0.028656\n",
       "T cells                0.566610           0.598181         0.536141  0.051923"
      ]
     },
     "execution_count": 18,
     "metadata": {},
     "output_type": "execute_result"
    }
   ],
   "source": [
    "pbmc_male_female_norep_arcsin.results"
   ]
  },
  {
   "cell_type": "markdown",
   "metadata": {},
   "source": [
    "#### with age as covariate"
   ]
  },
  {
   "cell_type": "code",
   "execution_count": 19,
   "metadata": {},
   "outputs": [
    {
     "name": "stdout",
     "output_type": "stream",
     "text": [
      "[INFO] Your data doesn't have replicates! Artificial replicates will be simulated to run scanpro.\n",
      "[WARNING] Consider setting transform='arcsin', as this produces more accurate results for simulated data.\n",
      "[INFO] Simulation may take some minutes...\n",
      "[INFO] Generating 8 replicates and running 100 simulations...\n",
      "[INFO] Finished 100 simulations in 42.03 seconds\n"
     ]
    },
    {
     "data": {
      "text/html": [
       "<div>\n",
       "<style scoped>\n",
       "    .dataframe tbody tr th:only-of-type {\n",
       "        vertical-align: middle;\n",
       "    }\n",
       "\n",
       "    .dataframe tbody tr th {\n",
       "        vertical-align: top;\n",
       "    }\n",
       "\n",
       "    .dataframe thead th {\n",
       "        text-align: right;\n",
       "    }\n",
       "</style>\n",
       "<table border=\"1\" class=\"dataframe\">\n",
       "  <thead>\n",
       "    <tr style=\"text-align: right;\">\n",
       "      <th></th>\n",
       "      <th>baseline_props</th>\n",
       "      <th>mean_props_Female</th>\n",
       "      <th>mean_props_Male</th>\n",
       "      <th>p_values</th>\n",
       "    </tr>\n",
       "    <tr>\n",
       "      <th>clusters</th>\n",
       "      <th></th>\n",
       "      <th></th>\n",
       "      <th></th>\n",
       "      <th></th>\n",
       "    </tr>\n",
       "  </thead>\n",
       "  <tbody>\n",
       "    <tr>\n",
       "      <th>B cells</th>\n",
       "      <td>0.098383</td>\n",
       "      <td>0.100601</td>\n",
       "      <td>0.094723</td>\n",
       "      <td>0.527858</td>\n",
       "    </tr>\n",
       "    <tr>\n",
       "      <th>Dendritic cells</th>\n",
       "      <td>0.017112</td>\n",
       "      <td>0.015092</td>\n",
       "      <td>0.017631</td>\n",
       "      <td>0.528302</td>\n",
       "    </tr>\n",
       "    <tr>\n",
       "      <th>Monocytes</th>\n",
       "      <td>0.171416</td>\n",
       "      <td>0.167636</td>\n",
       "      <td>0.173229</td>\n",
       "      <td>0.565368</td>\n",
       "    </tr>\n",
       "    <tr>\n",
       "      <th>NK cells</th>\n",
       "      <td>0.146479</td>\n",
       "      <td>0.115993</td>\n",
       "      <td>0.176193</td>\n",
       "      <td>0.169186</td>\n",
       "    </tr>\n",
       "    <tr>\n",
       "      <th>T cells</th>\n",
       "      <td>0.566610</td>\n",
       "      <td>0.598968</td>\n",
       "      <td>0.535534</td>\n",
       "      <td>0.130130</td>\n",
       "    </tr>\n",
       "  </tbody>\n",
       "</table>\n",
       "</div>"
      ],
      "text/plain": [
       "                 baseline_props  mean_props_Female  mean_props_Male  p_values\n",
       "clusters                                                                     \n",
       "B cells                0.098383           0.100601         0.094723  0.527858\n",
       "Dendritic cells        0.017112           0.015092         0.017631  0.528302\n",
       "Monocytes              0.171416           0.167636         0.173229  0.565368\n",
       "NK cells               0.146479           0.115993         0.176193  0.169186\n",
       "T cells                0.566610           0.598968         0.535534  0.130130"
      ]
     },
     "execution_count": 19,
     "metadata": {},
     "output_type": "execute_result"
    }
   ],
   "source": [
    "pbmc_male_female_norep_age = scanpro(pbmc, clusters_col='Celltype', conds_col='Sex', covariates=[\"Age\"])\n",
    "pbmc_male_female_norep_age.results"
   ]
  },
  {
   "cell_type": "code",
   "execution_count": 20,
   "metadata": {},
   "outputs": [
    {
     "name": "stdout",
     "output_type": "stream",
     "text": [
      "[INFO] Your data doesn't have replicates! Artificial replicates will be simulated to run scanpro.\n",
      "[INFO] Simulation may take some minutes...\n",
      "[INFO] Generating 8 replicates and running 100 simulations...\n",
      "[INFO] Finished 100 simulations in 41.98 seconds\n"
     ]
    },
    {
     "data": {
      "text/html": [
       "<div>\n",
       "<style scoped>\n",
       "    .dataframe tbody tr th:only-of-type {\n",
       "        vertical-align: middle;\n",
       "    }\n",
       "\n",
       "    .dataframe tbody tr th {\n",
       "        vertical-align: top;\n",
       "    }\n",
       "\n",
       "    .dataframe thead th {\n",
       "        text-align: right;\n",
       "    }\n",
       "</style>\n",
       "<table border=\"1\" class=\"dataframe\">\n",
       "  <thead>\n",
       "    <tr style=\"text-align: right;\">\n",
       "      <th></th>\n",
       "      <th>baseline_props</th>\n",
       "      <th>mean_props_Female</th>\n",
       "      <th>mean_props_Male</th>\n",
       "      <th>p_values</th>\n",
       "    </tr>\n",
       "    <tr>\n",
       "      <th>clusters</th>\n",
       "      <th></th>\n",
       "      <th></th>\n",
       "      <th></th>\n",
       "      <th></th>\n",
       "    </tr>\n",
       "  </thead>\n",
       "  <tbody>\n",
       "    <tr>\n",
       "      <th>B cells</th>\n",
       "      <td>0.098383</td>\n",
       "      <td>0.100601</td>\n",
       "      <td>0.094723</td>\n",
       "      <td>0.612096</td>\n",
       "    </tr>\n",
       "    <tr>\n",
       "      <th>Dendritic cells</th>\n",
       "      <td>0.017112</td>\n",
       "      <td>0.015092</td>\n",
       "      <td>0.017631</td>\n",
       "      <td>0.612096</td>\n",
       "    </tr>\n",
       "    <tr>\n",
       "      <th>Monocytes</th>\n",
       "      <td>0.171416</td>\n",
       "      <td>0.167636</td>\n",
       "      <td>0.173229</td>\n",
       "      <td>0.602256</td>\n",
       "    </tr>\n",
       "    <tr>\n",
       "      <th>NK cells</th>\n",
       "      <td>0.146479</td>\n",
       "      <td>0.115993</td>\n",
       "      <td>0.176193</td>\n",
       "      <td>0.026844</td>\n",
       "    </tr>\n",
       "    <tr>\n",
       "      <th>T cells</th>\n",
       "      <td>0.566610</td>\n",
       "      <td>0.598968</td>\n",
       "      <td>0.535534</td>\n",
       "      <td>0.071979</td>\n",
       "    </tr>\n",
       "  </tbody>\n",
       "</table>\n",
       "</div>"
      ],
      "text/plain": [
       "                 baseline_props  mean_props_Female  mean_props_Male  p_values\n",
       "clusters                                                                     \n",
       "B cells                0.098383           0.100601         0.094723  0.612096\n",
       "Dendritic cells        0.017112           0.015092         0.017631  0.612096\n",
       "Monocytes              0.171416           0.167636         0.173229  0.602256\n",
       "NK cells               0.146479           0.115993         0.176193  0.026844\n",
       "T cells                0.566610           0.598968         0.535534  0.071979"
      ]
     },
     "execution_count": 20,
     "metadata": {},
     "output_type": "execute_result"
    }
   ],
   "source": [
    "pbmc_male_female_norep_cov = scanpro(pbmc, clusters_col='Celltype', conds_col='Sex', covariates=\"Age\", transform=\"arcsin\")\n",
    "pbmc_male_female_norep_cov.results"
   ]
  },
  {
   "cell_type": "markdown",
   "metadata": {},
   "source": [
    "-----------------------"
   ]
  },
  {
   "cell_type": "markdown",
   "metadata": {},
   "source": [
    "## Run propeller"
   ]
  },
  {
   "cell_type": "code",
   "execution_count": 21,
   "metadata": {},
   "outputs": [],
   "source": [
    "# Setup path to R\n",
    "R_home = os.path.dirname(sys.executable)[:-4] + \"/lib/R\"\n",
    "os.environ[\"R_HOME\"] = R_home\n",
    "%load_ext rpy2.ipython"
   ]
  },
  {
   "cell_type": "code",
   "execution_count": 22,
   "metadata": {},
   "outputs": [
    {
     "name": "stdout",
     "output_type": "stream",
     "text": [
      "\n",
      "    WARNING: The R package \"reticulate\" only fixed recently\n",
      "    an issue that caused a segfault when used with rpy2:\n",
      "    https://github.com/rstudio/reticulate/pull/1188\n",
      "    Make sure that you use a version of that package that includes\n",
      "    the fix.\n",
      "    "
     ]
    },
    {
     "data": {
      "text/plain": [
       "Performing logit transformation of proportions\n",
       "group variable has 2 levels, t-tests will be performed\n",
       "Performing arcsin square root transformation of proportions\n",
       "group variable has 2 levels, t-tests will be performed\n"
      ]
     },
     "metadata": {},
     "output_type": "display_data"
    }
   ],
   "source": [
    "%%R -i pbmc -o propeller_results_logit -o propeller_results_arcsin\n",
    "library(speckle)\n",
    "\n",
    "propeller_results_logit = propeller(clusters = pbmc$Celltype, sample = pbmc$Sample, group = pbmc$Sex, transform=\"logit\")\n",
    "propeller_results_arcsin = propeller(clusters = pbmc$Celltype, sample = pbmc$Sample, group = pbmc$Sex, transform=\"asin\")"
   ]
  },
  {
   "cell_type": "code",
   "execution_count": 23,
   "metadata": {},
   "outputs": [
    {
     "data": {
      "text/html": [
       "<div>\n",
       "<style scoped>\n",
       "    .dataframe tbody tr th:only-of-type {\n",
       "        vertical-align: middle;\n",
       "    }\n",
       "\n",
       "    .dataframe tbody tr th {\n",
       "        vertical-align: top;\n",
       "    }\n",
       "\n",
       "    .dataframe thead th {\n",
       "        text-align: right;\n",
       "    }\n",
       "</style>\n",
       "<table border=\"1\" class=\"dataframe\">\n",
       "  <thead>\n",
       "    <tr style=\"text-align: right;\">\n",
       "      <th></th>\n",
       "      <th>BaselineProp.clusters</th>\n",
       "      <th>BaselineProp.Freq</th>\n",
       "      <th>PropMean.Female</th>\n",
       "      <th>PropMean.Male</th>\n",
       "      <th>PropRatio</th>\n",
       "      <th>Tstatistic</th>\n",
       "      <th>P.Value</th>\n",
       "      <th>FDR</th>\n",
       "    </tr>\n",
       "  </thead>\n",
       "  <tbody>\n",
       "    <tr>\n",
       "      <th>NK cells</th>\n",
       "      <td>NK cells</td>\n",
       "      <td>0.146479</td>\n",
       "      <td>0.116914</td>\n",
       "      <td>0.174684</td>\n",
       "      <td>0.669285</td>\n",
       "      <td>-2.637317</td>\n",
       "      <td>0.009844</td>\n",
       "      <td>0.049221</td>\n",
       "    </tr>\n",
       "    <tr>\n",
       "      <th>T cells</th>\n",
       "      <td>T cells</td>\n",
       "      <td>0.566610</td>\n",
       "      <td>0.597636</td>\n",
       "      <td>0.539896</td>\n",
       "      <td>1.106946</td>\n",
       "      <td>1.448420</td>\n",
       "      <td>0.150975</td>\n",
       "      <td>0.377437</td>\n",
       "    </tr>\n",
       "    <tr>\n",
       "      <th>Dendritic cells</th>\n",
       "      <td>Dendritic cells</td>\n",
       "      <td>0.017112</td>\n",
       "      <td>0.015587</td>\n",
       "      <td>0.018793</td>\n",
       "      <td>0.829422</td>\n",
       "      <td>-1.052536</td>\n",
       "      <td>0.295371</td>\n",
       "      <td>0.492285</td>\n",
       "    </tr>\n",
       "    <tr>\n",
       "      <th>B cells</th>\n",
       "      <td>B cells</td>\n",
       "      <td>0.098383</td>\n",
       "      <td>0.101042</td>\n",
       "      <td>0.095581</td>\n",
       "      <td>1.057138</td>\n",
       "      <td>0.453546</td>\n",
       "      <td>0.651248</td>\n",
       "      <td>0.814059</td>\n",
       "    </tr>\n",
       "    <tr>\n",
       "      <th>Monocytes</th>\n",
       "      <td>Monocytes</td>\n",
       "      <td>0.171416</td>\n",
       "      <td>0.168821</td>\n",
       "      <td>0.171046</td>\n",
       "      <td>0.986995</td>\n",
       "      <td>-0.063694</td>\n",
       "      <td>0.949355</td>\n",
       "      <td>0.949355</td>\n",
       "    </tr>\n",
       "  </tbody>\n",
       "</table>\n",
       "</div>"
      ],
      "text/plain": [
       "                BaselineProp.clusters  BaselineProp.Freq  PropMean.Female  \\\n",
       "NK cells                     NK cells           0.146479         0.116914   \n",
       "T cells                       T cells           0.566610         0.597636   \n",
       "Dendritic cells       Dendritic cells           0.017112         0.015587   \n",
       "B cells                       B cells           0.098383         0.101042   \n",
       "Monocytes                   Monocytes           0.171416         0.168821   \n",
       "\n",
       "                 PropMean.Male  PropRatio  Tstatistic   P.Value       FDR  \n",
       "NK cells              0.174684   0.669285   -2.637317  0.009844  0.049221  \n",
       "T cells               0.539896   1.106946    1.448420  0.150975  0.377437  \n",
       "Dendritic cells       0.018793   0.829422   -1.052536  0.295371  0.492285  \n",
       "B cells               0.095581   1.057138    0.453546  0.651248  0.814059  \n",
       "Monocytes             0.171046   0.986995   -0.063694  0.949355  0.949355  "
      ]
     },
     "execution_count": 23,
     "metadata": {},
     "output_type": "execute_result"
    }
   ],
   "source": [
    "propeller_results_logit"
   ]
  },
  {
   "cell_type": "code",
   "execution_count": 24,
   "metadata": {},
   "outputs": [],
   "source": [
    "propeller_results_logit.to_csv(\"results/pbmc_propeller_rep_logit.tsv\", sep=\"\\t\")\n",
    "propeller_results_arcsin.to_csv(\"results/pbmc_propeller_rep_arcsin.tsv\", sep=\"\\t\")"
   ]
  },
  {
   "cell_type": "markdown",
   "metadata": {},
   "source": [
    "-------------"
   ]
  },
  {
   "cell_type": "markdown",
   "metadata": {},
   "source": [
    "## Run scCODA"
   ]
  },
  {
   "cell_type": "markdown",
   "metadata": {},
   "source": [
    "### Data preparation"
   ]
  },
  {
   "cell_type": "code",
   "execution_count": 25,
   "metadata": {},
   "outputs": [],
   "source": [
    "import pertpy as pt\n",
    "import anndata as ad"
   ]
  },
  {
   "cell_type": "code",
   "execution_count": 26,
   "metadata": {},
   "outputs": [],
   "source": [
    "sccoda_adata = ad.AnnData(obs=pbmc)"
   ]
  },
  {
   "cell_type": "markdown",
   "metadata": {},
   "source": [
    "### With replicates"
   ]
  },
  {
   "cell_type": "code",
   "execution_count": 27,
   "metadata": {},
   "outputs": [],
   "source": [
    "sccoda_model = pt.tl.Sccoda()\n",
    "sccoda_data = sccoda_model.load(sccoda_adata, type=\"cell_level\", generate_sample_level=True, cell_type_identifier=\"Celltype\", \n",
    "                                sample_identifier=\"Sample\", covariate_obs=[\"Sex\"])\n",
    "sccoda_data = sccoda_model.prepare(sccoda_data, modality_key=\"coda\", formula=\"Sex\", reference_cell_type=\"Monocytes\")"
   ]
  },
  {
   "cell_type": "code",
   "execution_count": 28,
   "metadata": {},
   "outputs": [
    {
     "data": {
      "text/plain": [
       "<Axes: xlabel='Cell type', ylabel='Proportion'>"
      ]
     },
     "execution_count": 28,
     "metadata": {},
     "output_type": "execute_result"
    },
    {
     "data": {
      "image/png": "[encoded data removed]",
      "text/plain": [
       "<Figure size 640x480 with 1 Axes>"
      ]
     },
     "metadata": {},
     "output_type": "display_data"
    }
   ],
   "source": [
    "pt.pl.coda.boxplots(sccoda_data, modality_key=\"coda\", feature_name=\"Sex\", add_dots=True)"
   ]
  },
  {
   "cell_type": "code",
   "execution_count": 29,
   "metadata": {},
   "outputs": [
    {
     "name": "stderr",
     "output_type": "stream",
     "text": [
      "sample: 100%|██████████| 11000/11000 [00:47<00:00, 231.79it/s, 63 steps of size 4.41e-02. acc. prob=0.73] \n"
     ]
    }
   ],
   "source": [
    "sccoda_model.run_nuts(sccoda_data, modality_key=\"coda\")"
   ]
  },
  {
   "cell_type": "code",
   "execution_count": 30,
   "metadata": {},
   "outputs": [
    {
     "data": {
      "text/html": [
       "<pre style=\"white-space:pre;overflow-x:auto;line-height:normal;font-family:Menlo,'DejaVu Sans Mono',consolas,'Courier New',monospace\"><span style=\"font-style: italic\">                                          Compositional Analysis summary                                           </span>\n",
       "┌─────────────────────────────────────────────┬───────────────────────────────────────────────────────────────────┐\n",
       "│<span style=\"font-weight: bold\"> Name                                        </span>│<span style=\"font-weight: bold\"> Value                                                             </span>│\n",
       "├─────────────────────────────────────────────┼───────────────────────────────────────────────────────────────────┤\n",
       "│<span style=\"color: #008080; text-decoration-color: #008080\"> Data                                        </span>│ Data: <span style=\"color: #008080; text-decoration-color: #008080; font-weight: bold\">20</span> samples, <span style=\"color: #008080; text-decoration-color: #008080; font-weight: bold\">5</span> cell types                                    │\n",
       "│<span style=\"color: #008080; text-decoration-color: #008080\"> Reference cell type                         </span>│ Monocytes                                                         │\n",
       "│<span style=\"color: #008080; text-decoration-color: #008080\"> Formula                                     </span>│ Sex                                                               │\n",
       "└─────────────────────────────────────────────┴───────────────────────────────────────────────────────────────────┘\n",
       "</pre>\n"
      ],
      "text/plain": [
       "\u001b[3m                                          Compositional Analysis summary                                           \u001b[0m\n",
       "┌─────────────────────────────────────────────┬───────────────────────────────────────────────────────────────────┐\n",
       "│\u001b[1m \u001b[0m\u001b[1mName                                       \u001b[0m\u001b[1m \u001b[0m│\u001b[1m \u001b[0m\u001b[1mValue                                                            \u001b[0m\u001b[1m \u001b[0m│\n",
       "├─────────────────────────────────────────────┼───────────────────────────────────────────────────────────────────┤\n",
       "│\u001b[36m \u001b[0m\u001b[36mData                                       \u001b[0m\u001b[36m \u001b[0m│ Data: \u001b[1;36m20\u001b[0m samples, \u001b[1;36m5\u001b[0m cell types                                    │\n",
       "│\u001b[36m \u001b[0m\u001b[36mReference cell type                        \u001b[0m\u001b[36m \u001b[0m│ Monocytes                                                         │\n",
       "│\u001b[36m \u001b[0m\u001b[36mFormula                                    \u001b[0m\u001b[36m \u001b[0m│ Sex                                                               │\n",
       "└─────────────────────────────────────────────┴───────────────────────────────────────────────────────────────────┘\n"
      ]
     },
     "metadata": {},
     "output_type": "display_data"
    },
    {
     "data": {
      "text/html": [
       "<pre style=\"white-space:pre;overflow-x:auto;line-height:normal;font-family:Menlo,'DejaVu Sans Mono',consolas,'Courier New',monospace\">┌─────────────────────────────────────────────────────────────────────────────────────────────────────────────────┐\n",
       "│<span style=\"font-weight: bold\"> Intercepts                                                                                                      </span>│\n",
       "├─────────────────────────────────────────────────────────────────────────────────────────────────────────────────┤\n",
       "│                  Final Parameter  Expected Sample                                                               │\n",
       "│ Cell Type                                                                                                       │\n",
       "│ B cells              <span style=\"color: #008080; text-decoration-color: #008080; font-weight: bold\">1.869</span>            <span style=\"color: #008080; text-decoration-color: #008080; font-weight: bold\">868.095</span>                                                                   │\n",
       "│ Dendritic cells      <span style=\"color: #008080; text-decoration-color: #008080; font-weight: bold\">0.393</span>            <span style=\"color: #008080; text-decoration-color: #008080; font-weight: bold\">198.403</span>                                                                   │\n",
       "│ Monocytes            <span style=\"color: #008080; text-decoration-color: #008080; font-weight: bold\">2.394</span>           <span style=\"color: #008080; text-decoration-color: #008080; font-weight: bold\">1467.479</span>                                                                   │\n",
       "│ NK cells             <span style=\"color: #008080; text-decoration-color: #008080; font-weight: bold\">2.112</span>           <span style=\"color: #008080; text-decoration-color: #008080; font-weight: bold\">1106.881</span>                                                                   │\n",
       "│ T cells              <span style=\"color: #008080; text-decoration-color: #008080; font-weight: bold\">3.636</span>           <span style=\"color: #008080; text-decoration-color: #008080; font-weight: bold\">5081.192</span>                                                                   │\n",
       "└─────────────────────────────────────────────────────────────────────────────────────────────────────────────────┘\n",
       "</pre>\n"
      ],
      "text/plain": [
       "┌─────────────────────────────────────────────────────────────────────────────────────────────────────────────────┐\n",
       "│\u001b[1m \u001b[0m\u001b[1mIntercepts                                                                                                     \u001b[0m\u001b[1m \u001b[0m│\n",
       "├─────────────────────────────────────────────────────────────────────────────────────────────────────────────────┤\n",
       "│                  Final Parameter  Expected Sample                                                               │\n",
       "│ Cell Type                                                                                                       │\n",
       "│ B cells              \u001b[1;36m1.869\u001b[0m            \u001b[1;36m868.095\u001b[0m                                                                   │\n",
       "│ Dendritic cells      \u001b[1;36m0.393\u001b[0m            \u001b[1;36m198.403\u001b[0m                                                                   │\n",
       "│ Monocytes            \u001b[1;36m2.394\u001b[0m           \u001b[1;36m1467.479\u001b[0m                                                                   │\n",
       "│ NK cells             \u001b[1;36m2.112\u001b[0m           \u001b[1;36m1106.881\u001b[0m                                                                   │\n",
       "│ T cells              \u001b[1;36m3.636\u001b[0m           \u001b[1;36m5081.192\u001b[0m                                                                   │\n",
       "└─────────────────────────────────────────────────────────────────────────────────────────────────────────────────┘\n"
      ]
     },
     "metadata": {},
     "output_type": "display_data"
    },
    {
     "data": {
      "text/html": [
       "<pre style=\"white-space:pre;overflow-x:auto;line-height:normal;font-family:Menlo,'DejaVu Sans Mono',consolas,'Courier New',monospace\">┌─────────────────────────────────────────────────────────────────────────────────────────────────────────────────┐\n",
       "│<span style=\"font-weight: bold\"> Effects                                                                                                         </span>│\n",
       "├─────────────────────────────────────────────────────────────────────────────────────────────────────────────────┤\n",
       "│                            Final Parameter  Expected Sample  log2-fold change                                   │\n",
       "│ Covariate Cell Type                                                                                             │\n",
       "│ SexT.Male B cells              <span style=\"color: #008080; text-decoration-color: #008080; font-weight: bold\">0.000</span>            <span style=\"color: #008080; text-decoration-color: #008080; font-weight: bold\">868.095</span>           <span style=\"color: #008080; text-decoration-color: #008080; font-weight: bold\">0.000</span>                                         │\n",
       "│           Dendritic cells      <span style=\"color: #008080; text-decoration-color: #008080; font-weight: bold\">0.000</span>            <span style=\"color: #008080; text-decoration-color: #008080; font-weight: bold\">198.403</span>           <span style=\"color: #008080; text-decoration-color: #008080; font-weight: bold\">0.000</span>                                         │\n",
       "│           Monocytes            <span style=\"color: #008080; text-decoration-color: #008080; font-weight: bold\">0.000</span>           <span style=\"color: #008080; text-decoration-color: #008080; font-weight: bold\">1467.479</span>           <span style=\"color: #008080; text-decoration-color: #008080; font-weight: bold\">0.000</span>                                         │\n",
       "│           NK cells             <span style=\"color: #008080; text-decoration-color: #008080; font-weight: bold\">0.000</span>           <span style=\"color: #008080; text-decoration-color: #008080; font-weight: bold\">1106.881</span>           <span style=\"color: #008080; text-decoration-color: #008080; font-weight: bold\">0.000</span>                                         │\n",
       "│           T cells              <span style=\"color: #008080; text-decoration-color: #008080; font-weight: bold\">0.000</span>           <span style=\"color: #008080; text-decoration-color: #008080; font-weight: bold\">5081.192</span>           <span style=\"color: #008080; text-decoration-color: #008080; font-weight: bold\">0.000</span>                                         │\n",
       "└─────────────────────────────────────────────────────────────────────────────────────────────────────────────────┘\n",
       "</pre>\n"
      ],
      "text/plain": [
       "┌─────────────────────────────────────────────────────────────────────────────────────────────────────────────────┐\n",
       "│\u001b[1m \u001b[0m\u001b[1mEffects                                                                                                        \u001b[0m\u001b[1m \u001b[0m│\n",
       "├─────────────────────────────────────────────────────────────────────────────────────────────────────────────────┤\n",
       "│                            Final Parameter  Expected Sample  log2-fold change                                   │\n",
       "│ Covariate Cell Type                                                                                             │\n",
       "│ SexT.Male B cells              \u001b[1;36m0.000\u001b[0m            \u001b[1;36m868.095\u001b[0m           \u001b[1;36m0.000\u001b[0m                                         │\n",
       "│           Dendritic cells      \u001b[1;36m0.000\u001b[0m            \u001b[1;36m198.403\u001b[0m           \u001b[1;36m0.000\u001b[0m                                         │\n",
       "│           Monocytes            \u001b[1;36m0.000\u001b[0m           \u001b[1;36m1467.479\u001b[0m           \u001b[1;36m0.000\u001b[0m                                         │\n",
       "│           NK cells             \u001b[1;36m0.000\u001b[0m           \u001b[1;36m1106.881\u001b[0m           \u001b[1;36m0.000\u001b[0m                                         │\n",
       "│           T cells              \u001b[1;36m0.000\u001b[0m           \u001b[1;36m5081.192\u001b[0m           \u001b[1;36m0.000\u001b[0m                                         │\n",
       "└─────────────────────────────────────────────────────────────────────────────────────────────────────────────────┘\n"
      ]
     },
     "metadata": {},
     "output_type": "display_data"
    }
   ],
   "source": [
    "sccoda_model.summary(sccoda_data, modality_key=\"coda\")"
   ]
  },
  {
   "cell_type": "code",
   "execution_count": 31,
   "metadata": {},
   "outputs": [
    {
     "data": {
      "text/html": [
       "<div>\n",
       "<style scoped>\n",
       "    .dataframe tbody tr th:only-of-type {\n",
       "        vertical-align: middle;\n",
       "    }\n",
       "\n",
       "    .dataframe tbody tr th {\n",
       "        vertical-align: top;\n",
       "    }\n",
       "\n",
       "    .dataframe thead th {\n",
       "        text-align: right;\n",
       "    }\n",
       "</style>\n",
       "<table border=\"1\" class=\"dataframe\">\n",
       "  <thead>\n",
       "    <tr style=\"text-align: right;\">\n",
       "      <th></th>\n",
       "      <th></th>\n",
       "      <th>credible_effect</th>\n",
       "      <th>fdr</th>\n",
       "    </tr>\n",
       "    <tr>\n",
       "      <th>Covariate</th>\n",
       "      <th>Cell Type</th>\n",
       "      <th></th>\n",
       "      <th></th>\n",
       "    </tr>\n",
       "  </thead>\n",
       "  <tbody>\n",
       "    <tr>\n",
       "      <th rowspan=\"30\" valign=\"top\">Sex[T.Male]</th>\n",
       "      <th>B cells</th>\n",
       "      <td>False</td>\n",
       "      <td>0.01</td>\n",
       "    </tr>\n",
       "    <tr>\n",
       "      <th>Dendritic cells</th>\n",
       "      <td>False</td>\n",
       "      <td>0.01</td>\n",
       "    </tr>\n",
       "    <tr>\n",
       "      <th>Monocytes</th>\n",
       "      <td>False</td>\n",
       "      <td>0.01</td>\n",
       "    </tr>\n",
       "    <tr>\n",
       "      <th>NK cells</th>\n",
       "      <td>False</td>\n",
       "      <td>0.01</td>\n",
       "    </tr>\n",
       "    <tr>\n",
       "      <th>T cells</th>\n",
       "      <td>False</td>\n",
       "      <td>0.01</td>\n",
       "    </tr>\n",
       "    <tr>\n",
       "      <th>B cells</th>\n",
       "      <td>False</td>\n",
       "      <td>0.05</td>\n",
       "    </tr>\n",
       "    <tr>\n",
       "      <th>Dendritic cells</th>\n",
       "      <td>False</td>\n",
       "      <td>0.05</td>\n",
       "    </tr>\n",
       "    <tr>\n",
       "      <th>Monocytes</th>\n",
       "      <td>False</td>\n",
       "      <td>0.05</td>\n",
       "    </tr>\n",
       "    <tr>\n",
       "      <th>NK cells</th>\n",
       "      <td>False</td>\n",
       "      <td>0.05</td>\n",
       "    </tr>\n",
       "    <tr>\n",
       "      <th>T cells</th>\n",
       "      <td>False</td>\n",
       "      <td>0.05</td>\n",
       "    </tr>\n",
       "    <tr>\n",
       "      <th>B cells</th>\n",
       "      <td>False</td>\n",
       "      <td>0.10</td>\n",
       "    </tr>\n",
       "    <tr>\n",
       "      <th>Dendritic cells</th>\n",
       "      <td>False</td>\n",
       "      <td>0.10</td>\n",
       "    </tr>\n",
       "    <tr>\n",
       "      <th>Monocytes</th>\n",
       "      <td>False</td>\n",
       "      <td>0.10</td>\n",
       "    </tr>\n",
       "    <tr>\n",
       "      <th>NK cells</th>\n",
       "      <td>False</td>\n",
       "      <td>0.10</td>\n",
       "    </tr>\n",
       "    <tr>\n",
       "      <th>T cells</th>\n",
       "      <td>False</td>\n",
       "      <td>0.10</td>\n",
       "    </tr>\n",
       "    <tr>\n",
       "      <th>B cells</th>\n",
       "      <td>False</td>\n",
       "      <td>0.20</td>\n",
       "    </tr>\n",
       "    <tr>\n",
       "      <th>Dendritic cells</th>\n",
       "      <td>False</td>\n",
       "      <td>0.20</td>\n",
       "    </tr>\n",
       "    <tr>\n",
       "      <th>Monocytes</th>\n",
       "      <td>False</td>\n",
       "      <td>0.20</td>\n",
       "    </tr>\n",
       "    <tr>\n",
       "      <th>NK cells</th>\n",
       "      <td>False</td>\n",
       "      <td>0.20</td>\n",
       "    </tr>\n",
       "    <tr>\n",
       "      <th>T cells</th>\n",
       "      <td>False</td>\n",
       "      <td>0.20</td>\n",
       "    </tr>\n",
       "    <tr>\n",
       "      <th>B cells</th>\n",
       "      <td>False</td>\n",
       "      <td>0.30</td>\n",
       "    </tr>\n",
       "    <tr>\n",
       "      <th>Dendritic cells</th>\n",
       "      <td>False</td>\n",
       "      <td>0.30</td>\n",
       "    </tr>\n",
       "    <tr>\n",
       "      <th>Monocytes</th>\n",
       "      <td>False</td>\n",
       "      <td>0.30</td>\n",
       "    </tr>\n",
       "    <tr>\n",
       "      <th>NK cells</th>\n",
       "      <td>True</td>\n",
       "      <td>0.30</td>\n",
       "    </tr>\n",
       "    <tr>\n",
       "      <th>T cells</th>\n",
       "      <td>False</td>\n",
       "      <td>0.30</td>\n",
       "    </tr>\n",
       "    <tr>\n",
       "      <th>B cells</th>\n",
       "      <td>False</td>\n",
       "      <td>0.40</td>\n",
       "    </tr>\n",
       "    <tr>\n",
       "      <th>Dendritic cells</th>\n",
       "      <td>False</td>\n",
       "      <td>0.40</td>\n",
       "    </tr>\n",
       "    <tr>\n",
       "      <th>Monocytes</th>\n",
       "      <td>False</td>\n",
       "      <td>0.40</td>\n",
       "    </tr>\n",
       "    <tr>\n",
       "      <th>NK cells</th>\n",
       "      <td>True</td>\n",
       "      <td>0.40</td>\n",
       "    </tr>\n",
       "    <tr>\n",
       "      <th>T cells</th>\n",
       "      <td>True</td>\n",
       "      <td>0.40</td>\n",
       "    </tr>\n",
       "  </tbody>\n",
       "</table>\n",
       "</div>"
      ],
      "text/plain": [
       "                             credible_effect   fdr\n",
       "Covariate   Cell Type                             \n",
       "Sex[T.Male] B cells                    False  0.01\n",
       "            Dendritic cells            False  0.01\n",
       "            Monocytes                  False  0.01\n",
       "            NK cells                   False  0.01\n",
       "            T cells                    False  0.01\n",
       "            B cells                    False  0.05\n",
       "            Dendritic cells            False  0.05\n",
       "            Monocytes                  False  0.05\n",
       "            NK cells                   False  0.05\n",
       "            T cells                    False  0.05\n",
       "            B cells                    False  0.10\n",
       "            Dendritic cells            False  0.10\n",
       "            Monocytes                  False  0.10\n",
       "            NK cells                   False  0.10\n",
       "            T cells                    False  0.10\n",
       "            B cells                    False  0.20\n",
       "            Dendritic cells            False  0.20\n",
       "            Monocytes                  False  0.20\n",
       "            NK cells                   False  0.20\n",
       "            T cells                    False  0.20\n",
       "            B cells                    False  0.30\n",
       "            Dendritic cells            False  0.30\n",
       "            Monocytes                  False  0.30\n",
       "            NK cells                    True  0.30\n",
       "            T cells                    False  0.30\n",
       "            B cells                    False  0.40\n",
       "            Dendritic cells            False  0.40\n",
       "            Monocytes                  False  0.40\n",
       "            NK cells                    True  0.40\n",
       "            T cells                     True  0.40"
      ]
     },
     "execution_count": 31,
     "metadata": {},
     "output_type": "execute_result"
    }
   ],
   "source": [
    "# Get credible effects at different FDR levels:\n",
    "credible_effects_list = []\n",
    "for fdr in [0.01,0.05,0.1,0.2,0.3,0.4]:\n",
    "    sccoda_model.set_fdr(sccoda_data, modality_key=\"coda\", est_fdr=fdr)\n",
    "    \n",
    "    credible_effects_table = sccoda_model.credible_effects(sccoda_data, modality_key=\"coda\").to_frame(name=\"credible_effect\")\n",
    "    credible_effects_table[\"fdr\"] = fdr\n",
    "    credible_effects_list.append(credible_effects_table)\n",
    "\n",
    "credible_effects = pd.concat(credible_effects_list)\n",
    "credible_effects"
   ]
  },
  {
   "cell_type": "code",
   "execution_count": 32,
   "metadata": {},
   "outputs": [],
   "source": [
    "credible_effects.to_csv(\"results/pbmc_sccoda_rep.tsv\", sep=\"\\t\")"
   ]
  },
  {
   "cell_type": "markdown",
   "metadata": {},
   "source": [
    "### Without replicates"
   ]
  },
  {
   "cell_type": "code",
   "execution_count": 33,
   "metadata": {},
   "outputs": [],
   "source": [
    "sccoda_model = pt.tl.Sccoda()\n",
    "sccoda_data = sccoda_model.load(sccoda_adata, type=\"cell_level\", generate_sample_level=True, cell_type_identifier=\"Celltype\", \n",
    "                                sample_identifier=\"Sex\", covariate_obs=[\"Sex\"])\n",
    "sccoda_data = sccoda_model.prepare(sccoda_data, modality_key=\"coda\", formula=\"Sex\", reference_cell_type=\"Monocytes\")"
   ]
  },
  {
   "cell_type": "code",
   "execution_count": 34,
   "metadata": {},
   "outputs": [
    {
     "name": "stderr",
     "output_type": "stream",
     "text": [
      "sample: 100%|██████████| 11000/11000 [00:14<00:00, 772.23it/s, 63 steps of size 4.35e-02. acc. prob=0.71] \n"
     ]
    }
   ],
   "source": [
    "sccoda_model.run_nuts(sccoda_data, modality_key=\"coda\")"
   ]
  },
  {
   "cell_type": "code",
   "execution_count": 35,
   "metadata": {},
   "outputs": [
    {
     "data": {
      "text/html": [
       "<pre style=\"white-space:pre;overflow-x:auto;line-height:normal;font-family:Menlo,'DejaVu Sans Mono',consolas,'Courier New',monospace\"><span style=\"font-style: italic\">                                          Compositional Analysis summary                                           </span>\n",
       "┌──────────────────────────────────────────────┬──────────────────────────────────────────────────────────────────┐\n",
       "│<span style=\"font-weight: bold\"> Name                                         </span>│<span style=\"font-weight: bold\"> Value                                                            </span>│\n",
       "├──────────────────────────────────────────────┼──────────────────────────────────────────────────────────────────┤\n",
       "│<span style=\"color: #008080; text-decoration-color: #008080\"> Data                                         </span>│ Data: <span style=\"color: #008080; text-decoration-color: #008080; font-weight: bold\">2</span> samples, <span style=\"color: #008080; text-decoration-color: #008080; font-weight: bold\">5</span> cell types                                    │\n",
       "│<span style=\"color: #008080; text-decoration-color: #008080\"> Reference cell type                          </span>│ Monocytes                                                        │\n",
       "│<span style=\"color: #008080; text-decoration-color: #008080\"> Formula                                      </span>│ Sex                                                              │\n",
       "└──────────────────────────────────────────────┴──────────────────────────────────────────────────────────────────┘\n",
       "</pre>\n"
      ],
      "text/plain": [
       "\u001b[3m                                          Compositional Analysis summary                                           \u001b[0m\n",
       "┌──────────────────────────────────────────────┬──────────────────────────────────────────────────────────────────┐\n",
       "│\u001b[1m \u001b[0m\u001b[1mName                                        \u001b[0m\u001b[1m \u001b[0m│\u001b[1m \u001b[0m\u001b[1mValue                                                           \u001b[0m\u001b[1m \u001b[0m│\n",
       "├──────────────────────────────────────────────┼──────────────────────────────────────────────────────────────────┤\n",
       "│\u001b[36m \u001b[0m\u001b[36mData                                        \u001b[0m\u001b[36m \u001b[0m│ Data: \u001b[1;36m2\u001b[0m samples, \u001b[1;36m5\u001b[0m cell types                                    │\n",
       "│\u001b[36m \u001b[0m\u001b[36mReference cell type                         \u001b[0m\u001b[36m \u001b[0m│ Monocytes                                                        │\n",
       "│\u001b[36m \u001b[0m\u001b[36mFormula                                     \u001b[0m\u001b[36m \u001b[0m│ Sex                                                              │\n",
       "└──────────────────────────────────────────────┴──────────────────────────────────────────────────────────────────┘\n"
      ]
     },
     "metadata": {},
     "output_type": "display_data"
    },
    {
     "data": {
      "text/html": [
       "<pre style=\"white-space:pre;overflow-x:auto;line-height:normal;font-family:Menlo,'DejaVu Sans Mono',consolas,'Courier New',monospace\">┌─────────────────────────────────────────────────────────────────────────────────────────────────────────────────┐\n",
       "│<span style=\"font-weight: bold\"> Intercepts                                                                                                      </span>│\n",
       "├─────────────────────────────────────────────────────────────────────────────────────────────────────────────────┤\n",
       "│                  Final Parameter  Expected Sample                                                               │\n",
       "│ Cell Type                                                                                                       │\n",
       "│ B cells              <span style=\"color: #008080; text-decoration-color: #008080; font-weight: bold\">3.365</span>           <span style=\"color: #008080; text-decoration-color: #008080; font-weight: bold\">8632.177</span>                                                                   │\n",
       "│ Dendritic cells      <span style=\"color: #008080; text-decoration-color: #008080; font-weight: bold\">1.621</span>           <span style=\"color: #008080; text-decoration-color: #008080; font-weight: bold\">1509.075</span>                                                                   │\n",
       "│ Monocytes            <span style=\"color: #008080; text-decoration-color: #008080; font-weight: bold\">3.917</span>          <span style=\"color: #008080; text-decoration-color: #008080; font-weight: bold\">14991.700</span>                                                                   │\n",
       "│ NK cells             <span style=\"color: #008080; text-decoration-color: #008080; font-weight: bold\">3.635</span>          <span style=\"color: #008080; text-decoration-color: #008080; font-weight: bold\">11307.845</span>                                                                   │\n",
       "│ T cells              <span style=\"color: #008080; text-decoration-color: #008080; font-weight: bold\">5.137</span>          <span style=\"color: #008080; text-decoration-color: #008080; font-weight: bold\">50779.703</span>                                                                   │\n",
       "└─────────────────────────────────────────────────────────────────────────────────────────────────────────────────┘\n",
       "</pre>\n"
      ],
      "text/plain": [
       "┌─────────────────────────────────────────────────────────────────────────────────────────────────────────────────┐\n",
       "│\u001b[1m \u001b[0m\u001b[1mIntercepts                                                                                                     \u001b[0m\u001b[1m \u001b[0m│\n",
       "├─────────────────────────────────────────────────────────────────────────────────────────────────────────────────┤\n",
       "│                  Final Parameter  Expected Sample                                                               │\n",
       "│ Cell Type                                                                                                       │\n",
       "│ B cells              \u001b[1;36m3.365\u001b[0m           \u001b[1;36m8632.177\u001b[0m                                                                   │\n",
       "│ Dendritic cells      \u001b[1;36m1.621\u001b[0m           \u001b[1;36m1509.075\u001b[0m                                                                   │\n",
       "│ Monocytes            \u001b[1;36m3.917\u001b[0m          \u001b[1;36m14991.700\u001b[0m                                                                   │\n",
       "│ NK cells             \u001b[1;36m3.635\u001b[0m          \u001b[1;36m11307.845\u001b[0m                                                                   │\n",
       "│ T cells              \u001b[1;36m5.137\u001b[0m          \u001b[1;36m50779.703\u001b[0m                                                                   │\n",
       "└─────────────────────────────────────────────────────────────────────────────────────────────────────────────────┘\n"
      ]
     },
     "metadata": {},
     "output_type": "display_data"
    },
    {
     "data": {
      "text/html": [
       "<pre style=\"white-space:pre;overflow-x:auto;line-height:normal;font-family:Menlo,'DejaVu Sans Mono',consolas,'Courier New',monospace\">┌─────────────────────────────────────────────────────────────────────────────────────────────────────────────────┐\n",
       "│<span style=\"font-weight: bold\"> Effects                                                                                                         </span>│\n",
       "├─────────────────────────────────────────────────────────────────────────────────────────────────────────────────┤\n",
       "│                            Final Parameter  Expected Sample  log2-fold change                                   │\n",
       "│ Covariate Cell Type                                                                                             │\n",
       "│ SexT.Male B cells              <span style=\"color: #008080; text-decoration-color: #008080; font-weight: bold\">0.000</span>           <span style=\"color: #008080; text-decoration-color: #008080; font-weight: bold\">8632.177</span>           <span style=\"color: #008080; text-decoration-color: #008080; font-weight: bold\">0.000</span>                                         │\n",
       "│           Dendritic cells      <span style=\"color: #008080; text-decoration-color: #008080; font-weight: bold\">0.000</span>           <span style=\"color: #008080; text-decoration-color: #008080; font-weight: bold\">1509.075</span>           <span style=\"color: #008080; text-decoration-color: #008080; font-weight: bold\">0.000</span>                                         │\n",
       "│           Monocytes            <span style=\"color: #008080; text-decoration-color: #008080; font-weight: bold\">0.000</span>          <span style=\"color: #008080; text-decoration-color: #008080; font-weight: bold\">14991.700</span>           <span style=\"color: #008080; text-decoration-color: #008080; font-weight: bold\">0.000</span>                                         │\n",
       "│           NK cells             <span style=\"color: #008080; text-decoration-color: #008080; font-weight: bold\">0.000</span>          <span style=\"color: #008080; text-decoration-color: #008080; font-weight: bold\">11307.845</span>           <span style=\"color: #008080; text-decoration-color: #008080; font-weight: bold\">0.000</span>                                         │\n",
       "│           T cells              <span style=\"color: #008080; text-decoration-color: #008080; font-weight: bold\">0.000</span>          <span style=\"color: #008080; text-decoration-color: #008080; font-weight: bold\">50779.703</span>           <span style=\"color: #008080; text-decoration-color: #008080; font-weight: bold\">0.000</span>                                         │\n",
       "└─────────────────────────────────────────────────────────────────────────────────────────────────────────────────┘\n",
       "</pre>\n"
      ],
      "text/plain": [
       "┌─────────────────────────────────────────────────────────────────────────────────────────────────────────────────┐\n",
       "│\u001b[1m \u001b[0m\u001b[1mEffects                                                                                                        \u001b[0m\u001b[1m \u001b[0m│\n",
       "├─────────────────────────────────────────────────────────────────────────────────────────────────────────────────┤\n",
       "│                            Final Parameter  Expected Sample  log2-fold change                                   │\n",
       "│ Covariate Cell Type                                                                                             │\n",
       "│ SexT.Male B cells              \u001b[1;36m0.000\u001b[0m           \u001b[1;36m8632.177\u001b[0m           \u001b[1;36m0.000\u001b[0m                                         │\n",
       "│           Dendritic cells      \u001b[1;36m0.000\u001b[0m           \u001b[1;36m1509.075\u001b[0m           \u001b[1;36m0.000\u001b[0m                                         │\n",
       "│           Monocytes            \u001b[1;36m0.000\u001b[0m          \u001b[1;36m14991.700\u001b[0m           \u001b[1;36m0.000\u001b[0m                                         │\n",
       "│           NK cells             \u001b[1;36m0.000\u001b[0m          \u001b[1;36m11307.845\u001b[0m           \u001b[1;36m0.000\u001b[0m                                         │\n",
       "│           T cells              \u001b[1;36m0.000\u001b[0m          \u001b[1;36m50779.703\u001b[0m           \u001b[1;36m0.000\u001b[0m                                         │\n",
       "└─────────────────────────────────────────────────────────────────────────────────────────────────────────────────┘\n"
      ]
     },
     "metadata": {},
     "output_type": "display_data"
    }
   ],
   "source": [
    "sccoda_model.summary(sccoda_data, modality_key=\"coda\")"
   ]
  },
  {
   "cell_type": "code",
   "execution_count": 36,
   "metadata": {},
   "outputs": [
    {
     "data": {
      "text/html": [
       "<div>\n",
       "<style scoped>\n",
       "    .dataframe tbody tr th:only-of-type {\n",
       "        vertical-align: middle;\n",
       "    }\n",
       "\n",
       "    .dataframe tbody tr th {\n",
       "        vertical-align: top;\n",
       "    }\n",
       "\n",
       "    .dataframe thead th {\n",
       "        text-align: right;\n",
       "    }\n",
       "</style>\n",
       "<table border=\"1\" class=\"dataframe\">\n",
       "  <thead>\n",
       "    <tr style=\"text-align: right;\">\n",
       "      <th></th>\n",
       "      <th></th>\n",
       "      <th>credible_effect</th>\n",
       "      <th>fdr</th>\n",
       "    </tr>\n",
       "    <tr>\n",
       "      <th>Covariate</th>\n",
       "      <th>Cell Type</th>\n",
       "      <th></th>\n",
       "      <th></th>\n",
       "    </tr>\n",
       "  </thead>\n",
       "  <tbody>\n",
       "    <tr>\n",
       "      <th rowspan=\"30\" valign=\"top\">Sex[T.Male]</th>\n",
       "      <th>B cells</th>\n",
       "      <td>False</td>\n",
       "      <td>0.01</td>\n",
       "    </tr>\n",
       "    <tr>\n",
       "      <th>Dendritic cells</th>\n",
       "      <td>False</td>\n",
       "      <td>0.01</td>\n",
       "    </tr>\n",
       "    <tr>\n",
       "      <th>Monocytes</th>\n",
       "      <td>False</td>\n",
       "      <td>0.01</td>\n",
       "    </tr>\n",
       "    <tr>\n",
       "      <th>NK cells</th>\n",
       "      <td>False</td>\n",
       "      <td>0.01</td>\n",
       "    </tr>\n",
       "    <tr>\n",
       "      <th>T cells</th>\n",
       "      <td>False</td>\n",
       "      <td>0.01</td>\n",
       "    </tr>\n",
       "    <tr>\n",
       "      <th>B cells</th>\n",
       "      <td>False</td>\n",
       "      <td>0.05</td>\n",
       "    </tr>\n",
       "    <tr>\n",
       "      <th>Dendritic cells</th>\n",
       "      <td>False</td>\n",
       "      <td>0.05</td>\n",
       "    </tr>\n",
       "    <tr>\n",
       "      <th>Monocytes</th>\n",
       "      <td>False</td>\n",
       "      <td>0.05</td>\n",
       "    </tr>\n",
       "    <tr>\n",
       "      <th>NK cells</th>\n",
       "      <td>False</td>\n",
       "      <td>0.05</td>\n",
       "    </tr>\n",
       "    <tr>\n",
       "      <th>T cells</th>\n",
       "      <td>False</td>\n",
       "      <td>0.05</td>\n",
       "    </tr>\n",
       "    <tr>\n",
       "      <th>B cells</th>\n",
       "      <td>False</td>\n",
       "      <td>0.10</td>\n",
       "    </tr>\n",
       "    <tr>\n",
       "      <th>Dendritic cells</th>\n",
       "      <td>False</td>\n",
       "      <td>0.10</td>\n",
       "    </tr>\n",
       "    <tr>\n",
       "      <th>Monocytes</th>\n",
       "      <td>False</td>\n",
       "      <td>0.10</td>\n",
       "    </tr>\n",
       "    <tr>\n",
       "      <th>NK cells</th>\n",
       "      <td>False</td>\n",
       "      <td>0.10</td>\n",
       "    </tr>\n",
       "    <tr>\n",
       "      <th>T cells</th>\n",
       "      <td>False</td>\n",
       "      <td>0.10</td>\n",
       "    </tr>\n",
       "    <tr>\n",
       "      <th>B cells</th>\n",
       "      <td>False</td>\n",
       "      <td>0.20</td>\n",
       "    </tr>\n",
       "    <tr>\n",
       "      <th>Dendritic cells</th>\n",
       "      <td>False</td>\n",
       "      <td>0.20</td>\n",
       "    </tr>\n",
       "    <tr>\n",
       "      <th>Monocytes</th>\n",
       "      <td>False</td>\n",
       "      <td>0.20</td>\n",
       "    </tr>\n",
       "    <tr>\n",
       "      <th>NK cells</th>\n",
       "      <td>False</td>\n",
       "      <td>0.20</td>\n",
       "    </tr>\n",
       "    <tr>\n",
       "      <th>T cells</th>\n",
       "      <td>False</td>\n",
       "      <td>0.20</td>\n",
       "    </tr>\n",
       "    <tr>\n",
       "      <th>B cells</th>\n",
       "      <td>False</td>\n",
       "      <td>0.30</td>\n",
       "    </tr>\n",
       "    <tr>\n",
       "      <th>Dendritic cells</th>\n",
       "      <td>False</td>\n",
       "      <td>0.30</td>\n",
       "    </tr>\n",
       "    <tr>\n",
       "      <th>Monocytes</th>\n",
       "      <td>False</td>\n",
       "      <td>0.30</td>\n",
       "    </tr>\n",
       "    <tr>\n",
       "      <th>NK cells</th>\n",
       "      <td>False</td>\n",
       "      <td>0.30</td>\n",
       "    </tr>\n",
       "    <tr>\n",
       "      <th>T cells</th>\n",
       "      <td>False</td>\n",
       "      <td>0.30</td>\n",
       "    </tr>\n",
       "    <tr>\n",
       "      <th>B cells</th>\n",
       "      <td>False</td>\n",
       "      <td>0.40</td>\n",
       "    </tr>\n",
       "    <tr>\n",
       "      <th>Dendritic cells</th>\n",
       "      <td>False</td>\n",
       "      <td>0.40</td>\n",
       "    </tr>\n",
       "    <tr>\n",
       "      <th>Monocytes</th>\n",
       "      <td>False</td>\n",
       "      <td>0.40</td>\n",
       "    </tr>\n",
       "    <tr>\n",
       "      <th>NK cells</th>\n",
       "      <td>True</td>\n",
       "      <td>0.40</td>\n",
       "    </tr>\n",
       "    <tr>\n",
       "      <th>T cells</th>\n",
       "      <td>False</td>\n",
       "      <td>0.40</td>\n",
       "    </tr>\n",
       "  </tbody>\n",
       "</table>\n",
       "</div>"
      ],
      "text/plain": [
       "                             credible_effect   fdr\n",
       "Covariate   Cell Type                             \n",
       "Sex[T.Male] B cells                    False  0.01\n",
       "            Dendritic cells            False  0.01\n",
       "            Monocytes                  False  0.01\n",
       "            NK cells                   False  0.01\n",
       "            T cells                    False  0.01\n",
       "            B cells                    False  0.05\n",
       "            Dendritic cells            False  0.05\n",
       "            Monocytes                  False  0.05\n",
       "            NK cells                   False  0.05\n",
       "            T cells                    False  0.05\n",
       "            B cells                    False  0.10\n",
       "            Dendritic cells            False  0.10\n",
       "            Monocytes                  False  0.10\n",
       "            NK cells                   False  0.10\n",
       "            T cells                    False  0.10\n",
       "            B cells                    False  0.20\n",
       "            Dendritic cells            False  0.20\n",
       "            Monocytes                  False  0.20\n",
       "            NK cells                   False  0.20\n",
       "            T cells                    False  0.20\n",
       "            B cells                    False  0.30\n",
       "            Dendritic cells            False  0.30\n",
       "            Monocytes                  False  0.30\n",
       "            NK cells                   False  0.30\n",
       "            T cells                    False  0.30\n",
       "            B cells                    False  0.40\n",
       "            Dendritic cells            False  0.40\n",
       "            Monocytes                  False  0.40\n",
       "            NK cells                    True  0.40\n",
       "            T cells                    False  0.40"
      ]
     },
     "execution_count": 36,
     "metadata": {},
     "output_type": "execute_result"
    }
   ],
   "source": [
    "# Get credible effects at different FDR levels:\n",
    "credible_effects_list = []\n",
    "for fdr in [0.01,0.05,0.1,0.2,0.3,0.4]:\n",
    "    sccoda_model.set_fdr(sccoda_data, modality_key=\"coda\", est_fdr=fdr)\n",
    "    \n",
    "    credible_effects_table = sccoda_model.credible_effects(sccoda_data, modality_key=\"coda\").to_frame(name=\"credible_effect\")\n",
    "    credible_effects_table[\"fdr\"] = fdr\n",
    "    credible_effects_list.append(credible_effects_table)\n",
    "\n",
    "credible_effects = pd.concat(credible_effects_list)\n",
    "credible_effects"
   ]
  },
  {
   "cell_type": "code",
   "execution_count": 37,
   "metadata": {},
   "outputs": [],
   "source": [
    "credible_effects.to_csv(\"results/pbmc_sccoda_norep.tsv\", sep=\"\\t\")"
   ]
  }
 ],
 "metadata": {
  "kernelspec": {
   "display_name": "scanpro_analysis",
   "language": "python",
   "name": "scanpro_analysis"
  },
  "language_info": {
   "codemirror_mode": {
    "name": "ipython",
    "version": 3
   },
   "file_extension": ".py",
   "mimetype": "text/x-python",
   "name": "python",
   "nbconvert_exporter": "python",
   "pygments_lexer": "ipython3",
   "version": "3.9.18"
  },
  "vscode": {
   "interpreter": {
    "hash": "8a5edab282632443219e051e4ade2d1d5bbc671c781051bf1437897cbdfea0f1"
   }
  }
 },
 "nbformat": 4,
 "nbformat_minor": 2
}
