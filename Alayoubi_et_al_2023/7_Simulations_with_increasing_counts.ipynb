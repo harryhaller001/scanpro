{
 "cells": [
  {
   "cell_type": "markdown",
   "id": "53795685",
   "metadata": {},
   "source": [
    "# 7. Simulations with increasing cell counts"
   ]
  },
  {
   "cell_type": "markdown",
   "id": "0d0f16e2",
   "metadata": {},
   "source": [
    "To assess the effect of cell count and the number of bootstrapped samples on the ability to identify significant clusters by scanpro, we increment the `mu` parameter of the function `simulate_cell_counts_2`, which result in increased cell count each time. For each `mu` parameter, we generate 100 datasets randomly and run scanpro_boot on each, and the mean cell count is then calculated."
   ]
  },
  {
   "cell_type": "code",
   "execution_count": 1,
   "id": "10c53874",
   "metadata": {},
   "outputs": [],
   "source": [
    "import pandas as pd\n",
    "import numpy as np\n",
    "import time\n",
    "import multiprocessing as mp\n",
    "\n",
    "from scanpro import scanpro\n",
    "from scanpro.utils import estimate_params_from_counts, simulate_cell_counts_2, convert_counts_to_df"
   ]
  },
  {
   "cell_type": "code",
   "execution_count": 2,
   "id": "1e58fa5b",
   "metadata": {},
   "outputs": [],
   "source": [
    "OUT_PATH = 'results/benchmark'"
   ]
  },
  {
   "cell_type": "code",
   "execution_count": 3,
   "id": "b587f216",
   "metadata": {},
   "outputs": [],
   "source": [
    "def generate_dataset(p, a, b, n_reps, n_conds=2, n=20, mu=5000, seed=1):\n",
    "\n",
    "    np.random.seed(seed)\n",
    "    if b is None:\n",
    "        b = a * (1-p) / p\n",
    "\n",
    "    counts = simulate_cell_counts_2(p, n_reps, a, b, n_conds, n=n, mu=mu)\n",
    "\n",
    "    counts_df = convert_counts_to_df(counts, column_name=\"cluster\")\n",
    "\n",
    "    return counts_df"
   ]
  },
  {
   "cell_type": "code",
   "execution_count": 4,
   "id": "7eee436a",
   "metadata": {},
   "outputs": [],
   "source": [
    "def simulate_datasets(p, a, b, mu, n_reps=4, n_sims=100):\n",
    "    np.random.seed(10)\n",
    "    \n",
    "    pool = mp.Pool()\n",
    "    jobs = []\n",
    "    \n",
    "    for sim in range(n_sims):\n",
    "\n",
    "        # Run Scanpro or scanpro bootstrapping on 100 datasets\n",
    "        job = pool.apply_async(generate_dataset, (p, a, b, n_reps), dict(n_conds=2, n=20,\n",
    "                                                                         mu=mu, seed=sim))\n",
    "        jobs.append(job)\n",
    "\n",
    "    pool.close()\n",
    "    monitor_jobs(jobs)\n",
    "\n",
    "    results = [job.get() for job in jobs]\n",
    "    pool.join()\n",
    "\n",
    "    return results"
   ]
  },
  {
   "cell_type": "code",
   "execution_count": 5,
   "id": "56a75992",
   "metadata": {},
   "outputs": [],
   "source": [
    "def monitor_jobs(jobs):\n",
    "    \"\"\"\n",
    "    Monitor the status of jobs submitted to a pool.\n",
    "\n",
    "    Parameters\n",
    "    ----------\n",
    "    jobs : list of job objects\n",
    "        List of job objects, e.g. as returned by pool.map_async().\n",
    "    \"\"\"\n",
    "\n",
    "    if isinstance(jobs, dict):\n",
    "        jobs = list(jobs.values())\n",
    "\n",
    "    from tqdm import tqdm_notebook as tqdm\n",
    "    pbar = tqdm(total=len(jobs))\n",
    "    \n",
    "    # Wait for all jobs to finish\n",
    "    n_ready = sum([job.ready() for job in jobs])\n",
    "    while n_ready != len(jobs):\n",
    "        if n_ready != pbar.n:\n",
    "            pbar.n = n_ready\n",
    "            pbar.refresh()\n",
    "        time.sleep(1)\n",
    "        n_ready = sum([job.ready() for job in jobs])\n",
    "\n",
    "    pbar.n = n_ready  # update progress bar to 100%\n",
    "    pbar.refresh()\n",
    "    pbar.close()"
   ]
  },
  {
   "cell_type": "code",
   "execution_count": 6,
   "id": "ac1bb812",
   "metadata": {},
   "outputs": [],
   "source": [
    "def test_performance(datasets,\n",
    "                     n_reps,  # number of samples per condition\n",
    "                     transform,\n",
    "                     ):\n",
    "    \"\"\"Test the performance of bootstrap scanpro on simulated data.\n",
    "    :param list datasets: List of datasets as pandas dataframes to run scanpro on\n",
    "    :param int n_reps: Number of replicates the bootstrap is going to generate\n",
    "    :param str transform: method of transformation (logit or arcsin)\n",
    "    :return pandas.DataFrame all_run_results: A dataframe with results from all runs.\n",
    "    \"\"\"\n",
    "    import warnings\n",
    "    warnings.filterwarnings('ignore')\n",
    "\n",
    "    jobs = []\n",
    "\n",
    "    for mu in datasets.keys():\n",
    "        pool = mp.Pool()\n",
    "        for dataset in datasets[mu]:\n",
    "\n",
    "            # Run Scanpro or scanpro bootstrapping on 100 datasets\n",
    "            job = pool.apply_async(scanpro, (dataset,), dict(clusters_col=\"cluster\", conds_col=\"group\", \n",
    "                                                                     samples_col=None, n_reps=n_reps,\n",
    "                                                                     transform=transform, verbosity=0))\n",
    "            jobs.append(job)\n",
    "\n",
    "        pool.close()\n",
    "        monitor_jobs(jobs)\n",
    "\n",
    "        results = [job.get() for job in jobs]\n",
    "        pool.join()\n",
    "\n",
    "    # Add ID to each result\n",
    "    for i, result in enumerate(results):\n",
    "        result.results[\"run\"] = i + 1\n",
    "\n",
    "    # Collect result\n",
    "    all_run_results = [result.results for result in results]\n",
    "\n",
    "    return all_run_results"
   ]
  },
  {
   "cell_type": "code",
   "execution_count": 129,
   "id": "a5d0894d",
   "metadata": {},
   "outputs": [],
   "source": [
    "#### HELPER STATISTCS FUNCTIONS ####\n",
    "\n",
    "def compare_p_values(p_values, per_cluster=False):\n",
    "    \"\"\" Compare p-values of simulation with differences with expected output\"\"\"\n",
    "    out = []\n",
    "    for x in p_values:\n",
    "        if per_cluster:\n",
    "            # save hit rate per cluster\n",
    "            hitrate = [x[0]<.05, x[1]>=.05, x[2]>=.05, x[3]<.05, x[4]>=.05, x[5]>=.05, x[6]<0.05]\n",
    "        else:\n",
    "            # save hit rate per run\n",
    "            hitrate = x[0]<0.05 and x[1]>=0.05 and x[2]>=0.05 and x[3]<0.05 and x[4]>=0.05 and x[5]>=0.05 and x[6]<0.05\n",
    "        out.append(hitrate)\n",
    "\n",
    "    return out\n",
    "\n",
    "\n",
    "def get_means(data):\n",
    "    \"\"\"Get mean cell count for each mu\"\"\"\n",
    "    return [np.mean([x.shape[0] for x in data[mu]]) for mu in data.keys()]\n",
    "\n",
    "\n",
    "def get_sample_means(data):\n",
    "    \"\"\"Get samples mean cell count for each mu\"\"\"\n",
    "    return [np.mean([x['group'].value_counts().mean() for x in data[mu]]) for mu in data.keys()]\n",
    "\n",
    "\n",
    "def calc_hitrates(results, compare=None):\n",
    "    out = {mu: {method: None for method in list(results[mu].keys())} for mu in results.keys()}\n",
    "    for mu in results.keys():\n",
    "        for method in results[mu]:\n",
    "            p_values = [results[mu][method].iloc[i:i+7, 3] for i in np.arange(0, len(results[mu][method]), 7)]\n",
    "\n",
    "            if compare is None:\n",
    "                raise ValueError(\"Please provide a compare function!\")\n",
    "                \n",
    "            out[mu][method] = np.mean(compare(p_values)) * 100\n",
    "    \n",
    "    out = pd.DataFrame(out)\n",
    "    out = out.reset_index().melt(id_vars='index')\n",
    "    out.rename(columns={'index': 'method', 'variable': 'mu', 'value': 'hit_rate'}, inplace=True)\n",
    "\n",
    "    return out\n",
    "\n",
    "\n",
    "def get_stats(p_values, counts, n_sims):\n",
    "    \"\"\" Calculate sensitivty, specificty and false positive rate \"\"\"\n",
    "    from sklearn.metrics import roc_auc_score\n",
    "    \n",
    "    methods = list(p_values[counts[0]].keys())\n",
    "    results = {count: {method: [] for method in methods} for count in counts}\n",
    "    df_list = []\n",
    "    # True is significant cell type in original data\n",
    "    y_test = np.tile([True, False, False, True, False, False, True], n_sims)  \n",
    "    for i, count in enumerate(counts):\n",
    "        for method in methods:\n",
    "            test_df = pd.DataFrame(p_values[count][method])\n",
    "            test_stat = np.zeros((2,2))\n",
    "            test_stat[0][0] = sum([sum(test_df.iloc[:,i] < 0.05) for i in [0,3,6]])  # tp\n",
    "            test_stat[0][1] = sum([sum(test_df.iloc[:,i] < 0.05) for i in [1,2,4,5]])  # fp\n",
    "            test_stat[1][0] = sum([sum(test_df.iloc[:,i] > 0.05) for i in [0,3,6]])  # fn\n",
    "            test_stat[1][1] = sum([sum(test_df.iloc[:,i] > 0.05) for i in [1,2,4,5]])  # tn\n",
    "            \n",
    "            sens = test_stat[0][0] / test_stat.sum(axis=0)[0]  # true positive rate\n",
    "            specif = test_stat[1][1] / test_stat.sum(axis=0)[1]  # specificity\n",
    "            fpr = test_stat[0][1] / test_stat.sum(axis=0)[1]  # false positive rate\n",
    "            acc = (test_stat[0][0] + test_stat[1][1]) / np.sum(test_stat)  # accuracy (TP + TN) / (TP + TN + FP + FN)\n",
    "            \n",
    "            results[count][method].append(sens)\n",
    "            results[count][method].append(specif)\n",
    "            results[count][method].append(fpr)\n",
    "            results[count][method].append(acc)\n",
    "            \n",
    "            # calculate auroc\n",
    "            y_predicted = np.array(p_values[count][method]).flatten()\n",
    "            y_predicted = y_predicted < 0.05\n",
    "        \n",
    "            auroc = roc_auc_score(y_test, y_predicted)\n",
    "            results[count][method].append(auroc)\n",
    "        \n",
    "        tmp = pd.DataFrame(results[count], index=['sensitivity', 'specificity', 'fpr', 'accuracy', 'auroc'])\n",
    "        tmp = tmp.T\n",
    "        tmp['mean_replicate_count'] = count\n",
    "        \n",
    "        df_list.append(tmp)\n",
    "    \n",
    "    df_stat = pd.concat(df_list, axis=0, join='outer')\n",
    "    df_stat.reset_index(inplace=True)\n",
    "    df_stat.rename({'index': 'method'}, inplace=True, axis=1)\n",
    "    df_stat['reps'] = df_stat['method'].str.split('_').str[1]\n",
    "    df_stat['Transform'] = df_stat['method'].str.split('_').str[0]\n",
    "    \n",
    "    return df_stat"
   ]
  },
  {
   "cell_type": "markdown",
   "id": "b93762ff",
   "metadata": {},
   "source": [
    "## Data preperation\n",
    "see https://phipsonlab.github.io/propeller-paper-analysis/SimTrueDiff.html"
   ]
  },
  {
   "cell_type": "code",
   "execution_count": 8,
   "id": "ac86cd8d",
   "metadata": {},
   "outputs": [
    {
     "data": {
      "text/plain": [
       "[Cardiomyocytes           1.769390\n",
       " Endothelial cells      107.760684\n",
       " Epicardial cells        47.297371\n",
       " Fibroblast              14.138098\n",
       " Immune cells            16.442437\n",
       " Neurons                143.134155\n",
       " Smooth muscle cells    458.574736\n",
       " dtype: float64,\n",
       " Cardiomyocytes           4.742325\n",
       " Endothelial cells      107.760684\n",
       " Epicardial cells        47.297371\n",
       " Fibroblast               4.666523\n",
       " Immune cells            16.442437\n",
       " Neurons                143.134155\n",
       " Smooth muscle cells    150.405074\n",
       " dtype: float64]"
      ]
     },
     "execution_count": 8,
     "metadata": {},
     "output_type": "execute_result"
    }
   ],
   "source": [
    "heart_counts = pd.read_csv('data/heart_counts.tsv', sep='\\t')\n",
    "heart_counts.drop(['Condition', 'Sex'], inplace=True, axis=1)\n",
    "heart_counts = heart_counts.set_index('Sample').T\n",
    "heart_counts.drop('Erythroid', inplace=True)  # remove erythroids\n",
    "\n",
    "# proportions of each cluster in all samples\n",
    "true_props = heart_counts.sum(axis=1) / heart_counts.sum(axis=1).sum()  # sum of cells in cluster / sum of all cells\n",
    "true_props = true_props.to_frame(name=\"props\")\n",
    "\n",
    "# estimate beta paramters from counts\n",
    "params = estimate_params_from_counts(heart_counts)  # rows are clusters\n",
    "a = params[1]\n",
    "b = params[2]\n",
    "\n",
    "# Set up true proportions for the two groups\n",
    "grp1_trueprops = true_props.values.flatten()\n",
    "grp2_trueprops = true_props.values.flatten()\n",
    "\n",
    "grp2_trueprops[0] = grp1_trueprops[0]/2\n",
    "grp2_trueprops[3] = grp2_trueprops[3]*2\n",
    "grp2_trueprops[6] = grp1_trueprops[6]*3\n",
    "\n",
    "grp2_trueprops[0] = grp2_trueprops[0] + (1-grp2_trueprops.sum())/2\n",
    "grp2_trueprops[3] = grp2_trueprops[3] + (1-grp2_trueprops.sum())\n",
    " \n",
    "# calculate beta for both groups\n",
    "b1 = a*(1-grp1_trueprops)/grp1_trueprops\n",
    "b2 = a*(1-grp2_trueprops)/grp2_trueprops\n",
    "b_grps = [b1, b2]\n",
    "\n",
    "b_grps"
   ]
  },
  {
   "cell_type": "markdown",
   "id": "1465423e",
   "metadata": {},
   "source": [
    "## simulate datasets"
   ]
  },
  {
   "cell_type": "code",
   "execution_count": 9,
   "id": "81654e56",
   "metadata": {
    "scrolled": true
   },
   "outputs": [
    {
     "data": {
      "application/vnd.jupyter.widget-view+json": {
       "model_id": "57fb613f0e5e4693a56bfde4c9bb1632",
       "version_major": 2,
       "version_minor": 0
      },
      "text/plain": [
       "  0%|          | 0/100 [00:00<?, ?it/s]"
      ]
     },
     "metadata": {},
     "output_type": "display_data"
    },
    {
     "data": {
      "application/vnd.jupyter.widget-view+json": {
       "model_id": "dff7e43f7c5b4935b003246b711bc3bd",
       "version_major": 2,
       "version_minor": 0
      },
      "text/plain": [
       "  0%|          | 0/100 [00:00<?, ?it/s]"
      ]
     },
     "metadata": {},
     "output_type": "display_data"
    },
    {
     "data": {
      "application/vnd.jupyter.widget-view+json": {
       "model_id": "78121977aa1d4deb858df4937827e868",
       "version_major": 2,
       "version_minor": 0
      },
      "text/plain": [
       "  0%|          | 0/100 [00:00<?, ?it/s]"
      ]
     },
     "metadata": {},
     "output_type": "display_data"
    },
    {
     "data": {
      "application/vnd.jupyter.widget-view+json": {
       "model_id": "f3608983bf3d41e5887969e9dcf7878d",
       "version_major": 2,
       "version_minor": 0
      },
      "text/plain": [
       "  0%|          | 0/100 [00:00<?, ?it/s]"
      ]
     },
     "metadata": {},
     "output_type": "display_data"
    },
    {
     "data": {
      "application/vnd.jupyter.widget-view+json": {
       "model_id": "7899c18ad81b47158a9dee6122e4b9d8",
       "version_major": 2,
       "version_minor": 0
      },
      "text/plain": [
       "  0%|          | 0/100 [00:00<?, ?it/s]"
      ]
     },
     "metadata": {},
     "output_type": "display_data"
    },
    {
     "data": {
      "application/vnd.jupyter.widget-view+json": {
       "model_id": "963684a96aff4e8f90dde96cc100bbbf",
       "version_major": 2,
       "version_minor": 0
      },
      "text/plain": [
       "  0%|          | 0/100 [00:00<?, ?it/s]"
      ]
     },
     "metadata": {},
     "output_type": "display_data"
    },
    {
     "data": {
      "application/vnd.jupyter.widget-view+json": {
       "model_id": "29848f1738b5468b9f1afdf30ebf1095",
       "version_major": 2,
       "version_minor": 0
      },
      "text/plain": [
       "  0%|          | 0/100 [00:00<?, ?it/s]"
      ]
     },
     "metadata": {},
     "output_type": "display_data"
    },
    {
     "data": {
      "application/vnd.jupyter.widget-view+json": {
       "model_id": "6b28e6262e7d458c9615e3e95c1de3bb",
       "version_major": 2,
       "version_minor": 0
      },
      "text/plain": [
       "  0%|          | 0/100 [00:00<?, ?it/s]"
      ]
     },
     "metadata": {},
     "output_type": "display_data"
    },
    {
     "data": {
      "application/vnd.jupyter.widget-view+json": {
       "model_id": "c51f7f7d2baa496cbb2647137096da12",
       "version_major": 2,
       "version_minor": 0
      },
      "text/plain": [
       "  0%|          | 0/100 [00:00<?, ?it/s]"
      ]
     },
     "metadata": {},
     "output_type": "display_data"
    },
    {
     "data": {
      "application/vnd.jupyter.widget-view+json": {
       "model_id": "4de53583de634a29a5f593458092df81",
       "version_major": 2,
       "version_minor": 0
      },
      "text/plain": [
       "  0%|          | 0/100 [00:00<?, ?it/s]"
      ]
     },
     "metadata": {},
     "output_type": "display_data"
    },
    {
     "data": {
      "application/vnd.jupyter.widget-view+json": {
       "model_id": "76a7edf64731436fb52784cf3ab6326f",
       "version_major": 2,
       "version_minor": 0
      },
      "text/plain": [
       "  0%|          | 0/100 [00:00<?, ?it/s]"
      ]
     },
     "metadata": {},
     "output_type": "display_data"
    },
    {
     "data": {
      "application/vnd.jupyter.widget-view+json": {
       "model_id": "ab759ee6e76d40369fc1f8aae410fb6e",
       "version_major": 2,
       "version_minor": 0
      },
      "text/plain": [
       "  0%|          | 0/100 [00:00<?, ?it/s]"
      ]
     },
     "metadata": {},
     "output_type": "display_data"
    },
    {
     "data": {
      "application/vnd.jupyter.widget-view+json": {
       "model_id": "2e75bede98f14ee0822358d1aa961d35",
       "version_major": 2,
       "version_minor": 0
      },
      "text/plain": [
       "  0%|          | 0/100 [00:00<?, ?it/s]"
      ]
     },
     "metadata": {},
     "output_type": "display_data"
    },
    {
     "data": {
      "application/vnd.jupyter.widget-view+json": {
       "model_id": "7125eedd474445839b5a9dfcc7af9e41",
       "version_major": 2,
       "version_minor": 0
      },
      "text/plain": [
       "  0%|          | 0/100 [00:00<?, ?it/s]"
      ]
     },
     "metadata": {},
     "output_type": "display_data"
    },
    {
     "data": {
      "application/vnd.jupyter.widget-view+json": {
       "model_id": "7497b25e60594b2b8cbd7f02402741a7",
       "version_major": 2,
       "version_minor": 0
      },
      "text/plain": [
       "  0%|          | 0/100 [00:00<?, ?it/s]"
      ]
     },
     "metadata": {},
     "output_type": "display_data"
    },
    {
     "data": {
      "application/vnd.jupyter.widget-view+json": {
       "model_id": "378f1de3fdf545869324bf7f11595632",
       "version_major": 2,
       "version_minor": 0
      },
      "text/plain": [
       "  0%|          | 0/100 [00:00<?, ?it/s]"
      ]
     },
     "metadata": {},
     "output_type": "display_data"
    }
   ],
   "source": [
    "n_reps = 4  # number of replicates before merge\n",
    "mu_list = [250, 500, 750, 1000, 1250, 1500, 2000, 2500, 3500, 5000, 6000, 7000, 9000, 10000, 11000, 12500]\n",
    "\n",
    "datasets = {f\"mu_{mu}\": simulate_datasets(true_props, a, b_grps, n_reps=n_reps, mu=mu, n_sims=100) for mu in mu_list}"
   ]
  },
  {
   "cell_type": "code",
   "execution_count": 113,
   "id": "268ea79c",
   "metadata": {
    "scrolled": true
   },
   "outputs": [
    {
     "data": {
      "text/plain": [
       "[978.62,\n",
       " 1972.685,\n",
       " 2956.855,\n",
       " 3938.335,\n",
       " 4917.685,\n",
       " 5904.13,\n",
       " 7867.8,\n",
       " 9837.58,\n",
       " 13766.055,\n",
       " 19671.785,\n",
       " 23601.63,\n",
       " 27537.03,\n",
       " 35424.58,\n",
       " 39346.91,\n",
       " 43280.78,\n",
       " 49193.815]"
      ]
     },
     "execution_count": 113,
     "metadata": {},
     "output_type": "execute_result"
    }
   ],
   "source": [
    "# get mean cell counts for each mu\n",
    "mean_counts = get_means(datasets)\n",
    "# get mean cell counts for samples in each mu\n",
    "mean_replicate_count = get_sample_means(datasets)\n",
    "\n",
    "mean_replicate_count"
   ]
  },
  {
   "cell_type": "markdown",
   "id": "96373f38",
   "metadata": {},
   "source": [
    "## Test bootstrapping with different cell counts"
   ]
  },
  {
   "cell_type": "markdown",
   "id": "50312ffb",
   "metadata": {},
   "source": [
    "### 2 replicates"
   ]
  },
  {
   "cell_type": "code",
   "execution_count": 11,
   "id": "1176fba9",
   "metadata": {},
   "outputs": [],
   "source": [
    "n_reps = 2"
   ]
  },
  {
   "cell_type": "markdown",
   "id": "c29af8b4",
   "metadata": {},
   "source": [
    "#### logit"
   ]
  },
  {
   "cell_type": "code",
   "execution_count": 12,
   "id": "beb24895",
   "metadata": {
    "scrolled": true
   },
   "outputs": [
    {
     "data": {
      "application/vnd.jupyter.widget-view+json": {
       "model_id": "b3d4a0a4e4ed4a069190a0e1a286c686",
       "version_major": 2,
       "version_minor": 0
      },
      "text/plain": [
       "  0%|          | 0/100 [00:00<?, ?it/s]"
      ]
     },
     "metadata": {},
     "output_type": "display_data"
    },
    {
     "data": {
      "application/vnd.jupyter.widget-view+json": {
       "model_id": "18a171bdf0a24d499aac277ed4416f58",
       "version_major": 2,
       "version_minor": 0
      },
      "text/plain": [
       "  0%|          | 0/200 [00:00<?, ?it/s]"
      ]
     },
     "metadata": {},
     "output_type": "display_data"
    },
    {
     "data": {
      "application/vnd.jupyter.widget-view+json": {
       "model_id": "6b71220b4016492b8f55e6b80a075433",
       "version_major": 2,
       "version_minor": 0
      },
      "text/plain": [
       "  0%|          | 0/300 [00:00<?, ?it/s]"
      ]
     },
     "metadata": {},
     "output_type": "display_data"
    },
    {
     "data": {
      "application/vnd.jupyter.widget-view+json": {
       "model_id": "71039bf7fafb401c914b5784841a3934",
       "version_major": 2,
       "version_minor": 0
      },
      "text/plain": [
       "  0%|          | 0/400 [00:00<?, ?it/s]"
      ]
     },
     "metadata": {},
     "output_type": "display_data"
    },
    {
     "data": {
      "application/vnd.jupyter.widget-view+json": {
       "model_id": "fe26cd85b5ad4aea9b44618183bd7def",
       "version_major": 2,
       "version_minor": 0
      },
      "text/plain": [
       "  0%|          | 0/500 [00:00<?, ?it/s]"
      ]
     },
     "metadata": {},
     "output_type": "display_data"
    },
    {
     "data": {
      "application/vnd.jupyter.widget-view+json": {
       "model_id": "e031ab57f18f47c9941dc3bcd98d936e",
       "version_major": 2,
       "version_minor": 0
      },
      "text/plain": [
       "  0%|          | 0/600 [00:00<?, ?it/s]"
      ]
     },
     "metadata": {},
     "output_type": "display_data"
    },
    {
     "data": {
      "application/vnd.jupyter.widget-view+json": {
       "model_id": "0b532caa9582465ca1cd6a06f58481e4",
       "version_major": 2,
       "version_minor": 0
      },
      "text/plain": [
       "  0%|          | 0/700 [00:00<?, ?it/s]"
      ]
     },
     "metadata": {},
     "output_type": "display_data"
    },
    {
     "data": {
      "application/vnd.jupyter.widget-view+json": {
       "model_id": "b51670abeb594d8c85fce8ae59124422",
       "version_major": 2,
       "version_minor": 0
      },
      "text/plain": [
       "  0%|          | 0/800 [00:00<?, ?it/s]"
      ]
     },
     "metadata": {},
     "output_type": "display_data"
    },
    {
     "data": {
      "application/vnd.jupyter.widget-view+json": {
       "model_id": "b64194cf6a6d4a7e987f87f04e2c0628",
       "version_major": 2,
       "version_minor": 0
      },
      "text/plain": [
       "  0%|          | 0/900 [00:00<?, ?it/s]"
      ]
     },
     "metadata": {},
     "output_type": "display_data"
    },
    {
     "data": {
      "application/vnd.jupyter.widget-view+json": {
       "model_id": "3f3ce99a5c7c4a91a00cd0ce436d7817",
       "version_major": 2,
       "version_minor": 0
      },
      "text/plain": [
       "  0%|          | 0/1000 [00:00<?, ?it/s]"
      ]
     },
     "metadata": {},
     "output_type": "display_data"
    },
    {
     "data": {
      "application/vnd.jupyter.widget-view+json": {
       "model_id": "f45d56ec21fd44f1b9efd0715474061c",
       "version_major": 2,
       "version_minor": 0
      },
      "text/plain": [
       "  0%|          | 0/1100 [00:00<?, ?it/s]"
      ]
     },
     "metadata": {},
     "output_type": "display_data"
    },
    {
     "data": {
      "application/vnd.jupyter.widget-view+json": {
       "model_id": "83ce4937c8844abd8b7549e8b152d5d9",
       "version_major": 2,
       "version_minor": 0
      },
      "text/plain": [
       "  0%|          | 0/1200 [00:00<?, ?it/s]"
      ]
     },
     "metadata": {},
     "output_type": "display_data"
    },
    {
     "data": {
      "application/vnd.jupyter.widget-view+json": {
       "model_id": "0476a573a1884a26bf25e0cc42a3459d",
       "version_major": 2,
       "version_minor": 0
      },
      "text/plain": [
       "  0%|          | 0/1300 [00:00<?, ?it/s]"
      ]
     },
     "metadata": {},
     "output_type": "display_data"
    },
    {
     "data": {
      "application/vnd.jupyter.widget-view+json": {
       "model_id": "ab05b72de9c94a1da3a2e4a1979f978b",
       "version_major": 2,
       "version_minor": 0
      },
      "text/plain": [
       "  0%|          | 0/1400 [00:00<?, ?it/s]"
      ]
     },
     "metadata": {},
     "output_type": "display_data"
    },
    {
     "data": {
      "application/vnd.jupyter.widget-view+json": {
       "model_id": "356c0f2fd79e49bd926407749c10266e",
       "version_major": 2,
       "version_minor": 0
      },
      "text/plain": [
       "  0%|          | 0/1500 [00:00<?, ?it/s]"
      ]
     },
     "metadata": {},
     "output_type": "display_data"
    },
    {
     "data": {
      "application/vnd.jupyter.widget-view+json": {
       "model_id": "cb3d12f1652743ab8394f7b297d11601",
       "version_major": 2,
       "version_minor": 0
      },
      "text/plain": [
       "  0%|          | 0/1600 [00:00<?, ?it/s]"
      ]
     },
     "metadata": {},
     "output_type": "display_data"
    }
   ],
   "source": [
    "scanpro_2_reps_logit = test_performance(datasets, transform=\"logit\",\n",
    "                                        n_reps=n_reps)"
   ]
  },
  {
   "cell_type": "markdown",
   "id": "75f0f387",
   "metadata": {},
   "source": [
    "#### arcsine"
   ]
  },
  {
   "cell_type": "code",
   "execution_count": 13,
   "id": "387fb074",
   "metadata": {},
   "outputs": [
    {
     "data": {
      "application/vnd.jupyter.widget-view+json": {
       "model_id": "4440fd0e982f4927ae45f28b97637d58",
       "version_major": 2,
       "version_minor": 0
      },
      "text/plain": [
       "  0%|          | 0/100 [00:00<?, ?it/s]"
      ]
     },
     "metadata": {},
     "output_type": "display_data"
    },
    {
     "data": {
      "application/vnd.jupyter.widget-view+json": {
       "model_id": "30034c04678743f6b05eb5b0a5001fd4",
       "version_major": 2,
       "version_minor": 0
      },
      "text/plain": [
       "  0%|          | 0/200 [00:00<?, ?it/s]"
      ]
     },
     "metadata": {},
     "output_type": "display_data"
    },
    {
     "data": {
      "application/vnd.jupyter.widget-view+json": {
       "model_id": "4a6e0e157b1b435391f8994868300c55",
       "version_major": 2,
       "version_minor": 0
      },
      "text/plain": [
       "  0%|          | 0/300 [00:00<?, ?it/s]"
      ]
     },
     "metadata": {},
     "output_type": "display_data"
    },
    {
     "data": {
      "application/vnd.jupyter.widget-view+json": {
       "model_id": "27fca5ffbf8e43329558c28339ec29cd",
       "version_major": 2,
       "version_minor": 0
      },
      "text/plain": [
       "  0%|          | 0/400 [00:00<?, ?it/s]"
      ]
     },
     "metadata": {},
     "output_type": "display_data"
    },
    {
     "data": {
      "application/vnd.jupyter.widget-view+json": {
       "model_id": "2814585df9c74d52be5bf135dbf6e4ef",
       "version_major": 2,
       "version_minor": 0
      },
      "text/plain": [
       "  0%|          | 0/500 [00:00<?, ?it/s]"
      ]
     },
     "metadata": {},
     "output_type": "display_data"
    },
    {
     "data": {
      "application/vnd.jupyter.widget-view+json": {
       "model_id": "d2ececc180dc48448a09567399bc6167",
       "version_major": 2,
       "version_minor": 0
      },
      "text/plain": [
       "  0%|          | 0/600 [00:00<?, ?it/s]"
      ]
     },
     "metadata": {},
     "output_type": "display_data"
    },
    {
     "data": {
      "application/vnd.jupyter.widget-view+json": {
       "model_id": "df4e9c5639e049278c39792657206d37",
       "version_major": 2,
       "version_minor": 0
      },
      "text/plain": [
       "  0%|          | 0/700 [00:00<?, ?it/s]"
      ]
     },
     "metadata": {},
     "output_type": "display_data"
    },
    {
     "data": {
      "application/vnd.jupyter.widget-view+json": {
       "model_id": "1de19d85881d4dacb0558a6ee4b44f2c",
       "version_major": 2,
       "version_minor": 0
      },
      "text/plain": [
       "  0%|          | 0/800 [00:00<?, ?it/s]"
      ]
     },
     "metadata": {},
     "output_type": "display_data"
    },
    {
     "data": {
      "application/vnd.jupyter.widget-view+json": {
       "model_id": "edf8bdd4abf3473cbc0ab92e43c9d41b",
       "version_major": 2,
       "version_minor": 0
      },
      "text/plain": [
       "  0%|          | 0/900 [00:00<?, ?it/s]"
      ]
     },
     "metadata": {},
     "output_type": "display_data"
    },
    {
     "data": {
      "application/vnd.jupyter.widget-view+json": {
       "model_id": "a9180b3cdb8b4313a7f8d6c17fd8e263",
       "version_major": 2,
       "version_minor": 0
      },
      "text/plain": [
       "  0%|          | 0/1000 [00:00<?, ?it/s]"
      ]
     },
     "metadata": {},
     "output_type": "display_data"
    },
    {
     "data": {
      "application/vnd.jupyter.widget-view+json": {
       "model_id": "182f3be99b2c44409ffed7b6cc866a0b",
       "version_major": 2,
       "version_minor": 0
      },
      "text/plain": [
       "  0%|          | 0/1100 [00:00<?, ?it/s]"
      ]
     },
     "metadata": {},
     "output_type": "display_data"
    },
    {
     "data": {
      "application/vnd.jupyter.widget-view+json": {
       "model_id": "ee6d697fb1e9406f9fbda4c80ca9f520",
       "version_major": 2,
       "version_minor": 0
      },
      "text/plain": [
       "  0%|          | 0/1200 [00:00<?, ?it/s]"
      ]
     },
     "metadata": {},
     "output_type": "display_data"
    },
    {
     "data": {
      "application/vnd.jupyter.widget-view+json": {
       "model_id": "aa4776ca75b94838aadd287fb8ed85b0",
       "version_major": 2,
       "version_minor": 0
      },
      "text/plain": [
       "  0%|          | 0/1300 [00:00<?, ?it/s]"
      ]
     },
     "metadata": {},
     "output_type": "display_data"
    },
    {
     "data": {
      "application/vnd.jupyter.widget-view+json": {
       "model_id": "359ded8362404677bd6408abc8391db0",
       "version_major": 2,
       "version_minor": 0
      },
      "text/plain": [
       "  0%|          | 0/1400 [00:00<?, ?it/s]"
      ]
     },
     "metadata": {},
     "output_type": "display_data"
    },
    {
     "data": {
      "application/vnd.jupyter.widget-view+json": {
       "model_id": "598935fa89fa41dd9b7704256521c0c1",
       "version_major": 2,
       "version_minor": 0
      },
      "text/plain": [
       "  0%|          | 0/1500 [00:00<?, ?it/s]"
      ]
     },
     "metadata": {},
     "output_type": "display_data"
    },
    {
     "data": {
      "application/vnd.jupyter.widget-view+json": {
       "model_id": "71df65277bda43c792d157b37afced75",
       "version_major": 2,
       "version_minor": 0
      },
      "text/plain": [
       "  0%|          | 0/1600 [00:00<?, ?it/s]"
      ]
     },
     "metadata": {},
     "output_type": "display_data"
    }
   ],
   "source": [
    "scanpro_2_reps_arcsin = test_performance(datasets, transform=\"arcsin\",\n",
    "                                         n_reps=n_reps)"
   ]
  },
  {
   "cell_type": "markdown",
   "id": "6610fbde",
   "metadata": {},
   "source": [
    "### 3 replicates"
   ]
  },
  {
   "cell_type": "code",
   "execution_count": 14,
   "id": "d5268e4e",
   "metadata": {},
   "outputs": [],
   "source": [
    "n_reps = 3"
   ]
  },
  {
   "cell_type": "markdown",
   "id": "a25993e5",
   "metadata": {},
   "source": [
    "#### logit"
   ]
  },
  {
   "cell_type": "code",
   "execution_count": 15,
   "id": "0fc93831",
   "metadata": {},
   "outputs": [
    {
     "data": {
      "application/vnd.jupyter.widget-view+json": {
       "model_id": "48ca846750ec41639bc308418d700df5",
       "version_major": 2,
       "version_minor": 0
      },
      "text/plain": [
       "  0%|          | 0/100 [00:00<?, ?it/s]"
      ]
     },
     "metadata": {},
     "output_type": "display_data"
    },
    {
     "data": {
      "application/vnd.jupyter.widget-view+json": {
       "model_id": "7122101478b34001a3eb31f3699bb2b1",
       "version_major": 2,
       "version_minor": 0
      },
      "text/plain": [
       "  0%|          | 0/200 [00:00<?, ?it/s]"
      ]
     },
     "metadata": {},
     "output_type": "display_data"
    },
    {
     "data": {
      "application/vnd.jupyter.widget-view+json": {
       "model_id": "9805d3ef45c74835bbe6bbd792c6b977",
       "version_major": 2,
       "version_minor": 0
      },
      "text/plain": [
       "  0%|          | 0/300 [00:00<?, ?it/s]"
      ]
     },
     "metadata": {},
     "output_type": "display_data"
    },
    {
     "data": {
      "application/vnd.jupyter.widget-view+json": {
       "model_id": "76677533df994a75afa4d4af3337a5f7",
       "version_major": 2,
       "version_minor": 0
      },
      "text/plain": [
       "  0%|          | 0/400 [00:00<?, ?it/s]"
      ]
     },
     "metadata": {},
     "output_type": "display_data"
    },
    {
     "data": {
      "application/vnd.jupyter.widget-view+json": {
       "model_id": "cef0a0f5764b4af393fd1d33af8f0179",
       "version_major": 2,
       "version_minor": 0
      },
      "text/plain": [
       "  0%|          | 0/500 [00:00<?, ?it/s]"
      ]
     },
     "metadata": {},
     "output_type": "display_data"
    },
    {
     "data": {
      "application/vnd.jupyter.widget-view+json": {
       "model_id": "c6118acee559406b83280492b8b5a548",
       "version_major": 2,
       "version_minor": 0
      },
      "text/plain": [
       "  0%|          | 0/600 [00:00<?, ?it/s]"
      ]
     },
     "metadata": {},
     "output_type": "display_data"
    },
    {
     "data": {
      "application/vnd.jupyter.widget-view+json": {
       "model_id": "cf21e9cb141a499c887e3f3eb368bdbf",
       "version_major": 2,
       "version_minor": 0
      },
      "text/plain": [
       "  0%|          | 0/700 [00:00<?, ?it/s]"
      ]
     },
     "metadata": {},
     "output_type": "display_data"
    },
    {
     "data": {
      "application/vnd.jupyter.widget-view+json": {
       "model_id": "5cec0f68b46245dd8ff745653e3c6f56",
       "version_major": 2,
       "version_minor": 0
      },
      "text/plain": [
       "  0%|          | 0/800 [00:00<?, ?it/s]"
      ]
     },
     "metadata": {},
     "output_type": "display_data"
    },
    {
     "data": {
      "application/vnd.jupyter.widget-view+json": {
       "model_id": "a3c9822433cf4908ac20e1de25f9fe00",
       "version_major": 2,
       "version_minor": 0
      },
      "text/plain": [
       "  0%|          | 0/900 [00:00<?, ?it/s]"
      ]
     },
     "metadata": {},
     "output_type": "display_data"
    },
    {
     "data": {
      "application/vnd.jupyter.widget-view+json": {
       "model_id": "7a4694f18fd246d99a2804676cdf99c7",
       "version_major": 2,
       "version_minor": 0
      },
      "text/plain": [
       "  0%|          | 0/1000 [00:00<?, ?it/s]"
      ]
     },
     "metadata": {},
     "output_type": "display_data"
    },
    {
     "data": {
      "application/vnd.jupyter.widget-view+json": {
       "model_id": "b6ce122fadf0472282991837fb2613ae",
       "version_major": 2,
       "version_minor": 0
      },
      "text/plain": [
       "  0%|          | 0/1100 [00:00<?, ?it/s]"
      ]
     },
     "metadata": {},
     "output_type": "display_data"
    },
    {
     "data": {
      "application/vnd.jupyter.widget-view+json": {
       "model_id": "822499dd17b649f39d8ed11651e38b59",
       "version_major": 2,
       "version_minor": 0
      },
      "text/plain": [
       "  0%|          | 0/1200 [00:00<?, ?it/s]"
      ]
     },
     "metadata": {},
     "output_type": "display_data"
    },
    {
     "data": {
      "application/vnd.jupyter.widget-view+json": {
       "model_id": "1ab8da0a03f043ec9b3f2df0737eed63",
       "version_major": 2,
       "version_minor": 0
      },
      "text/plain": [
       "  0%|          | 0/1300 [00:00<?, ?it/s]"
      ]
     },
     "metadata": {},
     "output_type": "display_data"
    },
    {
     "data": {
      "application/vnd.jupyter.widget-view+json": {
       "model_id": "5f8dd847cdfd4bcfb5c2e3e2903a8df1",
       "version_major": 2,
       "version_minor": 0
      },
      "text/plain": [
       "  0%|          | 0/1400 [00:00<?, ?it/s]"
      ]
     },
     "metadata": {},
     "output_type": "display_data"
    },
    {
     "data": {
      "application/vnd.jupyter.widget-view+json": {
       "model_id": "192e0a4d2a504a2b99cba372a0b7e4bb",
       "version_major": 2,
       "version_minor": 0
      },
      "text/plain": [
       "  0%|          | 0/1500 [00:00<?, ?it/s]"
      ]
     },
     "metadata": {},
     "output_type": "display_data"
    },
    {
     "data": {
      "application/vnd.jupyter.widget-view+json": {
       "model_id": "333473d561a94428acbfc53384778ea3",
       "version_major": 2,
       "version_minor": 0
      },
      "text/plain": [
       "  0%|          | 0/1600 [00:00<?, ?it/s]"
      ]
     },
     "metadata": {},
     "output_type": "display_data"
    }
   ],
   "source": [
    "scanpro_3_reps_logit = test_performance(datasets, transform=\"logit\",\n",
    "                                        n_reps=n_reps)"
   ]
  },
  {
   "cell_type": "markdown",
   "id": "9f97534a",
   "metadata": {},
   "source": [
    "#### arcsine"
   ]
  },
  {
   "cell_type": "code",
   "execution_count": 16,
   "id": "d284d527",
   "metadata": {},
   "outputs": [
    {
     "data": {
      "application/vnd.jupyter.widget-view+json": {
       "model_id": "9770da4e80324da781a4b9ca7edb29e9",
       "version_major": 2,
       "version_minor": 0
      },
      "text/plain": [
       "  0%|          | 0/100 [00:00<?, ?it/s]"
      ]
     },
     "metadata": {},
     "output_type": "display_data"
    },
    {
     "data": {
      "application/vnd.jupyter.widget-view+json": {
       "model_id": "2d33c02134f0425289f9983b35681ec6",
       "version_major": 2,
       "version_minor": 0
      },
      "text/plain": [
       "  0%|          | 0/200 [00:00<?, ?it/s]"
      ]
     },
     "metadata": {},
     "output_type": "display_data"
    },
    {
     "data": {
      "application/vnd.jupyter.widget-view+json": {
       "model_id": "a34e6f587d5c44f3ad45c19fb29a74e9",
       "version_major": 2,
       "version_minor": 0
      },
      "text/plain": [
       "  0%|          | 0/300 [00:00<?, ?it/s]"
      ]
     },
     "metadata": {},
     "output_type": "display_data"
    },
    {
     "data": {
      "application/vnd.jupyter.widget-view+json": {
       "model_id": "77d5c8dc4cad4d1296a5a7a5218db576",
       "version_major": 2,
       "version_minor": 0
      },
      "text/plain": [
       "  0%|          | 0/400 [00:00<?, ?it/s]"
      ]
     },
     "metadata": {},
     "output_type": "display_data"
    },
    {
     "data": {
      "application/vnd.jupyter.widget-view+json": {
       "model_id": "d521648b04644e0280ea03434f3ca1a8",
       "version_major": 2,
       "version_minor": 0
      },
      "text/plain": [
       "  0%|          | 0/500 [00:00<?, ?it/s]"
      ]
     },
     "metadata": {},
     "output_type": "display_data"
    },
    {
     "data": {
      "application/vnd.jupyter.widget-view+json": {
       "model_id": "087d5d8f777a431d9088a6d76fe5c272",
       "version_major": 2,
       "version_minor": 0
      },
      "text/plain": [
       "  0%|          | 0/600 [00:00<?, ?it/s]"
      ]
     },
     "metadata": {},
     "output_type": "display_data"
    },
    {
     "data": {
      "application/vnd.jupyter.widget-view+json": {
       "model_id": "0c4ecb52e46946e2a9ab6ff53736994f",
       "version_major": 2,
       "version_minor": 0
      },
      "text/plain": [
       "  0%|          | 0/700 [00:00<?, ?it/s]"
      ]
     },
     "metadata": {},
     "output_type": "display_data"
    },
    {
     "data": {
      "application/vnd.jupyter.widget-view+json": {
       "model_id": "dd5ba7986df9476594a340692fed0b2c",
       "version_major": 2,
       "version_minor": 0
      },
      "text/plain": [
       "  0%|          | 0/800 [00:00<?, ?it/s]"
      ]
     },
     "metadata": {},
     "output_type": "display_data"
    },
    {
     "data": {
      "application/vnd.jupyter.widget-view+json": {
       "model_id": "7310cd57f5234eb39e70cc240c96c35a",
       "version_major": 2,
       "version_minor": 0
      },
      "text/plain": [
       "  0%|          | 0/900 [00:00<?, ?it/s]"
      ]
     },
     "metadata": {},
     "output_type": "display_data"
    },
    {
     "data": {
      "application/vnd.jupyter.widget-view+json": {
       "model_id": "d01c5049cb584d70bdf39016b73a446e",
       "version_major": 2,
       "version_minor": 0
      },
      "text/plain": [
       "  0%|          | 0/1000 [00:00<?, ?it/s]"
      ]
     },
     "metadata": {},
     "output_type": "display_data"
    },
    {
     "data": {
      "application/vnd.jupyter.widget-view+json": {
       "model_id": "7081b86258714990b8897103235f35ef",
       "version_major": 2,
       "version_minor": 0
      },
      "text/plain": [
       "  0%|          | 0/1100 [00:00<?, ?it/s]"
      ]
     },
     "metadata": {},
     "output_type": "display_data"
    },
    {
     "data": {
      "application/vnd.jupyter.widget-view+json": {
       "model_id": "21152dadcd334699a997471952de25d8",
       "version_major": 2,
       "version_minor": 0
      },
      "text/plain": [
       "  0%|          | 0/1200 [00:00<?, ?it/s]"
      ]
     },
     "metadata": {},
     "output_type": "display_data"
    },
    {
     "data": {
      "application/vnd.jupyter.widget-view+json": {
       "model_id": "d7465b9d6cc643789b6ec1306d40e900",
       "version_major": 2,
       "version_minor": 0
      },
      "text/plain": [
       "  0%|          | 0/1300 [00:00<?, ?it/s]"
      ]
     },
     "metadata": {},
     "output_type": "display_data"
    },
    {
     "data": {
      "application/vnd.jupyter.widget-view+json": {
       "model_id": "ec89ae81d3be41fdb377e8d7f010f88d",
       "version_major": 2,
       "version_minor": 0
      },
      "text/plain": [
       "  0%|          | 0/1400 [00:00<?, ?it/s]"
      ]
     },
     "metadata": {},
     "output_type": "display_data"
    },
    {
     "data": {
      "application/vnd.jupyter.widget-view+json": {
       "model_id": "67a6ad9e11f84de08329806ed6011a8d",
       "version_major": 2,
       "version_minor": 0
      },
      "text/plain": [
       "  0%|          | 0/1500 [00:00<?, ?it/s]"
      ]
     },
     "metadata": {},
     "output_type": "display_data"
    },
    {
     "data": {
      "application/vnd.jupyter.widget-view+json": {
       "model_id": "cb070ddfd93d4c93b1ee2f23c2004973",
       "version_major": 2,
       "version_minor": 0
      },
      "text/plain": [
       "  0%|          | 0/1600 [00:00<?, ?it/s]"
      ]
     },
     "metadata": {},
     "output_type": "display_data"
    }
   ],
   "source": [
    "scanpro_3_reps_arcsin = test_performance(datasets, transform=\"arcsin\",\n",
    "                                         n_reps=n_reps)"
   ]
  },
  {
   "cell_type": "markdown",
   "id": "8a6427c8",
   "metadata": {},
   "source": [
    "### 4 replicates"
   ]
  },
  {
   "cell_type": "code",
   "execution_count": 17,
   "id": "b357f382",
   "metadata": {},
   "outputs": [],
   "source": [
    "n_reps = 4"
   ]
  },
  {
   "cell_type": "markdown",
   "id": "3429f704",
   "metadata": {},
   "source": [
    "#### logit"
   ]
  },
  {
   "cell_type": "code",
   "execution_count": 18,
   "id": "f77a002f",
   "metadata": {},
   "outputs": [
    {
     "data": {
      "application/vnd.jupyter.widget-view+json": {
       "model_id": "3491287da33645729f07cfef229f968b",
       "version_major": 2,
       "version_minor": 0
      },
      "text/plain": [
       "  0%|          | 0/100 [00:00<?, ?it/s]"
      ]
     },
     "metadata": {},
     "output_type": "display_data"
    },
    {
     "data": {
      "application/vnd.jupyter.widget-view+json": {
       "model_id": "3e75db4b2b804d7a8d5bbce7506d9fed",
       "version_major": 2,
       "version_minor": 0
      },
      "text/plain": [
       "  0%|          | 0/200 [00:00<?, ?it/s]"
      ]
     },
     "metadata": {},
     "output_type": "display_data"
    },
    {
     "data": {
      "application/vnd.jupyter.widget-view+json": {
       "model_id": "dcde947bc70c458292b4b326a6711d1a",
       "version_major": 2,
       "version_minor": 0
      },
      "text/plain": [
       "  0%|          | 0/300 [00:00<?, ?it/s]"
      ]
     },
     "metadata": {},
     "output_type": "display_data"
    },
    {
     "data": {
      "application/vnd.jupyter.widget-view+json": {
       "model_id": "7c4495ad8bc140049caa5cef9588a930",
       "version_major": 2,
       "version_minor": 0
      },
      "text/plain": [
       "  0%|          | 0/400 [00:00<?, ?it/s]"
      ]
     },
     "metadata": {},
     "output_type": "display_data"
    },
    {
     "data": {
      "application/vnd.jupyter.widget-view+json": {
       "model_id": "a44dbdd407244a22905b842efcb5bd4c",
       "version_major": 2,
       "version_minor": 0
      },
      "text/plain": [
       "  0%|          | 0/500 [00:00<?, ?it/s]"
      ]
     },
     "metadata": {},
     "output_type": "display_data"
    },
    {
     "data": {
      "application/vnd.jupyter.widget-view+json": {
       "model_id": "8b60c4ab723e4e37b7d5e22d99d79275",
       "version_major": 2,
       "version_minor": 0
      },
      "text/plain": [
       "  0%|          | 0/600 [00:00<?, ?it/s]"
      ]
     },
     "metadata": {},
     "output_type": "display_data"
    },
    {
     "data": {
      "application/vnd.jupyter.widget-view+json": {
       "model_id": "83c59f5e1ae24740a4b33ec578fd22df",
       "version_major": 2,
       "version_minor": 0
      },
      "text/plain": [
       "  0%|          | 0/700 [00:00<?, ?it/s]"
      ]
     },
     "metadata": {},
     "output_type": "display_data"
    },
    {
     "data": {
      "application/vnd.jupyter.widget-view+json": {
       "model_id": "a1d944abcbb44dcdb9d39242e5d84593",
       "version_major": 2,
       "version_minor": 0
      },
      "text/plain": [
       "  0%|          | 0/800 [00:00<?, ?it/s]"
      ]
     },
     "metadata": {},
     "output_type": "display_data"
    },
    {
     "data": {
      "application/vnd.jupyter.widget-view+json": {
       "model_id": "fd122af129fc4f6cbc092326925f4c77",
       "version_major": 2,
       "version_minor": 0
      },
      "text/plain": [
       "  0%|          | 0/900 [00:00<?, ?it/s]"
      ]
     },
     "metadata": {},
     "output_type": "display_data"
    },
    {
     "data": {
      "application/vnd.jupyter.widget-view+json": {
       "model_id": "f99e59f6ef9946f591122ecd390dc3ad",
       "version_major": 2,
       "version_minor": 0
      },
      "text/plain": [
       "  0%|          | 0/1000 [00:00<?, ?it/s]"
      ]
     },
     "metadata": {},
     "output_type": "display_data"
    },
    {
     "data": {
      "application/vnd.jupyter.widget-view+json": {
       "model_id": "d5ad389ba3e34ad2bc22955011096ca9",
       "version_major": 2,
       "version_minor": 0
      },
      "text/plain": [
       "  0%|          | 0/1100 [00:00<?, ?it/s]"
      ]
     },
     "metadata": {},
     "output_type": "display_data"
    },
    {
     "data": {
      "application/vnd.jupyter.widget-view+json": {
       "model_id": "45c0995d163a424fbe9b86b71a06079d",
       "version_major": 2,
       "version_minor": 0
      },
      "text/plain": [
       "  0%|          | 0/1200 [00:00<?, ?it/s]"
      ]
     },
     "metadata": {},
     "output_type": "display_data"
    },
    {
     "data": {
      "application/vnd.jupyter.widget-view+json": {
       "model_id": "3583aa83f6f54504ab35203ee62ff912",
       "version_major": 2,
       "version_minor": 0
      },
      "text/plain": [
       "  0%|          | 0/1300 [00:00<?, ?it/s]"
      ]
     },
     "metadata": {},
     "output_type": "display_data"
    },
    {
     "data": {
      "application/vnd.jupyter.widget-view+json": {
       "model_id": "c1271c88a8af4833ad53f525b2363be3",
       "version_major": 2,
       "version_minor": 0
      },
      "text/plain": [
       "  0%|          | 0/1400 [00:00<?, ?it/s]"
      ]
     },
     "metadata": {},
     "output_type": "display_data"
    },
    {
     "data": {
      "application/vnd.jupyter.widget-view+json": {
       "model_id": "7846b084aa8f4dcb94aa878563f46a4e",
       "version_major": 2,
       "version_minor": 0
      },
      "text/plain": [
       "  0%|          | 0/1500 [00:00<?, ?it/s]"
      ]
     },
     "metadata": {},
     "output_type": "display_data"
    },
    {
     "data": {
      "application/vnd.jupyter.widget-view+json": {
       "model_id": "d4649aa094484af38163a6e42d67aa4a",
       "version_major": 2,
       "version_minor": 0
      },
      "text/plain": [
       "  0%|          | 0/1600 [00:00<?, ?it/s]"
      ]
     },
     "metadata": {},
     "output_type": "display_data"
    }
   ],
   "source": [
    "scanpro_4_reps_logit = test_performance(datasets, transform=\"logit\",\n",
    "                                        n_reps=n_reps)"
   ]
  },
  {
   "cell_type": "markdown",
   "id": "a7c6ed8e",
   "metadata": {},
   "source": [
    "#### arcsine"
   ]
  },
  {
   "cell_type": "code",
   "execution_count": 19,
   "id": "d365dc7e",
   "metadata": {},
   "outputs": [
    {
     "data": {
      "application/vnd.jupyter.widget-view+json": {
       "model_id": "4e64ca2be20b4861aeb9ef42b3c72fab",
       "version_major": 2,
       "version_minor": 0
      },
      "text/plain": [
       "  0%|          | 0/100 [00:00<?, ?it/s]"
      ]
     },
     "metadata": {},
     "output_type": "display_data"
    },
    {
     "data": {
      "application/vnd.jupyter.widget-view+json": {
       "model_id": "b5cd2e5ebf434639a51e4f06dd6bacd4",
       "version_major": 2,
       "version_minor": 0
      },
      "text/plain": [
       "  0%|          | 0/200 [00:00<?, ?it/s]"
      ]
     },
     "metadata": {},
     "output_type": "display_data"
    },
    {
     "data": {
      "application/vnd.jupyter.widget-view+json": {
       "model_id": "b2fe962a9aae495abb420fc33c050afd",
       "version_major": 2,
       "version_minor": 0
      },
      "text/plain": [
       "  0%|          | 0/300 [00:00<?, ?it/s]"
      ]
     },
     "metadata": {},
     "output_type": "display_data"
    },
    {
     "data": {
      "application/vnd.jupyter.widget-view+json": {
       "model_id": "c409d9e62b254966a837a59901cac518",
       "version_major": 2,
       "version_minor": 0
      },
      "text/plain": [
       "  0%|          | 0/400 [00:00<?, ?it/s]"
      ]
     },
     "metadata": {},
     "output_type": "display_data"
    },
    {
     "data": {
      "application/vnd.jupyter.widget-view+json": {
       "model_id": "13e5bba677e74110b770a01f117671a8",
       "version_major": 2,
       "version_minor": 0
      },
      "text/plain": [
       "  0%|          | 0/500 [00:00<?, ?it/s]"
      ]
     },
     "metadata": {},
     "output_type": "display_data"
    },
    {
     "data": {
      "application/vnd.jupyter.widget-view+json": {
       "model_id": "0c1b4f1d2b194935aed2186252f9838d",
       "version_major": 2,
       "version_minor": 0
      },
      "text/plain": [
       "  0%|          | 0/600 [00:00<?, ?it/s]"
      ]
     },
     "metadata": {},
     "output_type": "display_data"
    },
    {
     "data": {
      "application/vnd.jupyter.widget-view+json": {
       "model_id": "31886a567b57484d903d76ce79831420",
       "version_major": 2,
       "version_minor": 0
      },
      "text/plain": [
       "  0%|          | 0/700 [00:00<?, ?it/s]"
      ]
     },
     "metadata": {},
     "output_type": "display_data"
    },
    {
     "data": {
      "application/vnd.jupyter.widget-view+json": {
       "model_id": "54ee5abbe6f4444aadf9201974415a83",
       "version_major": 2,
       "version_minor": 0
      },
      "text/plain": [
       "  0%|          | 0/800 [00:00<?, ?it/s]"
      ]
     },
     "metadata": {},
     "output_type": "display_data"
    },
    {
     "data": {
      "application/vnd.jupyter.widget-view+json": {
       "model_id": "e9ac26ec0ce142fd82b97419c465fa42",
       "version_major": 2,
       "version_minor": 0
      },
      "text/plain": [
       "  0%|          | 0/900 [00:00<?, ?it/s]"
      ]
     },
     "metadata": {},
     "output_type": "display_data"
    },
    {
     "data": {
      "application/vnd.jupyter.widget-view+json": {
       "model_id": "f82f1ee4ac7a489abc948515dfdb9173",
       "version_major": 2,
       "version_minor": 0
      },
      "text/plain": [
       "  0%|          | 0/1000 [00:00<?, ?it/s]"
      ]
     },
     "metadata": {},
     "output_type": "display_data"
    },
    {
     "data": {
      "application/vnd.jupyter.widget-view+json": {
       "model_id": "8691f8f879d6460fa03bc2b0fdc28b8e",
       "version_major": 2,
       "version_minor": 0
      },
      "text/plain": [
       "  0%|          | 0/1100 [00:00<?, ?it/s]"
      ]
     },
     "metadata": {},
     "output_type": "display_data"
    },
    {
     "data": {
      "application/vnd.jupyter.widget-view+json": {
       "model_id": "b13e1a793f8d451fa43046ffd8f46f69",
       "version_major": 2,
       "version_minor": 0
      },
      "text/plain": [
       "  0%|          | 0/1200 [00:00<?, ?it/s]"
      ]
     },
     "metadata": {},
     "output_type": "display_data"
    },
    {
     "data": {
      "application/vnd.jupyter.widget-view+json": {
       "model_id": "176c97d0318c4a7683a958b490afd9ea",
       "version_major": 2,
       "version_minor": 0
      },
      "text/plain": [
       "  0%|          | 0/1300 [00:00<?, ?it/s]"
      ]
     },
     "metadata": {},
     "output_type": "display_data"
    },
    {
     "data": {
      "application/vnd.jupyter.widget-view+json": {
       "model_id": "af47f90e84b34144a546437d2ed53da5",
       "version_major": 2,
       "version_minor": 0
      },
      "text/plain": [
       "  0%|          | 0/1400 [00:00<?, ?it/s]"
      ]
     },
     "metadata": {},
     "output_type": "display_data"
    },
    {
     "data": {
      "application/vnd.jupyter.widget-view+json": {
       "model_id": "c76fde833fc24f3dbce2ab28589c732a",
       "version_major": 2,
       "version_minor": 0
      },
      "text/plain": [
       "  0%|          | 0/1500 [00:00<?, ?it/s]"
      ]
     },
     "metadata": {},
     "output_type": "display_data"
    },
    {
     "data": {
      "application/vnd.jupyter.widget-view+json": {
       "model_id": "baae0a0160b946c3ba5d32494489565e",
       "version_major": 2,
       "version_minor": 0
      },
      "text/plain": [
       "  0%|          | 0/1600 [00:00<?, ?it/s]"
      ]
     },
     "metadata": {},
     "output_type": "display_data"
    }
   ],
   "source": [
    "scanpro_4_reps_arcsin = test_performance(datasets, transform=\"arcsin\",\n",
    "                                         n_reps=n_reps)"
   ]
  },
  {
   "cell_type": "markdown",
   "id": "38be4af1",
   "metadata": {},
   "source": [
    "### 5 replicates"
   ]
  },
  {
   "cell_type": "code",
   "execution_count": 20,
   "id": "665309e6",
   "metadata": {},
   "outputs": [],
   "source": [
    "n_reps = 5"
   ]
  },
  {
   "cell_type": "markdown",
   "id": "fc4bce2e",
   "metadata": {},
   "source": [
    "#### logit"
   ]
  },
  {
   "cell_type": "code",
   "execution_count": 21,
   "id": "34aba002",
   "metadata": {},
   "outputs": [
    {
     "data": {
      "application/vnd.jupyter.widget-view+json": {
       "model_id": "66c3aba9574a49dc8865d7a16dad1e31",
       "version_major": 2,
       "version_minor": 0
      },
      "text/plain": [
       "  0%|          | 0/100 [00:00<?, ?it/s]"
      ]
     },
     "metadata": {},
     "output_type": "display_data"
    },
    {
     "data": {
      "application/vnd.jupyter.widget-view+json": {
       "model_id": "0d3b452b3ae64ec0a2bc9b5a8ee60149",
       "version_major": 2,
       "version_minor": 0
      },
      "text/plain": [
       "  0%|          | 0/200 [00:00<?, ?it/s]"
      ]
     },
     "metadata": {},
     "output_type": "display_data"
    },
    {
     "data": {
      "application/vnd.jupyter.widget-view+json": {
       "model_id": "971053c15b6a4d51937508c455781a25",
       "version_major": 2,
       "version_minor": 0
      },
      "text/plain": [
       "  0%|          | 0/300 [00:00<?, ?it/s]"
      ]
     },
     "metadata": {},
     "output_type": "display_data"
    },
    {
     "data": {
      "application/vnd.jupyter.widget-view+json": {
       "model_id": "5ccf22dded854f9480597ace9b5874c2",
       "version_major": 2,
       "version_minor": 0
      },
      "text/plain": [
       "  0%|          | 0/400 [00:00<?, ?it/s]"
      ]
     },
     "metadata": {},
     "output_type": "display_data"
    },
    {
     "data": {
      "application/vnd.jupyter.widget-view+json": {
       "model_id": "0f7ae90a7efe42e9ad0457bc9ab81c35",
       "version_major": 2,
       "version_minor": 0
      },
      "text/plain": [
       "  0%|          | 0/500 [00:00<?, ?it/s]"
      ]
     },
     "metadata": {},
     "output_type": "display_data"
    },
    {
     "data": {
      "application/vnd.jupyter.widget-view+json": {
       "model_id": "625ddd5f87ce49578bbd9de6fdc158d5",
       "version_major": 2,
       "version_minor": 0
      },
      "text/plain": [
       "  0%|          | 0/600 [00:00<?, ?it/s]"
      ]
     },
     "metadata": {},
     "output_type": "display_data"
    },
    {
     "data": {
      "application/vnd.jupyter.widget-view+json": {
       "model_id": "4bdc2e39013a4637800a8be0037f211c",
       "version_major": 2,
       "version_minor": 0
      },
      "text/plain": [
       "  0%|          | 0/700 [00:00<?, ?it/s]"
      ]
     },
     "metadata": {},
     "output_type": "display_data"
    },
    {
     "data": {
      "application/vnd.jupyter.widget-view+json": {
       "model_id": "b8f40634245c4ce4a376081dab4885fa",
       "version_major": 2,
       "version_minor": 0
      },
      "text/plain": [
       "  0%|          | 0/800 [00:00<?, ?it/s]"
      ]
     },
     "metadata": {},
     "output_type": "display_data"
    },
    {
     "data": {
      "application/vnd.jupyter.widget-view+json": {
       "model_id": "f80f2f1ef0404a5db8028d0316155361",
       "version_major": 2,
       "version_minor": 0
      },
      "text/plain": [
       "  0%|          | 0/900 [00:00<?, ?it/s]"
      ]
     },
     "metadata": {},
     "output_type": "display_data"
    },
    {
     "data": {
      "application/vnd.jupyter.widget-view+json": {
       "model_id": "db4a7bf635cf4f5c8cd3b40b0d836b62",
       "version_major": 2,
       "version_minor": 0
      },
      "text/plain": [
       "  0%|          | 0/1000 [00:00<?, ?it/s]"
      ]
     },
     "metadata": {},
     "output_type": "display_data"
    },
    {
     "data": {
      "application/vnd.jupyter.widget-view+json": {
       "model_id": "1a6e089291af4dcca981c4bd32b6ce16",
       "version_major": 2,
       "version_minor": 0
      },
      "text/plain": [
       "  0%|          | 0/1100 [00:00<?, ?it/s]"
      ]
     },
     "metadata": {},
     "output_type": "display_data"
    },
    {
     "data": {
      "application/vnd.jupyter.widget-view+json": {
       "model_id": "011b67f554f74aa2963bfbac9cacb9c8",
       "version_major": 2,
       "version_minor": 0
      },
      "text/plain": [
       "  0%|          | 0/1200 [00:00<?, ?it/s]"
      ]
     },
     "metadata": {},
     "output_type": "display_data"
    },
    {
     "data": {
      "application/vnd.jupyter.widget-view+json": {
       "model_id": "0a6397bf4f304639b762386fa8a2aab1",
       "version_major": 2,
       "version_minor": 0
      },
      "text/plain": [
       "  0%|          | 0/1300 [00:00<?, ?it/s]"
      ]
     },
     "metadata": {},
     "output_type": "display_data"
    },
    {
     "data": {
      "application/vnd.jupyter.widget-view+json": {
       "model_id": "e94ac9a6dd724497b03b0f943acf3700",
       "version_major": 2,
       "version_minor": 0
      },
      "text/plain": [
       "  0%|          | 0/1400 [00:00<?, ?it/s]"
      ]
     },
     "metadata": {},
     "output_type": "display_data"
    },
    {
     "data": {
      "application/vnd.jupyter.widget-view+json": {
       "model_id": "6ffec0d9ed4d4f378c0f5906957369bc",
       "version_major": 2,
       "version_minor": 0
      },
      "text/plain": [
       "  0%|          | 0/1500 [00:00<?, ?it/s]"
      ]
     },
     "metadata": {},
     "output_type": "display_data"
    },
    {
     "data": {
      "application/vnd.jupyter.widget-view+json": {
       "model_id": "2c44bd56f4b5450fa2c6373b9d645a0a",
       "version_major": 2,
       "version_minor": 0
      },
      "text/plain": [
       "  0%|          | 0/1600 [00:00<?, ?it/s]"
      ]
     },
     "metadata": {},
     "output_type": "display_data"
    }
   ],
   "source": [
    "scanpro_5_reps_logit = test_performance(datasets, transform=\"logit\",\n",
    "                                        n_reps=n_reps)"
   ]
  },
  {
   "cell_type": "markdown",
   "id": "6465190c",
   "metadata": {},
   "source": [
    "#### arcsine"
   ]
  },
  {
   "cell_type": "code",
   "execution_count": 22,
   "id": "50acb6d2",
   "metadata": {},
   "outputs": [
    {
     "data": {
      "application/vnd.jupyter.widget-view+json": {
       "model_id": "029b78278b984d90805cf6a5115e67b0",
       "version_major": 2,
       "version_minor": 0
      },
      "text/plain": [
       "  0%|          | 0/100 [00:00<?, ?it/s]"
      ]
     },
     "metadata": {},
     "output_type": "display_data"
    },
    {
     "data": {
      "application/vnd.jupyter.widget-view+json": {
       "model_id": "e0ef192e765841f2866f721557d4412a",
       "version_major": 2,
       "version_minor": 0
      },
      "text/plain": [
       "  0%|          | 0/200 [00:00<?, ?it/s]"
      ]
     },
     "metadata": {},
     "output_type": "display_data"
    },
    {
     "data": {
      "application/vnd.jupyter.widget-view+json": {
       "model_id": "1c5fd720f53842ccb82de5b8a85b4e8e",
       "version_major": 2,
       "version_minor": 0
      },
      "text/plain": [
       "  0%|          | 0/300 [00:00<?, ?it/s]"
      ]
     },
     "metadata": {},
     "output_type": "display_data"
    },
    {
     "data": {
      "application/vnd.jupyter.widget-view+json": {
       "model_id": "5422c727c6ec4ee5b1f29ae294404b8f",
       "version_major": 2,
       "version_minor": 0
      },
      "text/plain": [
       "  0%|          | 0/400 [00:00<?, ?it/s]"
      ]
     },
     "metadata": {},
     "output_type": "display_data"
    },
    {
     "data": {
      "application/vnd.jupyter.widget-view+json": {
       "model_id": "f182916806d14cb294da5e0d82df6ec5",
       "version_major": 2,
       "version_minor": 0
      },
      "text/plain": [
       "  0%|          | 0/500 [00:00<?, ?it/s]"
      ]
     },
     "metadata": {},
     "output_type": "display_data"
    },
    {
     "data": {
      "application/vnd.jupyter.widget-view+json": {
       "model_id": "2f05523e401d44cdbb82cb28802d2a4a",
       "version_major": 2,
       "version_minor": 0
      },
      "text/plain": [
       "  0%|          | 0/600 [00:00<?, ?it/s]"
      ]
     },
     "metadata": {},
     "output_type": "display_data"
    },
    {
     "data": {
      "application/vnd.jupyter.widget-view+json": {
       "model_id": "76bbd9c7c5a54506bf50b61dda953dd7",
       "version_major": 2,
       "version_minor": 0
      },
      "text/plain": [
       "  0%|          | 0/700 [00:00<?, ?it/s]"
      ]
     },
     "metadata": {},
     "output_type": "display_data"
    },
    {
     "data": {
      "application/vnd.jupyter.widget-view+json": {
       "model_id": "4c5c6a68f50340719104524c9f1e7d3c",
       "version_major": 2,
       "version_minor": 0
      },
      "text/plain": [
       "  0%|          | 0/800 [00:00<?, ?it/s]"
      ]
     },
     "metadata": {},
     "output_type": "display_data"
    },
    {
     "data": {
      "application/vnd.jupyter.widget-view+json": {
       "model_id": "2523887ed22a4ca3a25f7ea806d062b9",
       "version_major": 2,
       "version_minor": 0
      },
      "text/plain": [
       "  0%|          | 0/900 [00:00<?, ?it/s]"
      ]
     },
     "metadata": {},
     "output_type": "display_data"
    },
    {
     "data": {
      "application/vnd.jupyter.widget-view+json": {
       "model_id": "5abdd291f1374d79be9a5e9870572a88",
       "version_major": 2,
       "version_minor": 0
      },
      "text/plain": [
       "  0%|          | 0/1000 [00:00<?, ?it/s]"
      ]
     },
     "metadata": {},
     "output_type": "display_data"
    },
    {
     "data": {
      "application/vnd.jupyter.widget-view+json": {
       "model_id": "0a029de25ee14eed8ace8901e7fcb86b",
       "version_major": 2,
       "version_minor": 0
      },
      "text/plain": [
       "  0%|          | 0/1100 [00:00<?, ?it/s]"
      ]
     },
     "metadata": {},
     "output_type": "display_data"
    },
    {
     "data": {
      "application/vnd.jupyter.widget-view+json": {
       "model_id": "02828125561c4a52bdce21f92e59353e",
       "version_major": 2,
       "version_minor": 0
      },
      "text/plain": [
       "  0%|          | 0/1200 [00:00<?, ?it/s]"
      ]
     },
     "metadata": {},
     "output_type": "display_data"
    },
    {
     "data": {
      "application/vnd.jupyter.widget-view+json": {
       "model_id": "1a454e9af42b445a8a80bacf82725341",
       "version_major": 2,
       "version_minor": 0
      },
      "text/plain": [
       "  0%|          | 0/1300 [00:00<?, ?it/s]"
      ]
     },
     "metadata": {},
     "output_type": "display_data"
    },
    {
     "data": {
      "application/vnd.jupyter.widget-view+json": {
       "model_id": "4f94e370e0e542ef98885e9ee93b8819",
       "version_major": 2,
       "version_minor": 0
      },
      "text/plain": [
       "  0%|          | 0/1400 [00:00<?, ?it/s]"
      ]
     },
     "metadata": {},
     "output_type": "display_data"
    },
    {
     "data": {
      "application/vnd.jupyter.widget-view+json": {
       "model_id": "ee7d7b2771424691bfee96ac0972d79b",
       "version_major": 2,
       "version_minor": 0
      },
      "text/plain": [
       "  0%|          | 0/1500 [00:00<?, ?it/s]"
      ]
     },
     "metadata": {},
     "output_type": "display_data"
    },
    {
     "data": {
      "application/vnd.jupyter.widget-view+json": {
       "model_id": "75bc6658518646e1a4b46fe3ae2b012d",
       "version_major": 2,
       "version_minor": 0
      },
      "text/plain": [
       "  0%|          | 0/1600 [00:00<?, ?it/s]"
      ]
     },
     "metadata": {},
     "output_type": "display_data"
    }
   ],
   "source": [
    "scanpro_5_reps_arcsin = test_performance(datasets, transform=\"arcsin\",\n",
    "                                         n_reps=n_reps)"
   ]
  },
  {
   "cell_type": "markdown",
   "id": "d4a8258a",
   "metadata": {},
   "source": [
    "### 8 replicates"
   ]
  },
  {
   "cell_type": "code",
   "execution_count": 23,
   "id": "f7683b8d",
   "metadata": {},
   "outputs": [],
   "source": [
    "n_reps = 8"
   ]
  },
  {
   "cell_type": "markdown",
   "id": "da76084b",
   "metadata": {},
   "source": [
    "#### logit"
   ]
  },
  {
   "cell_type": "code",
   "execution_count": 24,
   "id": "51c05267",
   "metadata": {},
   "outputs": [
    {
     "data": {
      "application/vnd.jupyter.widget-view+json": {
       "model_id": "ef3721f2f7824c26a148e0bb90e2d321",
       "version_major": 2,
       "version_minor": 0
      },
      "text/plain": [
       "  0%|          | 0/100 [00:00<?, ?it/s]"
      ]
     },
     "metadata": {},
     "output_type": "display_data"
    },
    {
     "data": {
      "application/vnd.jupyter.widget-view+json": {
       "model_id": "2ea72a36beaa45ab935c51ff64ef597c",
       "version_major": 2,
       "version_minor": 0
      },
      "text/plain": [
       "  0%|          | 0/200 [00:00<?, ?it/s]"
      ]
     },
     "metadata": {},
     "output_type": "display_data"
    },
    {
     "data": {
      "application/vnd.jupyter.widget-view+json": {
       "model_id": "8513b5541a7947a4b2731280d6b51cda",
       "version_major": 2,
       "version_minor": 0
      },
      "text/plain": [
       "  0%|          | 0/300 [00:00<?, ?it/s]"
      ]
     },
     "metadata": {},
     "output_type": "display_data"
    },
    {
     "data": {
      "application/vnd.jupyter.widget-view+json": {
       "model_id": "961d35bb002a47e3953a46ccc034ca35",
       "version_major": 2,
       "version_minor": 0
      },
      "text/plain": [
       "  0%|          | 0/400 [00:00<?, ?it/s]"
      ]
     },
     "metadata": {},
     "output_type": "display_data"
    },
    {
     "data": {
      "application/vnd.jupyter.widget-view+json": {
       "model_id": "4c1ba4f6cf05404a9311cf20e395de40",
       "version_major": 2,
       "version_minor": 0
      },
      "text/plain": [
       "  0%|          | 0/500 [00:00<?, ?it/s]"
      ]
     },
     "metadata": {},
     "output_type": "display_data"
    },
    {
     "data": {
      "application/vnd.jupyter.widget-view+json": {
       "model_id": "8f209e56de9a482a8805b049e413e5ee",
       "version_major": 2,
       "version_minor": 0
      },
      "text/plain": [
       "  0%|          | 0/600 [00:00<?, ?it/s]"
      ]
     },
     "metadata": {},
     "output_type": "display_data"
    },
    {
     "data": {
      "application/vnd.jupyter.widget-view+json": {
       "model_id": "21e443c1d9fd447387da6bf37d321448",
       "version_major": 2,
       "version_minor": 0
      },
      "text/plain": [
       "  0%|          | 0/700 [00:00<?, ?it/s]"
      ]
     },
     "metadata": {},
     "output_type": "display_data"
    },
    {
     "data": {
      "application/vnd.jupyter.widget-view+json": {
       "model_id": "c88c6c91cd8342f6841297d8190fcde5",
       "version_major": 2,
       "version_minor": 0
      },
      "text/plain": [
       "  0%|          | 0/800 [00:00<?, ?it/s]"
      ]
     },
     "metadata": {},
     "output_type": "display_data"
    },
    {
     "data": {
      "application/vnd.jupyter.widget-view+json": {
       "model_id": "10260469237e490d98ba2e805546ec58",
       "version_major": 2,
       "version_minor": 0
      },
      "text/plain": [
       "  0%|          | 0/900 [00:00<?, ?it/s]"
      ]
     },
     "metadata": {},
     "output_type": "display_data"
    },
    {
     "data": {
      "application/vnd.jupyter.widget-view+json": {
       "model_id": "f90ee881f7e14fc3b73d8a2fd3dd1234",
       "version_major": 2,
       "version_minor": 0
      },
      "text/plain": [
       "  0%|          | 0/1000 [00:00<?, ?it/s]"
      ]
     },
     "metadata": {},
     "output_type": "display_data"
    },
    {
     "data": {
      "application/vnd.jupyter.widget-view+json": {
       "model_id": "4a15ad107838491992f303f1c29ed366",
       "version_major": 2,
       "version_minor": 0
      },
      "text/plain": [
       "  0%|          | 0/1100 [00:00<?, ?it/s]"
      ]
     },
     "metadata": {},
     "output_type": "display_data"
    },
    {
     "data": {
      "application/vnd.jupyter.widget-view+json": {
       "model_id": "f66912686a7844fb92e76f346d318762",
       "version_major": 2,
       "version_minor": 0
      },
      "text/plain": [
       "  0%|          | 0/1200 [00:00<?, ?it/s]"
      ]
     },
     "metadata": {},
     "output_type": "display_data"
    },
    {
     "data": {
      "application/vnd.jupyter.widget-view+json": {
       "model_id": "be3c75d5eca049d99eea38e92e4f55f0",
       "version_major": 2,
       "version_minor": 0
      },
      "text/plain": [
       "  0%|          | 0/1300 [00:00<?, ?it/s]"
      ]
     },
     "metadata": {},
     "output_type": "display_data"
    },
    {
     "data": {
      "application/vnd.jupyter.widget-view+json": {
       "model_id": "4453b0c9446448bcb01a5dfa9ca991c2",
       "version_major": 2,
       "version_minor": 0
      },
      "text/plain": [
       "  0%|          | 0/1400 [00:00<?, ?it/s]"
      ]
     },
     "metadata": {},
     "output_type": "display_data"
    },
    {
     "data": {
      "application/vnd.jupyter.widget-view+json": {
       "model_id": "16370416ab3c4fba99920efffc035db0",
       "version_major": 2,
       "version_minor": 0
      },
      "text/plain": [
       "  0%|          | 0/1500 [00:00<?, ?it/s]"
      ]
     },
     "metadata": {},
     "output_type": "display_data"
    },
    {
     "data": {
      "application/vnd.jupyter.widget-view+json": {
       "model_id": "564a57bb18474a35ba2ba745bbbdcd3b",
       "version_major": 2,
       "version_minor": 0
      },
      "text/plain": [
       "  0%|          | 0/1600 [00:00<?, ?it/s]"
      ]
     },
     "metadata": {},
     "output_type": "display_data"
    }
   ],
   "source": [
    "scanpro_8_reps_logit = test_performance(datasets, transform=\"logit\",\n",
    "                                        n_reps=n_reps)"
   ]
  },
  {
   "cell_type": "markdown",
   "id": "e3f9c7d7",
   "metadata": {},
   "source": [
    "#### arcsine"
   ]
  },
  {
   "cell_type": "code",
   "execution_count": 25,
   "id": "f00311ef",
   "metadata": {},
   "outputs": [
    {
     "data": {
      "application/vnd.jupyter.widget-view+json": {
       "model_id": "a87d42d1cbf74927919061ab1245719b",
       "version_major": 2,
       "version_minor": 0
      },
      "text/plain": [
       "  0%|          | 0/100 [00:00<?, ?it/s]"
      ]
     },
     "metadata": {},
     "output_type": "display_data"
    },
    {
     "data": {
      "application/vnd.jupyter.widget-view+json": {
       "model_id": "39eef3dc820746cab8fce7b53d663122",
       "version_major": 2,
       "version_minor": 0
      },
      "text/plain": [
       "  0%|          | 0/200 [00:00<?, ?it/s]"
      ]
     },
     "metadata": {},
     "output_type": "display_data"
    },
    {
     "data": {
      "application/vnd.jupyter.widget-view+json": {
       "model_id": "8ccdfab087d64629a4a473e4b39fc4bf",
       "version_major": 2,
       "version_minor": 0
      },
      "text/plain": [
       "  0%|          | 0/300 [00:00<?, ?it/s]"
      ]
     },
     "metadata": {},
     "output_type": "display_data"
    },
    {
     "data": {
      "application/vnd.jupyter.widget-view+json": {
       "model_id": "1c8c6b73af044240ad9d9aaed3a57914",
       "version_major": 2,
       "version_minor": 0
      },
      "text/plain": [
       "  0%|          | 0/400 [00:00<?, ?it/s]"
      ]
     },
     "metadata": {},
     "output_type": "display_data"
    },
    {
     "data": {
      "application/vnd.jupyter.widget-view+json": {
       "model_id": "8d3b1f6b7a044e16b2920dd119121f4a",
       "version_major": 2,
       "version_minor": 0
      },
      "text/plain": [
       "  0%|          | 0/500 [00:00<?, ?it/s]"
      ]
     },
     "metadata": {},
     "output_type": "display_data"
    },
    {
     "data": {
      "application/vnd.jupyter.widget-view+json": {
       "model_id": "b430e4abb6ba4ea2a39572ddc3142087",
       "version_major": 2,
       "version_minor": 0
      },
      "text/plain": [
       "  0%|          | 0/600 [00:00<?, ?it/s]"
      ]
     },
     "metadata": {},
     "output_type": "display_data"
    },
    {
     "data": {
      "application/vnd.jupyter.widget-view+json": {
       "model_id": "5daf5e47194a4e87b61c8503ec73da15",
       "version_major": 2,
       "version_minor": 0
      },
      "text/plain": [
       "  0%|          | 0/700 [00:00<?, ?it/s]"
      ]
     },
     "metadata": {},
     "output_type": "display_data"
    },
    {
     "data": {
      "application/vnd.jupyter.widget-view+json": {
       "model_id": "8aa120a3434445bd85d1f28bd02c082f",
       "version_major": 2,
       "version_minor": 0
      },
      "text/plain": [
       "  0%|          | 0/800 [00:00<?, ?it/s]"
      ]
     },
     "metadata": {},
     "output_type": "display_data"
    },
    {
     "data": {
      "application/vnd.jupyter.widget-view+json": {
       "model_id": "5e0e131c523b4c7cbf5036f817357570",
       "version_major": 2,
       "version_minor": 0
      },
      "text/plain": [
       "  0%|          | 0/900 [00:00<?, ?it/s]"
      ]
     },
     "metadata": {},
     "output_type": "display_data"
    },
    {
     "data": {
      "application/vnd.jupyter.widget-view+json": {
       "model_id": "c9f6ba5c31d04aefbd794517d511f234",
       "version_major": 2,
       "version_minor": 0
      },
      "text/plain": [
       "  0%|          | 0/1000 [00:00<?, ?it/s]"
      ]
     },
     "metadata": {},
     "output_type": "display_data"
    },
    {
     "data": {
      "application/vnd.jupyter.widget-view+json": {
       "model_id": "cdcc41da51dd473eb0de16fc8e7fe7fe",
       "version_major": 2,
       "version_minor": 0
      },
      "text/plain": [
       "  0%|          | 0/1100 [00:00<?, ?it/s]"
      ]
     },
     "metadata": {},
     "output_type": "display_data"
    },
    {
     "data": {
      "application/vnd.jupyter.widget-view+json": {
       "model_id": "3ca2994295e64e728d04d9cfd579fe8a",
       "version_major": 2,
       "version_minor": 0
      },
      "text/plain": [
       "  0%|          | 0/1200 [00:00<?, ?it/s]"
      ]
     },
     "metadata": {},
     "output_type": "display_data"
    },
    {
     "data": {
      "application/vnd.jupyter.widget-view+json": {
       "model_id": "4b09a21c690440cb9c765f0021f5bd5a",
       "version_major": 2,
       "version_minor": 0
      },
      "text/plain": [
       "  0%|          | 0/1300 [00:00<?, ?it/s]"
      ]
     },
     "metadata": {},
     "output_type": "display_data"
    },
    {
     "data": {
      "application/vnd.jupyter.widget-view+json": {
       "model_id": "b107d63a97e84eeea0b7e019f57e5c70",
       "version_major": 2,
       "version_minor": 0
      },
      "text/plain": [
       "  0%|          | 0/1400 [00:00<?, ?it/s]"
      ]
     },
     "metadata": {},
     "output_type": "display_data"
    },
    {
     "data": {
      "application/vnd.jupyter.widget-view+json": {
       "model_id": "f2cad7117e384479b27e9d575e3a987b",
       "version_major": 2,
       "version_minor": 0
      },
      "text/plain": [
       "  0%|          | 0/1500 [00:00<?, ?it/s]"
      ]
     },
     "metadata": {},
     "output_type": "display_data"
    },
    {
     "data": {
      "application/vnd.jupyter.widget-view+json": {
       "model_id": "e956afd5c4194e64ba8fd2335402f676",
       "version_major": 2,
       "version_minor": 0
      },
      "text/plain": [
       "  0%|          | 0/1600 [00:00<?, ?it/s]"
      ]
     },
     "metadata": {},
     "output_type": "display_data"
    }
   ],
   "source": [
    "scanpro_8_reps_arcsin = test_performance(datasets, transform=\"arcsin\",\n",
    "                                        n_reps=n_reps)"
   ]
  },
  {
   "cell_type": "markdown",
   "id": "de798bc7",
   "metadata": {},
   "source": [
    "### 10 reps"
   ]
  },
  {
   "cell_type": "code",
   "execution_count": 26,
   "id": "73abbebf",
   "metadata": {},
   "outputs": [],
   "source": [
    "n_reps = 10"
   ]
  },
  {
   "cell_type": "markdown",
   "id": "ce179ce3",
   "metadata": {},
   "source": [
    "#### logit"
   ]
  },
  {
   "cell_type": "code",
   "execution_count": 27,
   "id": "f0fcbffd",
   "metadata": {},
   "outputs": [
    {
     "data": {
      "application/vnd.jupyter.widget-view+json": {
       "model_id": "06fc98f307fd4cd3b69b9aaed7abc937",
       "version_major": 2,
       "version_minor": 0
      },
      "text/plain": [
       "  0%|          | 0/100 [00:00<?, ?it/s]"
      ]
     },
     "metadata": {},
     "output_type": "display_data"
    },
    {
     "data": {
      "application/vnd.jupyter.widget-view+json": {
       "model_id": "40a0936df8bf48b7a1689a7003f9b403",
       "version_major": 2,
       "version_minor": 0
      },
      "text/plain": [
       "  0%|          | 0/200 [00:00<?, ?it/s]"
      ]
     },
     "metadata": {},
     "output_type": "display_data"
    },
    {
     "data": {
      "application/vnd.jupyter.widget-view+json": {
       "model_id": "f0a7f724d60a40069d7faac12a10e5c5",
       "version_major": 2,
       "version_minor": 0
      },
      "text/plain": [
       "  0%|          | 0/300 [00:00<?, ?it/s]"
      ]
     },
     "metadata": {},
     "output_type": "display_data"
    },
    {
     "data": {
      "application/vnd.jupyter.widget-view+json": {
       "model_id": "42c28051fd814d1e8578e9b8988a0b05",
       "version_major": 2,
       "version_minor": 0
      },
      "text/plain": [
       "  0%|          | 0/400 [00:00<?, ?it/s]"
      ]
     },
     "metadata": {},
     "output_type": "display_data"
    },
    {
     "data": {
      "application/vnd.jupyter.widget-view+json": {
       "model_id": "d6a1c414b8d44559a13840ac98ff9683",
       "version_major": 2,
       "version_minor": 0
      },
      "text/plain": [
       "  0%|          | 0/500 [00:00<?, ?it/s]"
      ]
     },
     "metadata": {},
     "output_type": "display_data"
    },
    {
     "data": {
      "application/vnd.jupyter.widget-view+json": {
       "model_id": "9d6cc6c592304b6a9788388b8eb91fc3",
       "version_major": 2,
       "version_minor": 0
      },
      "text/plain": [
       "  0%|          | 0/600 [00:00<?, ?it/s]"
      ]
     },
     "metadata": {},
     "output_type": "display_data"
    },
    {
     "data": {
      "application/vnd.jupyter.widget-view+json": {
       "model_id": "59dd52c2210f4e7ea2b12ada65d0924c",
       "version_major": 2,
       "version_minor": 0
      },
      "text/plain": [
       "  0%|          | 0/700 [00:00<?, ?it/s]"
      ]
     },
     "metadata": {},
     "output_type": "display_data"
    },
    {
     "data": {
      "application/vnd.jupyter.widget-view+json": {
       "model_id": "50747a2b308e4da6b9c00ac4d96958fc",
       "version_major": 2,
       "version_minor": 0
      },
      "text/plain": [
       "  0%|          | 0/800 [00:00<?, ?it/s]"
      ]
     },
     "metadata": {},
     "output_type": "display_data"
    },
    {
     "data": {
      "application/vnd.jupyter.widget-view+json": {
       "model_id": "fcd6c71c57ce4b848b3a7f56ce622267",
       "version_major": 2,
       "version_minor": 0
      },
      "text/plain": [
       "  0%|          | 0/900 [00:00<?, ?it/s]"
      ]
     },
     "metadata": {},
     "output_type": "display_data"
    },
    {
     "data": {
      "application/vnd.jupyter.widget-view+json": {
       "model_id": "8ccfa7f7cd8c406d828c48c5c9a3ee8a",
       "version_major": 2,
       "version_minor": 0
      },
      "text/plain": [
       "  0%|          | 0/1000 [00:00<?, ?it/s]"
      ]
     },
     "metadata": {},
     "output_type": "display_data"
    },
    {
     "data": {
      "application/vnd.jupyter.widget-view+json": {
       "model_id": "93c64914b58a430e91b65465cb8e6ee9",
       "version_major": 2,
       "version_minor": 0
      },
      "text/plain": [
       "  0%|          | 0/1100 [00:00<?, ?it/s]"
      ]
     },
     "metadata": {},
     "output_type": "display_data"
    },
    {
     "data": {
      "application/vnd.jupyter.widget-view+json": {
       "model_id": "60c12b105908489ca538384159eb87c3",
       "version_major": 2,
       "version_minor": 0
      },
      "text/plain": [
       "  0%|          | 0/1200 [00:00<?, ?it/s]"
      ]
     },
     "metadata": {},
     "output_type": "display_data"
    },
    {
     "data": {
      "application/vnd.jupyter.widget-view+json": {
       "model_id": "8e10e501c8a94a43a6fae52436a9f5f8",
       "version_major": 2,
       "version_minor": 0
      },
      "text/plain": [
       "  0%|          | 0/1300 [00:00<?, ?it/s]"
      ]
     },
     "metadata": {},
     "output_type": "display_data"
    },
    {
     "data": {
      "application/vnd.jupyter.widget-view+json": {
       "model_id": "2d0333ae45e346f6b0991076cdd426a5",
       "version_major": 2,
       "version_minor": 0
      },
      "text/plain": [
       "  0%|          | 0/1400 [00:00<?, ?it/s]"
      ]
     },
     "metadata": {},
     "output_type": "display_data"
    },
    {
     "data": {
      "application/vnd.jupyter.widget-view+json": {
       "model_id": "9d65af012cff4ae3bc8db12eaf3e9b6c",
       "version_major": 2,
       "version_minor": 0
      },
      "text/plain": [
       "  0%|          | 0/1500 [00:00<?, ?it/s]"
      ]
     },
     "metadata": {},
     "output_type": "display_data"
    },
    {
     "data": {
      "application/vnd.jupyter.widget-view+json": {
       "model_id": "479d159e27e94058a89c73292ca02727",
       "version_major": 2,
       "version_minor": 0
      },
      "text/plain": [
       "  0%|          | 0/1600 [00:00<?, ?it/s]"
      ]
     },
     "metadata": {},
     "output_type": "display_data"
    }
   ],
   "source": [
    "scanpro_10_reps_logit = test_performance(datasets, transform=\"logit\",\n",
    "                                        n_reps=n_reps)"
   ]
  },
  {
   "cell_type": "markdown",
   "id": "d21d6f9e",
   "metadata": {},
   "source": [
    "#### arcsine"
   ]
  },
  {
   "cell_type": "code",
   "execution_count": 28,
   "id": "53cf364a",
   "metadata": {},
   "outputs": [
    {
     "data": {
      "application/vnd.jupyter.widget-view+json": {
       "model_id": "4e4e38164a434e3f8aeb76aa22541ffd",
       "version_major": 2,
       "version_minor": 0
      },
      "text/plain": [
       "  0%|          | 0/100 [00:00<?, ?it/s]"
      ]
     },
     "metadata": {},
     "output_type": "display_data"
    },
    {
     "data": {
      "application/vnd.jupyter.widget-view+json": {
       "model_id": "cf6cb80326304d99945f2ccf34bb94d4",
       "version_major": 2,
       "version_minor": 0
      },
      "text/plain": [
       "  0%|          | 0/200 [00:00<?, ?it/s]"
      ]
     },
     "metadata": {},
     "output_type": "display_data"
    },
    {
     "data": {
      "application/vnd.jupyter.widget-view+json": {
       "model_id": "340b5c7b67e64a0797c023d56fd96cd6",
       "version_major": 2,
       "version_minor": 0
      },
      "text/plain": [
       "  0%|          | 0/300 [00:00<?, ?it/s]"
      ]
     },
     "metadata": {},
     "output_type": "display_data"
    },
    {
     "data": {
      "application/vnd.jupyter.widget-view+json": {
       "model_id": "725f7a75a043429b8912cf6b231bd6de",
       "version_major": 2,
       "version_minor": 0
      },
      "text/plain": [
       "  0%|          | 0/400 [00:00<?, ?it/s]"
      ]
     },
     "metadata": {},
     "output_type": "display_data"
    },
    {
     "data": {
      "application/vnd.jupyter.widget-view+json": {
       "model_id": "a131890ea3d94209bdf65cab30fe1ec7",
       "version_major": 2,
       "version_minor": 0
      },
      "text/plain": [
       "  0%|          | 0/500 [00:00<?, ?it/s]"
      ]
     },
     "metadata": {},
     "output_type": "display_data"
    },
    {
     "data": {
      "application/vnd.jupyter.widget-view+json": {
       "model_id": "6e382e33860f4ef280c9c63ae2e3166d",
       "version_major": 2,
       "version_minor": 0
      },
      "text/plain": [
       "  0%|          | 0/600 [00:00<?, ?it/s]"
      ]
     },
     "metadata": {},
     "output_type": "display_data"
    },
    {
     "data": {
      "application/vnd.jupyter.widget-view+json": {
       "model_id": "571982155af54b898f7ed77e52fca2cd",
       "version_major": 2,
       "version_minor": 0
      },
      "text/plain": [
       "  0%|          | 0/700 [00:00<?, ?it/s]"
      ]
     },
     "metadata": {},
     "output_type": "display_data"
    },
    {
     "data": {
      "application/vnd.jupyter.widget-view+json": {
       "model_id": "697c5f9247ad49899eb1cf56eb72aed9",
       "version_major": 2,
       "version_minor": 0
      },
      "text/plain": [
       "  0%|          | 0/800 [00:00<?, ?it/s]"
      ]
     },
     "metadata": {},
     "output_type": "display_data"
    },
    {
     "data": {
      "application/vnd.jupyter.widget-view+json": {
       "model_id": "8c9d74002cbf4394a2534d8a2407b3e1",
       "version_major": 2,
       "version_minor": 0
      },
      "text/plain": [
       "  0%|          | 0/900 [00:00<?, ?it/s]"
      ]
     },
     "metadata": {},
     "output_type": "display_data"
    },
    {
     "data": {
      "application/vnd.jupyter.widget-view+json": {
       "model_id": "e5f5079ab85347409bbdcaf467c920c4",
       "version_major": 2,
       "version_minor": 0
      },
      "text/plain": [
       "  0%|          | 0/1000 [00:00<?, ?it/s]"
      ]
     },
     "metadata": {},
     "output_type": "display_data"
    },
    {
     "data": {
      "application/vnd.jupyter.widget-view+json": {
       "model_id": "f6f17ae73522476098c1b4ca7b93dcbe",
       "version_major": 2,
       "version_minor": 0
      },
      "text/plain": [
       "  0%|          | 0/1100 [00:00<?, ?it/s]"
      ]
     },
     "metadata": {},
     "output_type": "display_data"
    },
    {
     "data": {
      "application/vnd.jupyter.widget-view+json": {
       "model_id": "f9888eb70b07471594917167bd3123fb",
       "version_major": 2,
       "version_minor": 0
      },
      "text/plain": [
       "  0%|          | 0/1200 [00:00<?, ?it/s]"
      ]
     },
     "metadata": {},
     "output_type": "display_data"
    },
    {
     "data": {
      "application/vnd.jupyter.widget-view+json": {
       "model_id": "db1e8d09c73f40c68d53f60e0f00ed65",
       "version_major": 2,
       "version_minor": 0
      },
      "text/plain": [
       "  0%|          | 0/1300 [00:00<?, ?it/s]"
      ]
     },
     "metadata": {},
     "output_type": "display_data"
    },
    {
     "data": {
      "application/vnd.jupyter.widget-view+json": {
       "model_id": "b422a5d495af418386e489f8bff522a8",
       "version_major": 2,
       "version_minor": 0
      },
      "text/plain": [
       "  0%|          | 0/1400 [00:00<?, ?it/s]"
      ]
     },
     "metadata": {},
     "output_type": "display_data"
    },
    {
     "data": {
      "application/vnd.jupyter.widget-view+json": {
       "model_id": "bf92052f8d5d4069b31832305f868387",
       "version_major": 2,
       "version_minor": 0
      },
      "text/plain": [
       "  0%|          | 0/1500 [00:00<?, ?it/s]"
      ]
     },
     "metadata": {},
     "output_type": "display_data"
    },
    {
     "data": {
      "application/vnd.jupyter.widget-view+json": {
       "model_id": "9f212c9d44904be08bd28804dd7c961d",
       "version_major": 2,
       "version_minor": 0
      },
      "text/plain": [
       "  0%|          | 0/1600 [00:00<?, ?it/s]"
      ]
     },
     "metadata": {},
     "output_type": "display_data"
    }
   ],
   "source": [
    "scanpro_10_reps_arcsin = test_performance(datasets, transform=\"arcsin\",\n",
    "                                        n_reps=n_reps)"
   ]
  },
  {
   "cell_type": "markdown",
   "id": "120435b9",
   "metadata": {},
   "source": [
    "### 14 reps"
   ]
  },
  {
   "cell_type": "code",
   "execution_count": 29,
   "id": "325d93ac",
   "metadata": {},
   "outputs": [],
   "source": [
    "n_reps = 14"
   ]
  },
  {
   "cell_type": "markdown",
   "id": "b6a5825e",
   "metadata": {},
   "source": [
    "#### logit"
   ]
  },
  {
   "cell_type": "code",
   "execution_count": 30,
   "id": "8ae72b1a",
   "metadata": {},
   "outputs": [
    {
     "data": {
      "application/vnd.jupyter.widget-view+json": {
       "model_id": "3c1da6fb87ac489b9964929960cb94a8",
       "version_major": 2,
       "version_minor": 0
      },
      "text/plain": [
       "  0%|          | 0/100 [00:00<?, ?it/s]"
      ]
     },
     "metadata": {},
     "output_type": "display_data"
    },
    {
     "data": {
      "application/vnd.jupyter.widget-view+json": {
       "model_id": "581fb97d17654ef08b8756bdbf749db6",
       "version_major": 2,
       "version_minor": 0
      },
      "text/plain": [
       "  0%|          | 0/200 [00:00<?, ?it/s]"
      ]
     },
     "metadata": {},
     "output_type": "display_data"
    },
    {
     "data": {
      "application/vnd.jupyter.widget-view+json": {
       "model_id": "44c8c393b862409b8cff3595650a5403",
       "version_major": 2,
       "version_minor": 0
      },
      "text/plain": [
       "  0%|          | 0/300 [00:00<?, ?it/s]"
      ]
     },
     "metadata": {},
     "output_type": "display_data"
    },
    {
     "data": {
      "application/vnd.jupyter.widget-view+json": {
       "model_id": "2248e681380146daacef8fc0a76ea13a",
       "version_major": 2,
       "version_minor": 0
      },
      "text/plain": [
       "  0%|          | 0/400 [00:00<?, ?it/s]"
      ]
     },
     "metadata": {},
     "output_type": "display_data"
    },
    {
     "data": {
      "application/vnd.jupyter.widget-view+json": {
       "model_id": "e01cb1dd8d2249bcba155b61e6e8aa37",
       "version_major": 2,
       "version_minor": 0
      },
      "text/plain": [
       "  0%|          | 0/500 [00:00<?, ?it/s]"
      ]
     },
     "metadata": {},
     "output_type": "display_data"
    },
    {
     "data": {
      "application/vnd.jupyter.widget-view+json": {
       "model_id": "05b87a70248b4d93852bdf7e51da0fa5",
       "version_major": 2,
       "version_minor": 0
      },
      "text/plain": [
       "  0%|          | 0/600 [00:00<?, ?it/s]"
      ]
     },
     "metadata": {},
     "output_type": "display_data"
    },
    {
     "data": {
      "application/vnd.jupyter.widget-view+json": {
       "model_id": "3900d9e00f0a4ce7a963af9e6d8a1c74",
       "version_major": 2,
       "version_minor": 0
      },
      "text/plain": [
       "  0%|          | 0/700 [00:00<?, ?it/s]"
      ]
     },
     "metadata": {},
     "output_type": "display_data"
    },
    {
     "data": {
      "application/vnd.jupyter.widget-view+json": {
       "model_id": "a80e449f2b49483d86e37248b5c422e7",
       "version_major": 2,
       "version_minor": 0
      },
      "text/plain": [
       "  0%|          | 0/800 [00:00<?, ?it/s]"
      ]
     },
     "metadata": {},
     "output_type": "display_data"
    },
    {
     "data": {
      "application/vnd.jupyter.widget-view+json": {
       "model_id": "bf0535d71a3d45d3be21e59ea601524c",
       "version_major": 2,
       "version_minor": 0
      },
      "text/plain": [
       "  0%|          | 0/900 [00:00<?, ?it/s]"
      ]
     },
     "metadata": {},
     "output_type": "display_data"
    },
    {
     "data": {
      "application/vnd.jupyter.widget-view+json": {
       "model_id": "d85ab588ec9642789593729ab93bf11d",
       "version_major": 2,
       "version_minor": 0
      },
      "text/plain": [
       "  0%|          | 0/1000 [00:00<?, ?it/s]"
      ]
     },
     "metadata": {},
     "output_type": "display_data"
    },
    {
     "data": {
      "application/vnd.jupyter.widget-view+json": {
       "model_id": "5a2eb6dc455f4689af056b30dedff234",
       "version_major": 2,
       "version_minor": 0
      },
      "text/plain": [
       "  0%|          | 0/1100 [00:00<?, ?it/s]"
      ]
     },
     "metadata": {},
     "output_type": "display_data"
    },
    {
     "data": {
      "application/vnd.jupyter.widget-view+json": {
       "model_id": "6532e1ebd14043dd882484b0c64667ac",
       "version_major": 2,
       "version_minor": 0
      },
      "text/plain": [
       "  0%|          | 0/1200 [00:00<?, ?it/s]"
      ]
     },
     "metadata": {},
     "output_type": "display_data"
    },
    {
     "data": {
      "application/vnd.jupyter.widget-view+json": {
       "model_id": "d00d754b82c64a7692ba058d66b25488",
       "version_major": 2,
       "version_minor": 0
      },
      "text/plain": [
       "  0%|          | 0/1300 [00:00<?, ?it/s]"
      ]
     },
     "metadata": {},
     "output_type": "display_data"
    },
    {
     "data": {
      "application/vnd.jupyter.widget-view+json": {
       "model_id": "869e6803027b44b2a248e11936fa5398",
       "version_major": 2,
       "version_minor": 0
      },
      "text/plain": [
       "  0%|          | 0/1400 [00:00<?, ?it/s]"
      ]
     },
     "metadata": {},
     "output_type": "display_data"
    },
    {
     "data": {
      "application/vnd.jupyter.widget-view+json": {
       "model_id": "bc27f89f476e4d77a19b743eff672b67",
       "version_major": 2,
       "version_minor": 0
      },
      "text/plain": [
       "  0%|          | 0/1500 [00:00<?, ?it/s]"
      ]
     },
     "metadata": {},
     "output_type": "display_data"
    },
    {
     "data": {
      "application/vnd.jupyter.widget-view+json": {
       "model_id": "0502b2b5270940959ac67bef14be9134",
       "version_major": 2,
       "version_minor": 0
      },
      "text/plain": [
       "  0%|          | 0/1600 [00:00<?, ?it/s]"
      ]
     },
     "metadata": {},
     "output_type": "display_data"
    }
   ],
   "source": [
    "scanpro_14_reps_logit = test_performance(datasets, transform=\"logit\",\n",
    "                                         n_reps=n_reps)"
   ]
  },
  {
   "cell_type": "markdown",
   "id": "d9edf7ac",
   "metadata": {},
   "source": [
    "#### arcsine"
   ]
  },
  {
   "cell_type": "code",
   "execution_count": 31,
   "id": "df83e4d7",
   "metadata": {},
   "outputs": [
    {
     "data": {
      "application/vnd.jupyter.widget-view+json": {
       "model_id": "f21eebab51fc46e185fe2221a57c4e9e",
       "version_major": 2,
       "version_minor": 0
      },
      "text/plain": [
       "  0%|          | 0/100 [00:00<?, ?it/s]"
      ]
     },
     "metadata": {},
     "output_type": "display_data"
    },
    {
     "data": {
      "application/vnd.jupyter.widget-view+json": {
       "model_id": "609c38cb15764ce09d9d52f102109efe",
       "version_major": 2,
       "version_minor": 0
      },
      "text/plain": [
       "  0%|          | 0/200 [00:00<?, ?it/s]"
      ]
     },
     "metadata": {},
     "output_type": "display_data"
    },
    {
     "data": {
      "application/vnd.jupyter.widget-view+json": {
       "model_id": "21dccd74d84c45d0adca200ad4c042de",
       "version_major": 2,
       "version_minor": 0
      },
      "text/plain": [
       "  0%|          | 0/300 [00:00<?, ?it/s]"
      ]
     },
     "metadata": {},
     "output_type": "display_data"
    },
    {
     "data": {
      "application/vnd.jupyter.widget-view+json": {
       "model_id": "c532ef2fd4284a308a6e8226e7018e57",
       "version_major": 2,
       "version_minor": 0
      },
      "text/plain": [
       "  0%|          | 0/400 [00:00<?, ?it/s]"
      ]
     },
     "metadata": {},
     "output_type": "display_data"
    },
    {
     "data": {
      "application/vnd.jupyter.widget-view+json": {
       "model_id": "f546732d6c834f339ad4616aa78db4ec",
       "version_major": 2,
       "version_minor": 0
      },
      "text/plain": [
       "  0%|          | 0/500 [00:00<?, ?it/s]"
      ]
     },
     "metadata": {},
     "output_type": "display_data"
    },
    {
     "data": {
      "application/vnd.jupyter.widget-view+json": {
       "model_id": "5138254d41e94b30b431045f965d1183",
       "version_major": 2,
       "version_minor": 0
      },
      "text/plain": [
       "  0%|          | 0/600 [00:00<?, ?it/s]"
      ]
     },
     "metadata": {},
     "output_type": "display_data"
    },
    {
     "data": {
      "application/vnd.jupyter.widget-view+json": {
       "model_id": "4692f3b71df642ffa6cc165a313a065f",
       "version_major": 2,
       "version_minor": 0
      },
      "text/plain": [
       "  0%|          | 0/700 [00:00<?, ?it/s]"
      ]
     },
     "metadata": {},
     "output_type": "display_data"
    },
    {
     "data": {
      "application/vnd.jupyter.widget-view+json": {
       "model_id": "4f520dfe9b4f46edb9a7cccee2760b6d",
       "version_major": 2,
       "version_minor": 0
      },
      "text/plain": [
       "  0%|          | 0/800 [00:00<?, ?it/s]"
      ]
     },
     "metadata": {},
     "output_type": "display_data"
    },
    {
     "data": {
      "application/vnd.jupyter.widget-view+json": {
       "model_id": "028936bd7642465396d89f47019264f6",
       "version_major": 2,
       "version_minor": 0
      },
      "text/plain": [
       "  0%|          | 0/900 [00:00<?, ?it/s]"
      ]
     },
     "metadata": {},
     "output_type": "display_data"
    },
    {
     "data": {
      "application/vnd.jupyter.widget-view+json": {
       "model_id": "6f0499488bb84f70b688af64c9a2d60b",
       "version_major": 2,
       "version_minor": 0
      },
      "text/plain": [
       "  0%|          | 0/1000 [00:00<?, ?it/s]"
      ]
     },
     "metadata": {},
     "output_type": "display_data"
    },
    {
     "data": {
      "application/vnd.jupyter.widget-view+json": {
       "model_id": "cadae9e2702849e9bcf1fa3b7da01285",
       "version_major": 2,
       "version_minor": 0
      },
      "text/plain": [
       "  0%|          | 0/1100 [00:00<?, ?it/s]"
      ]
     },
     "metadata": {},
     "output_type": "display_data"
    },
    {
     "data": {
      "application/vnd.jupyter.widget-view+json": {
       "model_id": "c6435ad510ab494a99a9c12b82cdb21a",
       "version_major": 2,
       "version_minor": 0
      },
      "text/plain": [
       "  0%|          | 0/1200 [00:00<?, ?it/s]"
      ]
     },
     "metadata": {},
     "output_type": "display_data"
    },
    {
     "data": {
      "application/vnd.jupyter.widget-view+json": {
       "model_id": "67931ccd7b384ae3a1debdcb6da43881",
       "version_major": 2,
       "version_minor": 0
      },
      "text/plain": [
       "  0%|          | 0/1300 [00:00<?, ?it/s]"
      ]
     },
     "metadata": {},
     "output_type": "display_data"
    },
    {
     "data": {
      "application/vnd.jupyter.widget-view+json": {
       "model_id": "4eed854a39df490198feaee9121789ca",
       "version_major": 2,
       "version_minor": 0
      },
      "text/plain": [
       "  0%|          | 0/1400 [00:00<?, ?it/s]"
      ]
     },
     "metadata": {},
     "output_type": "display_data"
    },
    {
     "data": {
      "application/vnd.jupyter.widget-view+json": {
       "model_id": "5f72e452c04c4a16964ae4a93337e0df",
       "version_major": 2,
       "version_minor": 0
      },
      "text/plain": [
       "  0%|          | 0/1500 [00:00<?, ?it/s]"
      ]
     },
     "metadata": {},
     "output_type": "display_data"
    },
    {
     "data": {
      "application/vnd.jupyter.widget-view+json": {
       "model_id": "56e034acb6ab489e939120801510e433",
       "version_major": 2,
       "version_minor": 0
      },
      "text/plain": [
       "  0%|          | 0/1600 [00:00<?, ?it/s]"
      ]
     },
     "metadata": {},
     "output_type": "display_data"
    }
   ],
   "source": [
    "scanpro_14_reps_arcsin = test_performance(datasets, transform=\"arcsin\",\n",
    "                                         n_reps=n_reps)"
   ]
  },
  {
   "cell_type": "markdown",
   "id": "0fd767d5",
   "metadata": {},
   "source": [
    "### Results"
   ]
  },
  {
   "cell_type": "code",
   "execution_count": 116,
   "id": "9ac8e2ac",
   "metadata": {},
   "outputs": [],
   "source": [
    "methods = [f'{trans}_{rep}_reps' for rep in [2,3,4,5,8,10,14] for trans in ['logit', 'arcsin']]\n",
    "\n",
    "results = [scanpro_2_reps_logit, scanpro_2_reps_arcsin,\n",
    "           scanpro_3_reps_logit, scanpro_3_reps_arcsin,\n",
    "           scanpro_4_reps_logit, scanpro_4_reps_arcsin,\n",
    "           scanpro_5_reps_logit, scanpro_5_reps_arcsin,\n",
    "           scanpro_8_reps_logit, scanpro_8_reps_arcsin,\n",
    "           scanpro_10_reps_logit, scanpro_10_reps_arcsin,\n",
    "           scanpro_14_reps_logit, scanpro_14_reps_arcsin]\n",
    "\n",
    "all_results = {mu: {method: None for method in methods} for mu in mu_list}\n",
    "\n",
    "differential_groups = ['Cardiomyocytes', 'Fibroblast', 'Smooth muscle cells']\n",
    "\n",
    "for i, method in enumerate(methods):\n",
    "    for j, mu in enumerate(mu_list):\n",
    "    \n",
    "        all_results[mu][method] = pd.concat(results[i][j*100:j*100+100])\n",
    "        all_results[mu][method]['mean_replicate_count'] = mean_replicate_count[j]\n",
    "        all_results[mu][method]['mu'] = mu\n",
    "        all_results[mu][method]['n_reps'] = method.split('_')[1]\n",
    "        all_results[mu][method]['transform'] = method.split('_')[0]\n",
    "        all_results[mu][method]['correct'] = [row[\"p_values\"] < 0.05 if row[\"clusters\"] in differential_groups else row[\"p_values\"] >= 0.05 for i, row in all_results[mu][method].reset_index().iterrows()]\n"
   ]
  },
  {
   "cell_type": "code",
   "execution_count": 117,
   "id": "38252241",
   "metadata": {},
   "outputs": [
    {
     "data": {
      "text/html": [
       "<div>\n",
       "<style scoped>\n",
       "    .dataframe tbody tr th:only-of-type {\n",
       "        vertical-align: middle;\n",
       "    }\n",
       "\n",
       "    .dataframe tbody tr th {\n",
       "        vertical-align: top;\n",
       "    }\n",
       "\n",
       "    .dataframe thead th {\n",
       "        text-align: right;\n",
       "    }\n",
       "</style>\n",
       "<table border=\"1\" class=\"dataframe\">\n",
       "  <thead>\n",
       "    <tr style=\"text-align: right;\">\n",
       "      <th></th>\n",
       "      <th>baseline_props</th>\n",
       "      <th>mean_props_cond_1</th>\n",
       "      <th>mean_props_cond_2</th>\n",
       "      <th>p_values</th>\n",
       "      <th>run</th>\n",
       "      <th>mean_replicate_count</th>\n",
       "      <th>mu</th>\n",
       "      <th>n_reps</th>\n",
       "      <th>transform</th>\n",
       "      <th>correct</th>\n",
       "    </tr>\n",
       "    <tr>\n",
       "      <th>clusters</th>\n",
       "      <th></th>\n",
       "      <th></th>\n",
       "      <th></th>\n",
       "      <th></th>\n",
       "      <th></th>\n",
       "      <th></th>\n",
       "      <th></th>\n",
       "      <th></th>\n",
       "      <th></th>\n",
       "      <th></th>\n",
       "    </tr>\n",
       "  </thead>\n",
       "  <tbody>\n",
       "    <tr>\n",
       "      <th>Cardiomyocytes</th>\n",
       "      <td>0.426893</td>\n",
       "      <td>0.531897</td>\n",
       "      <td>0.316813</td>\n",
       "      <td>0.062523</td>\n",
       "      <td>1</td>\n",
       "      <td>978.62</td>\n",
       "      <td>250</td>\n",
       "      <td>2</td>\n",
       "      <td>logit</td>\n",
       "      <td>False</td>\n",
       "    </tr>\n",
       "    <tr>\n",
       "      <th>Endothelial cells</th>\n",
       "      <td>0.071689</td>\n",
       "      <td>0.071863</td>\n",
       "      <td>0.069967</td>\n",
       "      <td>0.608524</td>\n",
       "      <td>1</td>\n",
       "      <td>978.62</td>\n",
       "      <td>250</td>\n",
       "      <td>2</td>\n",
       "      <td>logit</td>\n",
       "      <td>True</td>\n",
       "    </tr>\n",
       "    <tr>\n",
       "      <th>Epicardial cells</th>\n",
       "      <td>0.062778</td>\n",
       "      <td>0.066618</td>\n",
       "      <td>0.058406</td>\n",
       "      <td>0.525534</td>\n",
       "      <td>1</td>\n",
       "      <td>978.62</td>\n",
       "      <td>250</td>\n",
       "      <td>2</td>\n",
       "      <td>logit</td>\n",
       "      <td>True</td>\n",
       "    </tr>\n",
       "    <tr>\n",
       "      <th>Fibroblast</th>\n",
       "      <td>0.298906</td>\n",
       "      <td>0.223336</td>\n",
       "      <td>0.379895</td>\n",
       "      <td>0.080629</td>\n",
       "      <td>1</td>\n",
       "      <td>978.62</td>\n",
       "      <td>250</td>\n",
       "      <td>2</td>\n",
       "      <td>logit</td>\n",
       "      <td>False</td>\n",
       "    </tr>\n",
       "    <tr>\n",
       "      <th>Immune cells</th>\n",
       "      <td>0.109761</td>\n",
       "      <td>0.089133</td>\n",
       "      <td>0.129736</td>\n",
       "      <td>0.223243</td>\n",
       "      <td>1</td>\n",
       "      <td>978.62</td>\n",
       "      <td>250</td>\n",
       "      <td>2</td>\n",
       "      <td>logit</td>\n",
       "      <td>True</td>\n",
       "    </tr>\n",
       "  </tbody>\n",
       "</table>\n",
       "</div>"
      ],
      "text/plain": [
       "                   baseline_props  mean_props_cond_1  mean_props_cond_2  \\\n",
       "clusters                                                                  \n",
       "Cardiomyocytes           0.426893           0.531897           0.316813   \n",
       "Endothelial cells        0.071689           0.071863           0.069967   \n",
       "Epicardial cells         0.062778           0.066618           0.058406   \n",
       "Fibroblast               0.298906           0.223336           0.379895   \n",
       "Immune cells             0.109761           0.089133           0.129736   \n",
       "\n",
       "                   p_values  run  mean_replicate_count   mu n_reps transform  \\\n",
       "clusters                                                                       \n",
       "Cardiomyocytes     0.062523    1                978.62  250      2     logit   \n",
       "Endothelial cells  0.608524    1                978.62  250      2     logit   \n",
       "Epicardial cells   0.525534    1                978.62  250      2     logit   \n",
       "Fibroblast         0.080629    1                978.62  250      2     logit   \n",
       "Immune cells       0.223243    1                978.62  250      2     logit   \n",
       "\n",
       "                   correct  \n",
       "clusters                    \n",
       "Cardiomyocytes       False  \n",
       "Endothelial cells     True  \n",
       "Epicardial cells      True  \n",
       "Fibroblast           False  \n",
       "Immune cells          True  "
      ]
     },
     "execution_count": 117,
     "metadata": {},
     "output_type": "execute_result"
    }
   ],
   "source": [
    "all_results_df = pd.concat([all_results[mu][method] for mu in mu_list for method in methods])\n",
    "all_results_df.head()"
   ]
  },
  {
   "cell_type": "code",
   "execution_count": 118,
   "id": "9fd87cdc",
   "metadata": {},
   "outputs": [],
   "source": [
    "all_results_df.to_csv(f\"{OUT_PATH}/simulation_results_diff_2.tsv\", sep=\"\\t\")"
   ]
  },
  {
   "cell_type": "code",
   "execution_count": 119,
   "id": "3293ab48",
   "metadata": {},
   "outputs": [],
   "source": [
    "# get p_values for each method\n",
    "p_values = {count: {method: None for method in methods} for count in mean_replicate_count}\n",
    "\n",
    "for method in methods:\n",
    "    for i, count in enumerate(sample_mean_counts):\n",
    "\n",
    "        p_values[count][method] = [all_results[mu_list[i]][method].iloc[j:j+7, 3].to_list() for j in np.arange(0, 700, 7)]"
   ]
  },
  {
   "cell_type": "markdown",
   "id": "f5f94810",
   "metadata": {},
   "source": [
    "#### Hit rate"
   ]
  },
  {
   "cell_type": "code",
   "execution_count": 126,
   "id": "1b403374",
   "metadata": {
    "scrolled": true
   },
   "outputs": [
    {
     "data": {
      "text/html": [
       "<div>\n",
       "<style scoped>\n",
       "    .dataframe tbody tr th:only-of-type {\n",
       "        vertical-align: middle;\n",
       "    }\n",
       "\n",
       "    .dataframe tbody tr th {\n",
       "        vertical-align: top;\n",
       "    }\n",
       "\n",
       "    .dataframe thead th {\n",
       "        text-align: right;\n",
       "    }\n",
       "</style>\n",
       "<table border=\"1\" class=\"dataframe\">\n",
       "  <thead>\n",
       "    <tr style=\"text-align: right;\">\n",
       "      <th></th>\n",
       "      <th>method</th>\n",
       "      <th>mu</th>\n",
       "      <th>hit_rate</th>\n",
       "      <th>mean_count</th>\n",
       "      <th>mean_replicate_count</th>\n",
       "      <th>Transform</th>\n",
       "    </tr>\n",
       "  </thead>\n",
       "  <tbody>\n",
       "    <tr>\n",
       "      <th>0</th>\n",
       "      <td>logit_2_reps</td>\n",
       "      <td>250</td>\n",
       "      <td>0.0</td>\n",
       "      <td>1957.24</td>\n",
       "      <td>978.620</td>\n",
       "      <td>logit</td>\n",
       "    </tr>\n",
       "    <tr>\n",
       "      <th>1</th>\n",
       "      <td>arcsin_2_reps</td>\n",
       "      <td>250</td>\n",
       "      <td>5.0</td>\n",
       "      <td>1957.24</td>\n",
       "      <td>978.620</td>\n",
       "      <td>arcsin</td>\n",
       "    </tr>\n",
       "    <tr>\n",
       "      <th>2</th>\n",
       "      <td>logit_3_reps</td>\n",
       "      <td>250</td>\n",
       "      <td>0.0</td>\n",
       "      <td>1957.24</td>\n",
       "      <td>978.620</td>\n",
       "      <td>logit</td>\n",
       "    </tr>\n",
       "    <tr>\n",
       "      <th>3</th>\n",
       "      <td>arcsin_3_reps</td>\n",
       "      <td>250</td>\n",
       "      <td>4.0</td>\n",
       "      <td>1957.24</td>\n",
       "      <td>978.620</td>\n",
       "      <td>arcsin</td>\n",
       "    </tr>\n",
       "    <tr>\n",
       "      <th>4</th>\n",
       "      <td>logit_4_reps</td>\n",
       "      <td>250</td>\n",
       "      <td>0.0</td>\n",
       "      <td>1957.24</td>\n",
       "      <td>978.620</td>\n",
       "      <td>logit</td>\n",
       "    </tr>\n",
       "    <tr>\n",
       "      <th>...</th>\n",
       "      <td>...</td>\n",
       "      <td>...</td>\n",
       "      <td>...</td>\n",
       "      <td>...</td>\n",
       "      <td>...</td>\n",
       "      <td>...</td>\n",
       "    </tr>\n",
       "    <tr>\n",
       "      <th>219</th>\n",
       "      <td>arcsin_8_reps</td>\n",
       "      <td>12500</td>\n",
       "      <td>34.0</td>\n",
       "      <td>98387.63</td>\n",
       "      <td>49193.815</td>\n",
       "      <td>arcsin</td>\n",
       "    </tr>\n",
       "    <tr>\n",
       "      <th>220</th>\n",
       "      <td>logit_10_reps</td>\n",
       "      <td>12500</td>\n",
       "      <td>10.0</td>\n",
       "      <td>98387.63</td>\n",
       "      <td>49193.815</td>\n",
       "      <td>logit</td>\n",
       "    </tr>\n",
       "    <tr>\n",
       "      <th>221</th>\n",
       "      <td>arcsin_10_reps</td>\n",
       "      <td>12500</td>\n",
       "      <td>24.0</td>\n",
       "      <td>98387.63</td>\n",
       "      <td>49193.815</td>\n",
       "      <td>arcsin</td>\n",
       "    </tr>\n",
       "    <tr>\n",
       "      <th>222</th>\n",
       "      <td>logit_14_reps</td>\n",
       "      <td>12500</td>\n",
       "      <td>3.0</td>\n",
       "      <td>98387.63</td>\n",
       "      <td>49193.815</td>\n",
       "      <td>logit</td>\n",
       "    </tr>\n",
       "    <tr>\n",
       "      <th>223</th>\n",
       "      <td>arcsin_14_reps</td>\n",
       "      <td>12500</td>\n",
       "      <td>15.0</td>\n",
       "      <td>98387.63</td>\n",
       "      <td>49193.815</td>\n",
       "      <td>arcsin</td>\n",
       "    </tr>\n",
       "  </tbody>\n",
       "</table>\n",
       "<p>224 rows × 6 columns</p>\n",
       "</div>"
      ],
      "text/plain": [
       "             method     mu  hit_rate  mean_count  mean_replicate_count  \\\n",
       "0      logit_2_reps    250       0.0     1957.24               978.620   \n",
       "1     arcsin_2_reps    250       5.0     1957.24               978.620   \n",
       "2      logit_3_reps    250       0.0     1957.24               978.620   \n",
       "3     arcsin_3_reps    250       4.0     1957.24               978.620   \n",
       "4      logit_4_reps    250       0.0     1957.24               978.620   \n",
       "..              ...    ...       ...         ...                   ...   \n",
       "219   arcsin_8_reps  12500      34.0    98387.63             49193.815   \n",
       "220   logit_10_reps  12500      10.0    98387.63             49193.815   \n",
       "221  arcsin_10_reps  12500      24.0    98387.63             49193.815   \n",
       "222   logit_14_reps  12500       3.0    98387.63             49193.815   \n",
       "223  arcsin_14_reps  12500      15.0    98387.63             49193.815   \n",
       "\n",
       "    Transform  \n",
       "0       logit  \n",
       "1      arcsin  \n",
       "2       logit  \n",
       "3      arcsin  \n",
       "4       logit  \n",
       "..        ...  \n",
       "219    arcsin  \n",
       "220     logit  \n",
       "221    arcsin  \n",
       "222     logit  \n",
       "223    arcsin  \n",
       "\n",
       "[224 rows x 6 columns]"
      ]
     },
     "execution_count": 126,
     "metadata": {},
     "output_type": "execute_result"
    }
   ],
   "source": [
    "hit_rates = calc_hitrates(all_results, compare_p_values)\n",
    "# add mean cell counts\n",
    "hit_rates['mean_count'] = np.repeat(mean_counts, len(methods))\n",
    "# add sample mean cell counts\n",
    "hit_rates['mean_replicate_count'] = np.repeat(mean_replicate_count, len(methods))\n",
    "# add transofrmation as seperate column\n",
    "hit_rates['Transform'] = hit_rates['method'].str.split('_').str[0]\n",
    "\n",
    "hit_rates"
   ]
  },
  {
   "cell_type": "code",
   "execution_count": 127,
   "id": "456675e9",
   "metadata": {},
   "outputs": [],
   "source": [
    "# save\n",
    "hit_rates.to_csv(f'{OUT_PATH}/benchmark_hitrates.tsv', sep='\\t')"
   ]
  },
  {
   "cell_type": "markdown",
   "id": "61562944",
   "metadata": {},
   "source": [
    "#### specificity, sensitivity and fpr"
   ]
  },
  {
   "cell_type": "code",
   "execution_count": 130,
   "id": "3ee17bed",
   "metadata": {},
   "outputs": [
    {
     "data": {
      "text/html": [
       "<div>\n",
       "<style scoped>\n",
       "    .dataframe tbody tr th:only-of-type {\n",
       "        vertical-align: middle;\n",
       "    }\n",
       "\n",
       "    .dataframe tbody tr th {\n",
       "        vertical-align: top;\n",
       "    }\n",
       "\n",
       "    .dataframe thead th {\n",
       "        text-align: right;\n",
       "    }\n",
       "</style>\n",
       "<table border=\"1\" class=\"dataframe\">\n",
       "  <thead>\n",
       "    <tr style=\"text-align: right;\">\n",
       "      <th></th>\n",
       "      <th>method</th>\n",
       "      <th>sensitivity</th>\n",
       "      <th>specificity</th>\n",
       "      <th>fpr</th>\n",
       "      <th>accuracy</th>\n",
       "      <th>auroc</th>\n",
       "      <th>mean_replicate_count</th>\n",
       "      <th>reps</th>\n",
       "      <th>Transform</th>\n",
       "    </tr>\n",
       "  </thead>\n",
       "  <tbody>\n",
       "    <tr>\n",
       "      <th>0</th>\n",
       "      <td>logit_2_reps</td>\n",
       "      <td>0.346667</td>\n",
       "      <td>0.9900</td>\n",
       "      <td>0.0100</td>\n",
       "      <td>0.714286</td>\n",
       "      <td>0.668333</td>\n",
       "      <td>978.620</td>\n",
       "      <td>2</td>\n",
       "      <td>logit</td>\n",
       "    </tr>\n",
       "    <tr>\n",
       "      <th>1</th>\n",
       "      <td>arcsin_2_reps</td>\n",
       "      <td>0.663333</td>\n",
       "      <td>0.9125</td>\n",
       "      <td>0.0875</td>\n",
       "      <td>0.805714</td>\n",
       "      <td>0.787917</td>\n",
       "      <td>978.620</td>\n",
       "      <td>2</td>\n",
       "      <td>arcsin</td>\n",
       "    </tr>\n",
       "    <tr>\n",
       "      <th>2</th>\n",
       "      <td>logit_3_reps</td>\n",
       "      <td>0.396667</td>\n",
       "      <td>1.0000</td>\n",
       "      <td>0.0000</td>\n",
       "      <td>0.741429</td>\n",
       "      <td>0.698333</td>\n",
       "      <td>978.620</td>\n",
       "      <td>3</td>\n",
       "      <td>logit</td>\n",
       "    </tr>\n",
       "    <tr>\n",
       "      <th>3</th>\n",
       "      <td>arcsin_3_reps</td>\n",
       "      <td>0.623333</td>\n",
       "      <td>0.9425</td>\n",
       "      <td>0.0575</td>\n",
       "      <td>0.805714</td>\n",
       "      <td>0.782917</td>\n",
       "      <td>978.620</td>\n",
       "      <td>3</td>\n",
       "      <td>arcsin</td>\n",
       "    </tr>\n",
       "    <tr>\n",
       "      <th>4</th>\n",
       "      <td>logit_4_reps</td>\n",
       "      <td>0.266667</td>\n",
       "      <td>1.0000</td>\n",
       "      <td>0.0000</td>\n",
       "      <td>0.685714</td>\n",
       "      <td>0.633333</td>\n",
       "      <td>978.620</td>\n",
       "      <td>4</td>\n",
       "      <td>logit</td>\n",
       "    </tr>\n",
       "    <tr>\n",
       "      <th>...</th>\n",
       "      <td>...</td>\n",
       "      <td>...</td>\n",
       "      <td>...</td>\n",
       "      <td>...</td>\n",
       "      <td>...</td>\n",
       "      <td>...</td>\n",
       "      <td>...</td>\n",
       "      <td>...</td>\n",
       "      <td>...</td>\n",
       "    </tr>\n",
       "    <tr>\n",
       "      <th>219</th>\n",
       "      <td>arcsin_8_reps</td>\n",
       "      <td>0.860000</td>\n",
       "      <td>0.8300</td>\n",
       "      <td>0.1700</td>\n",
       "      <td>0.842857</td>\n",
       "      <td>0.845000</td>\n",
       "      <td>49193.815</td>\n",
       "      <td>8</td>\n",
       "      <td>arcsin</td>\n",
       "    </tr>\n",
       "    <tr>\n",
       "      <th>220</th>\n",
       "      <td>logit_10_reps</td>\n",
       "      <td>0.530000</td>\n",
       "      <td>0.9825</td>\n",
       "      <td>0.0175</td>\n",
       "      <td>0.788571</td>\n",
       "      <td>0.756250</td>\n",
       "      <td>49193.815</td>\n",
       "      <td>10</td>\n",
       "      <td>logit</td>\n",
       "    </tr>\n",
       "    <tr>\n",
       "      <th>221</th>\n",
       "      <td>arcsin_10_reps</td>\n",
       "      <td>0.723333</td>\n",
       "      <td>0.9250</td>\n",
       "      <td>0.0750</td>\n",
       "      <td>0.838571</td>\n",
       "      <td>0.824167</td>\n",
       "      <td>49193.815</td>\n",
       "      <td>10</td>\n",
       "      <td>arcsin</td>\n",
       "    </tr>\n",
       "    <tr>\n",
       "      <th>222</th>\n",
       "      <td>logit_14_reps</td>\n",
       "      <td>0.306667</td>\n",
       "      <td>0.9950</td>\n",
       "      <td>0.0050</td>\n",
       "      <td>0.700000</td>\n",
       "      <td>0.650833</td>\n",
       "      <td>49193.815</td>\n",
       "      <td>14</td>\n",
       "      <td>logit</td>\n",
       "    </tr>\n",
       "    <tr>\n",
       "      <th>223</th>\n",
       "      <td>arcsin_14_reps</td>\n",
       "      <td>0.553333</td>\n",
       "      <td>0.9625</td>\n",
       "      <td>0.0375</td>\n",
       "      <td>0.787143</td>\n",
       "      <td>0.757917</td>\n",
       "      <td>49193.815</td>\n",
       "      <td>14</td>\n",
       "      <td>arcsin</td>\n",
       "    </tr>\n",
       "  </tbody>\n",
       "</table>\n",
       "<p>224 rows × 9 columns</p>\n",
       "</div>"
      ],
      "text/plain": [
       "             method  sensitivity  specificity     fpr  accuracy     auroc  \\\n",
       "0      logit_2_reps     0.346667       0.9900  0.0100  0.714286  0.668333   \n",
       "1     arcsin_2_reps     0.663333       0.9125  0.0875  0.805714  0.787917   \n",
       "2      logit_3_reps     0.396667       1.0000  0.0000  0.741429  0.698333   \n",
       "3     arcsin_3_reps     0.623333       0.9425  0.0575  0.805714  0.782917   \n",
       "4      logit_4_reps     0.266667       1.0000  0.0000  0.685714  0.633333   \n",
       "..              ...          ...          ...     ...       ...       ...   \n",
       "219   arcsin_8_reps     0.860000       0.8300  0.1700  0.842857  0.845000   \n",
       "220   logit_10_reps     0.530000       0.9825  0.0175  0.788571  0.756250   \n",
       "221  arcsin_10_reps     0.723333       0.9250  0.0750  0.838571  0.824167   \n",
       "222   logit_14_reps     0.306667       0.9950  0.0050  0.700000  0.650833   \n",
       "223  arcsin_14_reps     0.553333       0.9625  0.0375  0.787143  0.757917   \n",
       "\n",
       "     mean_replicate_count reps Transform  \n",
       "0                 978.620    2     logit  \n",
       "1                 978.620    2    arcsin  \n",
       "2                 978.620    3     logit  \n",
       "3                 978.620    3    arcsin  \n",
       "4                 978.620    4     logit  \n",
       "..                    ...  ...       ...  \n",
       "219             49193.815    8    arcsin  \n",
       "220             49193.815   10     logit  \n",
       "221             49193.815   10    arcsin  \n",
       "222             49193.815   14     logit  \n",
       "223             49193.815   14    arcsin  \n",
       "\n",
       "[224 rows x 9 columns]"
      ]
     },
     "execution_count": 130,
     "metadata": {},
     "output_type": "execute_result"
    }
   ],
   "source": [
    "stats = get_stats(p_values, mean_replicate_count, n_sims=100)\n",
    "stats"
   ]
  },
  {
   "cell_type": "code",
   "execution_count": 131,
   "id": "345b8c98",
   "metadata": {},
   "outputs": [],
   "source": [
    "# save\n",
    "stats.to_csv(f'{OUT_PATH}/benchmark_stats.tsv', sep='\\t')"
   ]
  },
  {
   "cell_type": "code",
   "execution_count": 132,
   "id": "afb75cfb",
   "metadata": {},
   "outputs": [
    {
     "data": {
      "text/html": [
       "<div>\n",
       "<style scoped>\n",
       "    .dataframe tbody tr th:only-of-type {\n",
       "        vertical-align: middle;\n",
       "    }\n",
       "\n",
       "    .dataframe tbody tr th {\n",
       "        vertical-align: top;\n",
       "    }\n",
       "\n",
       "    .dataframe thead th {\n",
       "        text-align: right;\n",
       "    }\n",
       "</style>\n",
       "<table border=\"1\" class=\"dataframe\">\n",
       "  <thead>\n",
       "    <tr style=\"text-align: right;\">\n",
       "      <th></th>\n",
       "      <th>method</th>\n",
       "      <th>sensitivity</th>\n",
       "      <th>specificity</th>\n",
       "      <th>fpr</th>\n",
       "      <th>accuracy</th>\n",
       "      <th>auroc</th>\n",
       "      <th>mean_replicate_count</th>\n",
       "      <th>reps</th>\n",
       "      <th>Transform</th>\n",
       "    </tr>\n",
       "  </thead>\n",
       "  <tbody>\n",
       "    <tr>\n",
       "      <th>1</th>\n",
       "      <td>arcsin_2_reps</td>\n",
       "      <td>0.663333</td>\n",
       "      <td>0.9125</td>\n",
       "      <td>0.0875</td>\n",
       "      <td>0.805714</td>\n",
       "      <td>0.787917</td>\n",
       "      <td>978.620</td>\n",
       "      <td>2</td>\n",
       "      <td>arcsin</td>\n",
       "    </tr>\n",
       "    <tr>\n",
       "      <th>15</th>\n",
       "      <td>arcsin_2_reps</td>\n",
       "      <td>0.796667</td>\n",
       "      <td>0.8100</td>\n",
       "      <td>0.1900</td>\n",
       "      <td>0.804286</td>\n",
       "      <td>0.803333</td>\n",
       "      <td>1972.685</td>\n",
       "      <td>2</td>\n",
       "      <td>arcsin</td>\n",
       "    </tr>\n",
       "    <tr>\n",
       "      <th>31</th>\n",
       "      <td>arcsin_3_reps</td>\n",
       "      <td>0.813333</td>\n",
       "      <td>0.7950</td>\n",
       "      <td>0.2050</td>\n",
       "      <td>0.802857</td>\n",
       "      <td>0.804167</td>\n",
       "      <td>2956.855</td>\n",
       "      <td>3</td>\n",
       "      <td>arcsin</td>\n",
       "    </tr>\n",
       "    <tr>\n",
       "      <th>42</th>\n",
       "      <td>logit_2_reps</td>\n",
       "      <td>0.863333</td>\n",
       "      <td>0.7575</td>\n",
       "      <td>0.2425</td>\n",
       "      <td>0.802857</td>\n",
       "      <td>0.810417</td>\n",
       "      <td>3938.335</td>\n",
       "      <td>2</td>\n",
       "      <td>logit</td>\n",
       "    </tr>\n",
       "    <tr>\n",
       "      <th>61</th>\n",
       "      <td>arcsin_4_reps</td>\n",
       "      <td>0.810000</td>\n",
       "      <td>0.7900</td>\n",
       "      <td>0.2100</td>\n",
       "      <td>0.798571</td>\n",
       "      <td>0.800000</td>\n",
       "      <td>4917.685</td>\n",
       "      <td>4</td>\n",
       "      <td>arcsin</td>\n",
       "    </tr>\n",
       "    <tr>\n",
       "      <th>76</th>\n",
       "      <td>logit_5_reps</td>\n",
       "      <td>0.650000</td>\n",
       "      <td>0.9600</td>\n",
       "      <td>0.0400</td>\n",
       "      <td>0.827143</td>\n",
       "      <td>0.805000</td>\n",
       "      <td>5904.130</td>\n",
       "      <td>5</td>\n",
       "      <td>logit</td>\n",
       "    </tr>\n",
       "    <tr>\n",
       "      <th>90</th>\n",
       "      <td>logit_5_reps</td>\n",
       "      <td>0.700000</td>\n",
       "      <td>0.9050</td>\n",
       "      <td>0.0950</td>\n",
       "      <td>0.817143</td>\n",
       "      <td>0.802500</td>\n",
       "      <td>7867.800</td>\n",
       "      <td>5</td>\n",
       "      <td>logit</td>\n",
       "    </tr>\n",
       "    <tr>\n",
       "      <th>105</th>\n",
       "      <td>arcsin_5_reps</td>\n",
       "      <td>0.846667</td>\n",
       "      <td>0.7700</td>\n",
       "      <td>0.2300</td>\n",
       "      <td>0.802857</td>\n",
       "      <td>0.808333</td>\n",
       "      <td>9837.580</td>\n",
       "      <td>5</td>\n",
       "      <td>arcsin</td>\n",
       "    </tr>\n",
       "    <tr>\n",
       "      <th>118</th>\n",
       "      <td>logit_5_reps</td>\n",
       "      <td>0.806667</td>\n",
       "      <td>0.8125</td>\n",
       "      <td>0.1875</td>\n",
       "      <td>0.810000</td>\n",
       "      <td>0.809583</td>\n",
       "      <td>13766.055</td>\n",
       "      <td>5</td>\n",
       "      <td>logit</td>\n",
       "    </tr>\n",
       "    <tr>\n",
       "      <th>135</th>\n",
       "      <td>arcsin_8_reps</td>\n",
       "      <td>0.716667</td>\n",
       "      <td>0.9250</td>\n",
       "      <td>0.0750</td>\n",
       "      <td>0.835714</td>\n",
       "      <td>0.820833</td>\n",
       "      <td>19671.785</td>\n",
       "      <td>8</td>\n",
       "      <td>arcsin</td>\n",
       "    </tr>\n",
       "    <tr>\n",
       "      <th>149</th>\n",
       "      <td>arcsin_8_reps</td>\n",
       "      <td>0.750000</td>\n",
       "      <td>0.9175</td>\n",
       "      <td>0.0825</td>\n",
       "      <td>0.845714</td>\n",
       "      <td>0.833750</td>\n",
       "      <td>23601.630</td>\n",
       "      <td>8</td>\n",
       "      <td>arcsin</td>\n",
       "    </tr>\n",
       "    <tr>\n",
       "      <th>163</th>\n",
       "      <td>arcsin_8_reps</td>\n",
       "      <td>0.770000</td>\n",
       "      <td>0.8750</td>\n",
       "      <td>0.1250</td>\n",
       "      <td>0.830000</td>\n",
       "      <td>0.822500</td>\n",
       "      <td>27537.030</td>\n",
       "      <td>8</td>\n",
       "      <td>arcsin</td>\n",
       "    </tr>\n",
       "    <tr>\n",
       "      <th>177</th>\n",
       "      <td>arcsin_8_reps</td>\n",
       "      <td>0.796667</td>\n",
       "      <td>0.8750</td>\n",
       "      <td>0.1250</td>\n",
       "      <td>0.841429</td>\n",
       "      <td>0.835833</td>\n",
       "      <td>35424.580</td>\n",
       "      <td>8</td>\n",
       "      <td>arcsin</td>\n",
       "    </tr>\n",
       "    <tr>\n",
       "      <th>191</th>\n",
       "      <td>arcsin_8_reps</td>\n",
       "      <td>0.820000</td>\n",
       "      <td>0.8625</td>\n",
       "      <td>0.1375</td>\n",
       "      <td>0.844286</td>\n",
       "      <td>0.841250</td>\n",
       "      <td>39346.910</td>\n",
       "      <td>8</td>\n",
       "      <td>arcsin</td>\n",
       "    </tr>\n",
       "    <tr>\n",
       "      <th>205</th>\n",
       "      <td>arcsin_8_reps</td>\n",
       "      <td>0.830000</td>\n",
       "      <td>0.8350</td>\n",
       "      <td>0.1650</td>\n",
       "      <td>0.832857</td>\n",
       "      <td>0.832500</td>\n",
       "      <td>43280.780</td>\n",
       "      <td>8</td>\n",
       "      <td>arcsin</td>\n",
       "    </tr>\n",
       "    <tr>\n",
       "      <th>219</th>\n",
       "      <td>arcsin_8_reps</td>\n",
       "      <td>0.860000</td>\n",
       "      <td>0.8300</td>\n",
       "      <td>0.1700</td>\n",
       "      <td>0.842857</td>\n",
       "      <td>0.845000</td>\n",
       "      <td>49193.815</td>\n",
       "      <td>8</td>\n",
       "      <td>arcsin</td>\n",
       "    </tr>\n",
       "  </tbody>\n",
       "</table>\n",
       "</div>"
      ],
      "text/plain": [
       "            method  sensitivity  specificity     fpr  accuracy     auroc  \\\n",
       "1    arcsin_2_reps     0.663333       0.9125  0.0875  0.805714  0.787917   \n",
       "15   arcsin_2_reps     0.796667       0.8100  0.1900  0.804286  0.803333   \n",
       "31   arcsin_3_reps     0.813333       0.7950  0.2050  0.802857  0.804167   \n",
       "42    logit_2_reps     0.863333       0.7575  0.2425  0.802857  0.810417   \n",
       "61   arcsin_4_reps     0.810000       0.7900  0.2100  0.798571  0.800000   \n",
       "76    logit_5_reps     0.650000       0.9600  0.0400  0.827143  0.805000   \n",
       "90    logit_5_reps     0.700000       0.9050  0.0950  0.817143  0.802500   \n",
       "105  arcsin_5_reps     0.846667       0.7700  0.2300  0.802857  0.808333   \n",
       "118   logit_5_reps     0.806667       0.8125  0.1875  0.810000  0.809583   \n",
       "135  arcsin_8_reps     0.716667       0.9250  0.0750  0.835714  0.820833   \n",
       "149  arcsin_8_reps     0.750000       0.9175  0.0825  0.845714  0.833750   \n",
       "163  arcsin_8_reps     0.770000       0.8750  0.1250  0.830000  0.822500   \n",
       "177  arcsin_8_reps     0.796667       0.8750  0.1250  0.841429  0.835833   \n",
       "191  arcsin_8_reps     0.820000       0.8625  0.1375  0.844286  0.841250   \n",
       "205  arcsin_8_reps     0.830000       0.8350  0.1650  0.832857  0.832500   \n",
       "219  arcsin_8_reps     0.860000       0.8300  0.1700  0.842857  0.845000   \n",
       "\n",
       "     mean_replicate_count reps Transform  \n",
       "1                 978.620    2    arcsin  \n",
       "15               1972.685    2    arcsin  \n",
       "31               2956.855    3    arcsin  \n",
       "42               3938.335    2     logit  \n",
       "61               4917.685    4    arcsin  \n",
       "76               5904.130    5     logit  \n",
       "90               7867.800    5     logit  \n",
       "105              9837.580    5    arcsin  \n",
       "118             13766.055    5     logit  \n",
       "135             19671.785    8    arcsin  \n",
       "149             23601.630    8    arcsin  \n",
       "163             27537.030    8    arcsin  \n",
       "177             35424.580    8    arcsin  \n",
       "191             39346.910    8    arcsin  \n",
       "205             43280.780    8    arcsin  \n",
       "219             49193.815    8    arcsin  "
      ]
     },
     "execution_count": 132,
     "metadata": {},
     "output_type": "execute_result"
    }
   ],
   "source": [
    "# get best auroc for each mean count\n",
    "best_auroc = stats.sort_values('auroc', ascending=False).drop_duplicates('mean_replicate_count').sort_values('mean_replicate_count')\n",
    "best_auroc"
   ]
  },
  {
   "cell_type": "code",
   "execution_count": 133,
   "id": "d2b4580b",
   "metadata": {},
   "outputs": [],
   "source": [
    "# save\n",
    "best_auroc.to_csv(f'{OUT_PATH}/benchmark_best_auroc.tsv', sep='\\t')"
   ]
  }
 ],
 "metadata": {
  "kernelspec": {
   "display_name": "scanpro_analysis",
   "language": "python",
   "name": "scanpro_analysis"
  },
  "language_info": {
   "codemirror_mode": {
    "name": "ipython",
    "version": 3
   },
   "file_extension": ".py",
   "mimetype": "text/x-python",
   "name": "python",
   "nbconvert_exporter": "python",
   "pygments_lexer": "ipython3",
   "version": "3.9.18"
  }
 },
 "nbformat": 4,
 "nbformat_minor": 5
}
